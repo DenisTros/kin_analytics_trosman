{
 "cells": [
  {
   "cell_type": "markdown",
   "metadata": {},
   "source": [
    "# Kin Analytics Exercise - Trosman Denis - Churn Prediction"
   ]
  },
  {
   "cell_type": "markdown",
   "metadata": {},
   "source": [
    "# Import libraries"
   ]
  },
  {
   "cell_type": "code",
   "execution_count": 1,
   "metadata": {},
   "outputs": [],
   "source": [
    "import pandas as pd\n",
    "import numpy as np\n",
    "import matplotlib.pyplot as plt\n",
    "import seaborn as sns\n",
    "\n",
    "import warnings\n",
    "warnings.filterwarnings('ignore')\n",
    "\n",
    "# Configs\n",
    "pd.options.display.float_format = '{:.2f}'.format\n",
    "pd.set_option('display.max_colwidth', None)\n",
    "pd.set_option('display.max_columns', None)\n",
    "color_pal = sns.color_palette()\n",
    "plt.style.use('fivethirtyeight')"
   ]
  },
  {
   "cell_type": "markdown",
   "metadata": {},
   "source": [
    "# Read Files"
   ]
  },
  {
   "cell_type": "markdown",
   "metadata": {},
   "source": [
    "### Clients"
   ]
  },
  {
   "cell_type": "code",
   "execution_count": 2,
   "metadata": {},
   "outputs": [
    {
     "data": {
      "text/html": [
       "<div>\n",
       "<style scoped>\n",
       "    .dataframe tbody tr th:only-of-type {\n",
       "        vertical-align: middle;\n",
       "    }\n",
       "\n",
       "    .dataframe tbody tr th {\n",
       "        vertical-align: top;\n",
       "    }\n",
       "\n",
       "    .dataframe thead th {\n",
       "        text-align: right;\n",
       "    }\n",
       "</style>\n",
       "<table border=\"1\" class=\"dataframe\">\n",
       "  <thead>\n",
       "    <tr style=\"text-align: right;\">\n",
       "      <th></th>\n",
       "      <th>CustomerId</th>\n",
       "      <th>Surname</th>\n",
       "      <th>Geography</th>\n",
       "      <th>Gender</th>\n",
       "      <th>HasCrCard</th>\n",
       "      <th>IsActiveMember</th>\n",
       "      <th>EstimatedSalary</th>\n",
       "      <th>application_date</th>\n",
       "      <th>exit_date</th>\n",
       "      <th>birth_date</th>\n",
       "    </tr>\n",
       "  </thead>\n",
       "  <tbody>\n",
       "    <tr>\n",
       "      <th>0</th>\n",
       "      <td>15745584</td>\n",
       "      <td>EIRLS</td>\n",
       "      <td>Germany</td>\n",
       "      <td>Female</td>\n",
       "      <td>0.00</td>\n",
       "      <td>1.00</td>\n",
       "      <td>0.00</td>\n",
       "      <td>2018-12-14</td>\n",
       "      <td>NaT</td>\n",
       "      <td>1997-09-18</td>\n",
       "    </tr>\n",
       "    <tr>\n",
       "      <th>1</th>\n",
       "      <td>14990118</td>\n",
       "      <td>MOLOCK</td>\n",
       "      <td>Italy</td>\n",
       "      <td>Male</td>\n",
       "      <td>1.00</td>\n",
       "      <td>0.00</td>\n",
       "      <td>121219.28</td>\n",
       "      <td>2019-01-08</td>\n",
       "      <td>NaT</td>\n",
       "      <td>1980-08-03</td>\n",
       "    </tr>\n",
       "    <tr>\n",
       "      <th>2</th>\n",
       "      <td>14733224</td>\n",
       "      <td>PAWLUCH</td>\n",
       "      <td>Italy</td>\n",
       "      <td>Female</td>\n",
       "      <td>1.00</td>\n",
       "      <td>1.00</td>\n",
       "      <td>159663.59</td>\n",
       "      <td>2012-08-01</td>\n",
       "      <td>2013-08-09</td>\n",
       "      <td>1977-08-19</td>\n",
       "    </tr>\n",
       "    <tr>\n",
       "      <th>3</th>\n",
       "      <td>14648573</td>\n",
       "      <td>NALLS</td>\n",
       "      <td>Spain</td>\n",
       "      <td>Male</td>\n",
       "      <td>1.00</td>\n",
       "      <td>0.00</td>\n",
       "      <td>140827.98</td>\n",
       "      <td>2019-06-19</td>\n",
       "      <td>NaT</td>\n",
       "      <td>1979-02-27</td>\n",
       "    </tr>\n",
       "    <tr>\n",
       "      <th>4</th>\n",
       "      <td>15365443</td>\n",
       "      <td>EBERLE</td>\n",
       "      <td>Italy</td>\n",
       "      <td>Male</td>\n",
       "      <td>1.00</td>\n",
       "      <td>0.00</td>\n",
       "      <td>35521.28</td>\n",
       "      <td>2014-01-26</td>\n",
       "      <td>2015-12-04</td>\n",
       "      <td>1972-12-21</td>\n",
       "    </tr>\n",
       "  </tbody>\n",
       "</table>\n",
       "</div>"
      ],
      "text/plain": [
       "   CustomerId  Surname Geography  Gender  HasCrCard  IsActiveMember  \\\n",
       "0    15745584    EIRLS   Germany  Female       0.00            1.00   \n",
       "1    14990118   MOLOCK     Italy    Male       1.00            0.00   \n",
       "2    14733224  PAWLUCH     Italy  Female       1.00            1.00   \n",
       "3    14648573    NALLS     Spain    Male       1.00            0.00   \n",
       "4    15365443   EBERLE     Italy    Male       1.00            0.00   \n",
       "\n",
       "   EstimatedSalary application_date  exit_date birth_date  \n",
       "0             0.00       2018-12-14        NaT 1997-09-18  \n",
       "1        121219.28       2019-01-08        NaT 1980-08-03  \n",
       "2        159663.59       2012-08-01 2013-08-09 1977-08-19  \n",
       "3        140827.98       2019-06-19        NaT 1979-02-27  \n",
       "4         35521.28       2014-01-26 2015-12-04 1972-12-21  "
      ]
     },
     "execution_count": 2,
     "metadata": {},
     "output_type": "execute_result"
    }
   ],
   "source": [
    "date_cols_clients = ['application_date','birth_date','exit_date']\n",
    "df_clients = pd.read_csv('../data/clients_table.txt', parse_dates=date_cols_clients)\n",
    "df_clients.head()"
   ]
  },
  {
   "cell_type": "code",
   "execution_count": 3,
   "metadata": {},
   "outputs": [
    {
     "name": "stdout",
     "output_type": "stream",
     "text": [
      "Number of rows: 1545000, Number of columns:10\n",
      "\n",
      " Duplicated amount: 45000\n",
      "\n",
      "------------------------------Number of null values------------------------------\n",
      "CustomerId               0\n",
      "Surname              74916\n",
      "Geography            58459\n",
      "Gender               74886\n",
      "HasCrCard            74886\n",
      "IsActiveMember       74886\n",
      "EstimatedSalary      74886\n",
      "application_date         0\n",
      "exit_date           490414\n",
      "birth_date           74886\n",
      "dtype: int64\n",
      "------------------------------Type of variables------------------------------\n"
     ]
    },
    {
     "data": {
      "text/plain": [
       "CustomerId                   int64\n",
       "Surname                     object\n",
       "Geography                   object\n",
       "Gender                      object\n",
       "HasCrCard                  float64\n",
       "IsActiveMember             float64\n",
       "EstimatedSalary            float64\n",
       "application_date    datetime64[ns]\n",
       "exit_date           datetime64[ns]\n",
       "birth_date          datetime64[ns]\n",
       "dtype: object"
      ]
     },
     "execution_count": 3,
     "metadata": {},
     "output_type": "execute_result"
    }
   ],
   "source": [
    "print(f'Number of rows: {df_clients.shape[0]}, Number of columns:{df_clients.shape[1]}')\n",
    "print(f'\\n Duplicated amount: {df_clients.duplicated().sum()}\\n')\n",
    "print('-'*30 + 'Number of null values' +'-'*30)\n",
    "print(df_clients.isna().sum())\n",
    "print('-'*30 + 'Type of variables' +'-'*30)\n",
    "df_clients.dtypes"
   ]
  },
  {
   "cell_type": "markdown",
   "metadata": {},
   "source": [
    "### Credit score"
   ]
  },
  {
   "cell_type": "code",
   "execution_count": 4,
   "metadata": {},
   "outputs": [
    {
     "data": {
      "text/html": [
       "<div>\n",
       "<style scoped>\n",
       "    .dataframe tbody tr th:only-of-type {\n",
       "        vertical-align: middle;\n",
       "    }\n",
       "\n",
       "    .dataframe tbody tr th {\n",
       "        vertical-align: top;\n",
       "    }\n",
       "\n",
       "    .dataframe thead th {\n",
       "        text-align: right;\n",
       "    }\n",
       "</style>\n",
       "<table border=\"1\" class=\"dataframe\">\n",
       "  <thead>\n",
       "    <tr style=\"text-align: right;\">\n",
       "      <th></th>\n",
       "      <th>CustomerId</th>\n",
       "      <th>Date</th>\n",
       "      <th>Score</th>\n",
       "    </tr>\n",
       "  </thead>\n",
       "  <tbody>\n",
       "    <tr>\n",
       "      <th>0</th>\n",
       "      <td>14759722</td>\n",
       "      <td>2018-07-01</td>\n",
       "      <td>717</td>\n",
       "    </tr>\n",
       "    <tr>\n",
       "      <th>1</th>\n",
       "      <td>15907276</td>\n",
       "      <td>2011-09-01</td>\n",
       "      <td>562</td>\n",
       "    </tr>\n",
       "    <tr>\n",
       "      <th>2</th>\n",
       "      <td>15346641</td>\n",
       "      <td>2013-01-01</td>\n",
       "      <td>604</td>\n",
       "    </tr>\n",
       "    <tr>\n",
       "      <th>3</th>\n",
       "      <td>15595126</td>\n",
       "      <td>2018-08-01</td>\n",
       "      <td>469</td>\n",
       "    </tr>\n",
       "    <tr>\n",
       "      <th>4</th>\n",
       "      <td>15227788</td>\n",
       "      <td>2013-09-01</td>\n",
       "      <td>655</td>\n",
       "    </tr>\n",
       "  </tbody>\n",
       "</table>\n",
       "</div>"
      ],
      "text/plain": [
       "   CustomerId       Date  Score\n",
       "0    14759722 2018-07-01    717\n",
       "1    15907276 2011-09-01    562\n",
       "2    15346641 2013-01-01    604\n",
       "3    15595126 2018-08-01    469\n",
       "4    15227788 2013-09-01    655"
      ]
     },
     "execution_count": 4,
     "metadata": {},
     "output_type": "execute_result"
    }
   ],
   "source": [
    "df_credit_score = pd.read_csv('../data/credit_score_table.txt', parse_dates=['Date'])\n",
    "df_credit_score.head()"
   ]
  },
  {
   "cell_type": "code",
   "execution_count": 5,
   "metadata": {},
   "outputs": [
    {
     "name": "stdout",
     "output_type": "stream",
     "text": [
      "Number of rows: 19500000, Number of columns:3\n"
     ]
    },
    {
     "name": "stdout",
     "output_type": "stream",
     "text": [
      "\n",
      " Duplicated amount: 0\n",
      "\n",
      "------------------------------Number of null values------------------------------\n",
      "CustomerId    0\n",
      "Date          0\n",
      "Score         0\n",
      "dtype: int64\n",
      "------------------------------Type of variables------------------------------\n"
     ]
    },
    {
     "data": {
      "text/plain": [
       "CustomerId             int64\n",
       "Date          datetime64[ns]\n",
       "Score                  int64\n",
       "dtype: object"
      ]
     },
     "execution_count": 5,
     "metadata": {},
     "output_type": "execute_result"
    }
   ],
   "source": [
    "print(f'Number of rows: {df_credit_score.shape[0]}, Number of columns:{df_credit_score.shape[1]}')\n",
    "print(f'\\n Duplicated amount: {df_credit_score.duplicated().sum()}\\n')\n",
    "print('-'*30 + 'Number of null values' +'-'*30)\n",
    "print(df_credit_score.isna().sum())\n",
    "print('-'*30 + 'Type of variables' +'-'*30)\n",
    "df_credit_score.dtypes"
   ]
  },
  {
   "cell_type": "markdown",
   "metadata": {},
   "source": [
    "### Products"
   ]
  },
  {
   "cell_type": "code",
   "execution_count": 6,
   "metadata": {},
   "outputs": [
    {
     "data": {
      "text/html": [
       "<div>\n",
       "<style scoped>\n",
       "    .dataframe tbody tr th:only-of-type {\n",
       "        vertical-align: middle;\n",
       "    }\n",
       "\n",
       "    .dataframe tbody tr th {\n",
       "        vertical-align: top;\n",
       "    }\n",
       "\n",
       "    .dataframe thead th {\n",
       "        text-align: right;\n",
       "    }\n",
       "</style>\n",
       "<table border=\"1\" class=\"dataframe\">\n",
       "  <thead>\n",
       "    <tr style=\"text-align: right;\">\n",
       "      <th></th>\n",
       "      <th>ContractId</th>\n",
       "      <th>CustomerId</th>\n",
       "      <th>Products</th>\n",
       "    </tr>\n",
       "  </thead>\n",
       "  <tbody>\n",
       "    <tr>\n",
       "      <th>0</th>\n",
       "      <td>5Xo9sCduOGo5EhBYhzKrSlLIA</td>\n",
       "      <td>14993808</td>\n",
       "      <td>Product B</td>\n",
       "    </tr>\n",
       "    <tr>\n",
       "      <th>1</th>\n",
       "      <td>3nQbqbnpTeSkYIJWT1UDe1GZ1</td>\n",
       "      <td>15560417</td>\n",
       "      <td>Product B</td>\n",
       "    </tr>\n",
       "    <tr>\n",
       "      <th>2</th>\n",
       "      <td>PD9KwDPOwyJWO6LJKPGBbkrCz</td>\n",
       "      <td>15406428</td>\n",
       "      <td>Product C</td>\n",
       "    </tr>\n",
       "    <tr>\n",
       "      <th>3</th>\n",
       "      <td>IhS7pz8lu07LCZSqYNlL0fuLP</td>\n",
       "      <td>15604313</td>\n",
       "      <td>Product B</td>\n",
       "    </tr>\n",
       "    <tr>\n",
       "      <th>4</th>\n",
       "      <td>ftUey4oVmkZj8RaBVFH6SNzVM</td>\n",
       "      <td>14952409</td>\n",
       "      <td>Product C</td>\n",
       "    </tr>\n",
       "  </tbody>\n",
       "</table>\n",
       "</div>"
      ],
      "text/plain": [
       "                  ContractId  CustomerId   Products\n",
       "0  5Xo9sCduOGo5EhBYhzKrSlLIA    14993808  Product B\n",
       "1  3nQbqbnpTeSkYIJWT1UDe1GZ1    15560417  Product B\n",
       "2  PD9KwDPOwyJWO6LJKPGBbkrCz    15406428  Product C\n",
       "3  IhS7pz8lu07LCZSqYNlL0fuLP    15604313  Product B\n",
       "4  ftUey4oVmkZj8RaBVFH6SNzVM    14952409  Product C"
      ]
     },
     "execution_count": 6,
     "metadata": {},
     "output_type": "execute_result"
    }
   ],
   "source": [
    "df_products = pd.read_csv('../data/products_table.txt')\n",
    "df_products.head()"
   ]
  },
  {
   "cell_type": "code",
   "execution_count": 7,
   "metadata": {},
   "outputs": [
    {
     "name": "stdout",
     "output_type": "stream",
     "text": [
      "Number of rows: 3739192, Number of columns:3\n",
      "\n",
      " Duplicated amount: 0\n",
      "\n",
      "------------------------------Number of null values------------------------------\n",
      "ContractId    0\n",
      "CustomerId    0\n",
      "Products      0\n",
      "dtype: int64\n",
      "------------------------------Type of variables------------------------------\n"
     ]
    },
    {
     "data": {
      "text/plain": [
       "ContractId    object\n",
       "CustomerId     int64\n",
       "Products      object\n",
       "dtype: object"
      ]
     },
     "execution_count": 7,
     "metadata": {},
     "output_type": "execute_result"
    }
   ],
   "source": [
    "print(f'Number of rows: {df_products.shape[0]}, Number of columns:{df_products.shape[1]}')\n",
    "print(f'\\n Duplicated amount: {df_products.duplicated().sum()}\\n')\n",
    "print('-'*30 + 'Number of null values' +'-'*30)\n",
    "print(df_products.isna().sum())\n",
    "print('-'*30 + 'Type of variables' +'-'*30)\n",
    "df_products.dtypes"
   ]
  },
  {
   "cell_type": "markdown",
   "metadata": {},
   "source": [
    "### Transactions"
   ]
  },
  {
   "cell_type": "code",
   "execution_count": 8,
   "metadata": {},
   "outputs": [
    {
     "data": {
      "text/html": [
       "<div>\n",
       "<style scoped>\n",
       "    .dataframe tbody tr th:only-of-type {\n",
       "        vertical-align: middle;\n",
       "    }\n",
       "\n",
       "    .dataframe tbody tr th {\n",
       "        vertical-align: top;\n",
       "    }\n",
       "\n",
       "    .dataframe thead th {\n",
       "        text-align: right;\n",
       "    }\n",
       "</style>\n",
       "<table border=\"1\" class=\"dataframe\">\n",
       "  <thead>\n",
       "    <tr style=\"text-align: right;\">\n",
       "      <th></th>\n",
       "      <th>CustomerId</th>\n",
       "      <th>Transaction</th>\n",
       "      <th>Value</th>\n",
       "    </tr>\n",
       "  </thead>\n",
       "  <tbody>\n",
       "    <tr>\n",
       "      <th>0</th>\n",
       "      <td>15653320</td>\n",
       "      <td>trans_4</td>\n",
       "      <td>-294.03</td>\n",
       "    </tr>\n",
       "    <tr>\n",
       "      <th>1</th>\n",
       "      <td>14955663</td>\n",
       "      <td>trans_3</td>\n",
       "      <td>1297.97</td>\n",
       "    </tr>\n",
       "    <tr>\n",
       "      <th>2</th>\n",
       "      <td>15218505</td>\n",
       "      <td>trans_4</td>\n",
       "      <td>191.28</td>\n",
       "    </tr>\n",
       "    <tr>\n",
       "      <th>3</th>\n",
       "      <td>15391934</td>\n",
       "      <td>trans_3</td>\n",
       "      <td>2299.07</td>\n",
       "    </tr>\n",
       "    <tr>\n",
       "      <th>4</th>\n",
       "      <td>14847291</td>\n",
       "      <td>trans_3</td>\n",
       "      <td>1612.10</td>\n",
       "    </tr>\n",
       "  </tbody>\n",
       "</table>\n",
       "</div>"
      ],
      "text/plain": [
       "   CustomerId Transaction   Value\n",
       "0    15653320     trans_4 -294.03\n",
       "1    14955663     trans_3 1297.97\n",
       "2    15218505     trans_4  191.28\n",
       "3    15391934     trans_3 2299.07\n",
       "4    14847291     trans_3 1612.10"
      ]
     },
     "execution_count": 8,
     "metadata": {},
     "output_type": "execute_result"
    }
   ],
   "source": [
    "df_transactions = pd.read_csv('../data/transactions_table.txt')\n",
    "df_transactions.head()"
   ]
  },
  {
   "cell_type": "code",
   "execution_count": 9,
   "metadata": {},
   "outputs": [
    {
     "name": "stdout",
     "output_type": "stream",
     "text": [
      "Number of rows: 7500000, Number of columns:3\n",
      "\n",
      " Duplicated amount: 0\n",
      "\n",
      "------------------------------Number of null values------------------------------\n",
      "CustomerId     0\n",
      "Transaction    0\n",
      "Value          0\n",
      "dtype: int64\n",
      "------------------------------Type of variables------------------------------\n"
     ]
    },
    {
     "data": {
      "text/plain": [
       "CustomerId       int64\n",
       "Transaction     object\n",
       "Value          float64\n",
       "dtype: object"
      ]
     },
     "execution_count": 9,
     "metadata": {},
     "output_type": "execute_result"
    }
   ],
   "source": [
    "print(f'Number of rows: {df_transactions.shape[0]}, Number of columns:{df_transactions.shape[1]}')\n",
    "print(f'\\n Duplicated amount: {df_transactions.duplicated().sum()}\\n')\n",
    "print('-'*30 + 'Number of null values' +'-'*30)\n",
    "print(df_transactions.isna().sum())\n",
    "print('-'*30 + 'Type of variables' +'-'*30)\n",
    "df_transactions.dtypes"
   ]
  },
  {
   "cell_type": "markdown",
   "metadata": {},
   "source": [
    "# Data cleansing"
   ]
  },
  {
   "cell_type": "markdown",
   "metadata": {},
   "source": [
    "### Clients database filtering"
   ]
  },
  {
   "cell_type": "code",
   "execution_count": 10,
   "metadata": {},
   "outputs": [
    {
     "data": {
      "text/html": [
       "<div>\n",
       "<style scoped>\n",
       "    .dataframe tbody tr th:only-of-type {\n",
       "        vertical-align: middle;\n",
       "    }\n",
       "\n",
       "    .dataframe tbody tr th {\n",
       "        vertical-align: top;\n",
       "    }\n",
       "\n",
       "    .dataframe thead th {\n",
       "        text-align: right;\n",
       "    }\n",
       "</style>\n",
       "<table border=\"1\" class=\"dataframe\">\n",
       "  <thead>\n",
       "    <tr style=\"text-align: right;\">\n",
       "      <th></th>\n",
       "      <th>CustomerId</th>\n",
       "      <th>Surname</th>\n",
       "      <th>Geography</th>\n",
       "      <th>Gender</th>\n",
       "      <th>HasCrCard</th>\n",
       "      <th>IsActiveMember</th>\n",
       "      <th>EstimatedSalary</th>\n",
       "      <th>application_date</th>\n",
       "      <th>exit_date</th>\n",
       "      <th>birth_date</th>\n",
       "    </tr>\n",
       "  </thead>\n",
       "  <tbody>\n",
       "    <tr>\n",
       "      <th>0</th>\n",
       "      <td>15745584</td>\n",
       "      <td>EIRLS</td>\n",
       "      <td>Germany</td>\n",
       "      <td>Female</td>\n",
       "      <td>0.00</td>\n",
       "      <td>1.00</td>\n",
       "      <td>0.00</td>\n",
       "      <td>2018-12-14</td>\n",
       "      <td>NaT</td>\n",
       "      <td>1997-09-18</td>\n",
       "    </tr>\n",
       "    <tr>\n",
       "      <th>1</th>\n",
       "      <td>14990118</td>\n",
       "      <td>MOLOCK</td>\n",
       "      <td>Italy</td>\n",
       "      <td>Male</td>\n",
       "      <td>1.00</td>\n",
       "      <td>0.00</td>\n",
       "      <td>121219.28</td>\n",
       "      <td>2019-01-08</td>\n",
       "      <td>NaT</td>\n",
       "      <td>1980-08-03</td>\n",
       "    </tr>\n",
       "    <tr>\n",
       "      <th>2</th>\n",
       "      <td>14733224</td>\n",
       "      <td>PAWLUCH</td>\n",
       "      <td>Italy</td>\n",
       "      <td>Female</td>\n",
       "      <td>1.00</td>\n",
       "      <td>1.00</td>\n",
       "      <td>159663.59</td>\n",
       "      <td>2012-08-01</td>\n",
       "      <td>2013-08-09</td>\n",
       "      <td>1977-08-19</td>\n",
       "    </tr>\n",
       "    <tr>\n",
       "      <th>3</th>\n",
       "      <td>14648573</td>\n",
       "      <td>NALLS</td>\n",
       "      <td>Spain</td>\n",
       "      <td>Male</td>\n",
       "      <td>1.00</td>\n",
       "      <td>0.00</td>\n",
       "      <td>140827.98</td>\n",
       "      <td>2019-06-19</td>\n",
       "      <td>NaT</td>\n",
       "      <td>1979-02-27</td>\n",
       "    </tr>\n",
       "    <tr>\n",
       "      <th>4</th>\n",
       "      <td>15365443</td>\n",
       "      <td>EBERLE</td>\n",
       "      <td>Italy</td>\n",
       "      <td>Male</td>\n",
       "      <td>1.00</td>\n",
       "      <td>0.00</td>\n",
       "      <td>35521.28</td>\n",
       "      <td>2014-01-26</td>\n",
       "      <td>2015-12-04</td>\n",
       "      <td>1972-12-21</td>\n",
       "    </tr>\n",
       "  </tbody>\n",
       "</table>\n",
       "</div>"
      ],
      "text/plain": [
       "   CustomerId  Surname Geography  Gender  HasCrCard  IsActiveMember  \\\n",
       "0    15745584    EIRLS   Germany  Female       0.00            1.00   \n",
       "1    14990118   MOLOCK     Italy    Male       1.00            0.00   \n",
       "2    14733224  PAWLUCH     Italy  Female       1.00            1.00   \n",
       "3    14648573    NALLS     Spain    Male       1.00            0.00   \n",
       "4    15365443   EBERLE     Italy    Male       1.00            0.00   \n",
       "\n",
       "   EstimatedSalary application_date  exit_date birth_date  \n",
       "0             0.00       2018-12-14        NaT 1997-09-18  \n",
       "1        121219.28       2019-01-08        NaT 1980-08-03  \n",
       "2        159663.59       2012-08-01 2013-08-09 1977-08-19  \n",
       "3        140827.98       2019-06-19        NaT 1979-02-27  \n",
       "4         35521.28       2014-01-26 2015-12-04 1972-12-21  "
      ]
     },
     "execution_count": 10,
     "metadata": {},
     "output_type": "execute_result"
    }
   ],
   "source": [
    "df_clients.head()"
   ]
  },
  {
   "cell_type": "markdown",
   "metadata": {},
   "source": [
    "#### a. Contracts from 2015 onwards"
   ]
  },
  {
   "cell_type": "code",
   "execution_count": 11,
   "metadata": {},
   "outputs": [],
   "source": [
    "df_clients_f = df_clients[df_clients.application_date > '2015-01-01'].copy()"
   ]
  },
  {
   "cell_type": "markdown",
   "metadata": {},
   "source": [
    "Check minimum date is 2015 onwards"
   ]
  },
  {
   "cell_type": "code",
   "execution_count": 12,
   "metadata": {},
   "outputs": [
    {
     "data": {
      "text/plain": [
       "Timestamp('2015-01-02 00:00:00')"
      ]
     },
     "execution_count": 12,
     "metadata": {},
     "output_type": "execute_result"
    }
   ],
   "source": [
    "df_clients_f.application_date.min()"
   ]
  },
  {
   "cell_type": "markdown",
   "metadata": {},
   "source": [
    "This filter leaves us with 623,237 cases"
   ]
  },
  {
   "cell_type": "code",
   "execution_count": 13,
   "metadata": {},
   "outputs": [
    {
     "data": {
      "text/plain": [
       "(623237, 10)"
      ]
     },
     "execution_count": 13,
     "metadata": {},
     "output_type": "execute_result"
    }
   ],
   "source": [
    "df_clients_f.shape"
   ]
  },
  {
   "cell_type": "markdown",
   "metadata": {},
   "source": [
    "#### b. Operations in Italy were closed in 2019.\n",
    "\n",
    "Even though that's the information provided, there are application dates after 2019, same than other countries.\n",
    "\n",
    "This should be talked with the client to better understand what they meant by that message, and will not be tackled in this exercise."
   ]
  },
  {
   "cell_type": "code",
   "execution_count": 14,
   "metadata": {},
   "outputs": [
    {
     "data": {
      "image/png": "[encoded data removed]",
      "text/plain": [
       "<Figure size 432x288 with 1 Axes>"
      ]
     },
     "metadata": {
      "needs_background": "light"
     },
     "output_type": "display_data"
    }
   ],
   "source": [
    "italy_data = df_clients_f[df_clients_f.Geography == 'Italy']\n",
    "\n",
    "melted_data = pd.melt(italy_data[['application_date', 'exit_date']], var_name='event_type', value_name='date')\n",
    "melted_data['year_month'] = melted_data['date'].dt.to_period('M')\n",
    "melted_data = melted_data.sort_values('year_month')\n",
    "ax = sns.countplot(x='year_month', data=melted_data, hue='event_type', palette={'application_date': 'blue', 'exit_date': 'red'})\n",
    "ax.legend(title='', bbox_to_anchor=(1.05, 1), loc='upper left')\n",
    "plt.title('Number of customers by year-month - Italy')\n",
    "plt.xticks(rotation=45, ha='right')\n",
    "plt.show()"
   ]
  },
  {
   "cell_type": "markdown",
   "metadata": {},
   "source": [
    "#### c. Take out clients with more than 75% of their info missing"
   ]
  },
  {
   "cell_type": "markdown",
   "metadata": {},
   "source": [
    "Create temporary column to filter cases"
   ]
  },
  {
   "cell_type": "code",
   "execution_count": 15,
   "metadata": {},
   "outputs": [],
   "source": [
    "df_clients_f['pct_missing'] = (df_clients_f.isna().sum(axis=1)/(df_clients.shape[1])) # Number of missings over number of columns"
   ]
  },
  {
   "cell_type": "markdown",
   "metadata": {},
   "source": [
    "Visualization of missings %"
   ]
  },
  {
   "cell_type": "code",
   "execution_count": 16,
   "metadata": {},
   "outputs": [
    {
     "data": {
      "image/png": "[encoded data removed]",
      "text/plain": [
       "<Figure size 432x288 with 1 Axes>"
      ]
     },
     "metadata": {
      "needs_background": "light"
     },
     "output_type": "display_data"
    }
   ],
   "source": [
    "df_clients_f['pct_missing'].hist()\n",
    "plt.title('Histogram of missings %')\n",
    "plt.show()"
   ]
  },
  {
   "cell_type": "code",
   "execution_count": 17,
   "metadata": {},
   "outputs": [],
   "source": [
    "df_clients_f = df_clients_f[df_clients_f['pct_missing']<=0.75]"
   ]
  },
  {
   "cell_type": "markdown",
   "metadata": {},
   "source": [
    "Delete temp column"
   ]
  },
  {
   "cell_type": "code",
   "execution_count": 18,
   "metadata": {},
   "outputs": [],
   "source": [
    "df_clients_f.drop(columns=['pct_missing'],inplace=True)"
   ]
  },
  {
   "cell_type": "markdown",
   "metadata": {},
   "source": [
    "This filter reduces the number of cases to 604,586"
   ]
  },
  {
   "cell_type": "code",
   "execution_count": 19,
   "metadata": {},
   "outputs": [
    {
     "data": {
      "text/plain": [
       "(604586, 10)"
      ]
     },
     "execution_count": 19,
     "metadata": {},
     "output_type": "execute_result"
    }
   ],
   "source": [
    "df_clients_f.shape"
   ]
  },
  {
   "cell_type": "markdown",
   "metadata": {},
   "source": [
    "#### d. Each client should only have one contract in the database, no more."
   ]
  },
  {
   "cell_type": "markdown",
   "metadata": {},
   "source": [
    "There are 17,621 repeated clients, after the previous filters"
   ]
  },
  {
   "cell_type": "code",
   "execution_count": 20,
   "metadata": {},
   "outputs": [
    {
     "name": "stdout",
     "output_type": "stream",
     "text": [
      "Original duplicated cases: 45000\n",
      "Subset duplicated cases: 17621\n"
     ]
    }
   ],
   "source": [
    "print(f\"Original duplicated cases: {df_clients.duplicated(subset=['CustomerId']).sum()}\\nSubset duplicated cases: {df_clients_f.duplicated(subset=['CustomerId']).sum()}\")"
   ]
  },
  {
   "cell_type": "code",
   "execution_count": 21,
   "metadata": {},
   "outputs": [],
   "source": [
    "df_clients_f.drop_duplicates(subset=['CustomerId'],inplace=True)"
   ]
  },
  {
   "cell_type": "markdown",
   "metadata": {},
   "source": [
    "That leaves us with 586,965 cases"
   ]
  },
  {
   "cell_type": "code",
   "execution_count": 22,
   "metadata": {},
   "outputs": [
    {
     "data": {
      "text/plain": [
       "(586965, 10)"
      ]
     },
     "execution_count": 22,
     "metadata": {},
     "output_type": "execute_result"
    }
   ],
   "source": [
    "df_clients_f.shape"
   ]
  },
  {
   "cell_type": "markdown",
   "metadata": {},
   "source": [
    "#### e. Remember that for a client to be eligible, it must have at least two years of information within the company (even if it canceled the product).\n",
    "\n",
    "- Database has a delivery date of 30/11/2019, so that date will be taken for calculation of lifetime"
   ]
  },
  {
   "cell_type": "code",
   "execution_count": 23,
   "metadata": {},
   "outputs": [
    {
     "data": {
      "text/html": [
       "<div>\n",
       "<style scoped>\n",
       "    .dataframe tbody tr th:only-of-type {\n",
       "        vertical-align: middle;\n",
       "    }\n",
       "\n",
       "    .dataframe tbody tr th {\n",
       "        vertical-align: top;\n",
       "    }\n",
       "\n",
       "    .dataframe thead th {\n",
       "        text-align: right;\n",
       "    }\n",
       "</style>\n",
       "<table border=\"1\" class=\"dataframe\">\n",
       "  <thead>\n",
       "    <tr style=\"text-align: right;\">\n",
       "      <th></th>\n",
       "      <th>CustomerId</th>\n",
       "      <th>Surname</th>\n",
       "      <th>Geography</th>\n",
       "      <th>Gender</th>\n",
       "      <th>HasCrCard</th>\n",
       "      <th>IsActiveMember</th>\n",
       "      <th>EstimatedSalary</th>\n",
       "      <th>application_date</th>\n",
       "      <th>exit_date</th>\n",
       "      <th>birth_date</th>\n",
       "    </tr>\n",
       "  </thead>\n",
       "  <tbody>\n",
       "    <tr>\n",
       "      <th>0</th>\n",
       "      <td>15745584</td>\n",
       "      <td>EIRLS</td>\n",
       "      <td>Germany</td>\n",
       "      <td>Female</td>\n",
       "      <td>0.00</td>\n",
       "      <td>1.00</td>\n",
       "      <td>0.00</td>\n",
       "      <td>2018-12-14</td>\n",
       "      <td>NaT</td>\n",
       "      <td>1997-09-18</td>\n",
       "    </tr>\n",
       "    <tr>\n",
       "      <th>1</th>\n",
       "      <td>14990118</td>\n",
       "      <td>MOLOCK</td>\n",
       "      <td>Italy</td>\n",
       "      <td>Male</td>\n",
       "      <td>1.00</td>\n",
       "      <td>0.00</td>\n",
       "      <td>121219.28</td>\n",
       "      <td>2019-01-08</td>\n",
       "      <td>NaT</td>\n",
       "      <td>1980-08-03</td>\n",
       "    </tr>\n",
       "    <tr>\n",
       "      <th>3</th>\n",
       "      <td>14648573</td>\n",
       "      <td>NALLS</td>\n",
       "      <td>Spain</td>\n",
       "      <td>Male</td>\n",
       "      <td>1.00</td>\n",
       "      <td>0.00</td>\n",
       "      <td>140827.98</td>\n",
       "      <td>2019-06-19</td>\n",
       "      <td>NaT</td>\n",
       "      <td>1979-02-27</td>\n",
       "    </tr>\n",
       "    <tr>\n",
       "      <th>5</th>\n",
       "      <td>15638124</td>\n",
       "      <td>BRASHERS</td>\n",
       "      <td>Italy</td>\n",
       "      <td>Female</td>\n",
       "      <td>0.00</td>\n",
       "      <td>0.00</td>\n",
       "      <td>170661.45</td>\n",
       "      <td>2018-02-23</td>\n",
       "      <td>NaT</td>\n",
       "      <td>1983-01-13</td>\n",
       "    </tr>\n",
       "    <tr>\n",
       "      <th>7</th>\n",
       "      <td>14523468</td>\n",
       "      <td>LASKOSKI</td>\n",
       "      <td>Spain</td>\n",
       "      <td>Female</td>\n",
       "      <td>1.00</td>\n",
       "      <td>0.00</td>\n",
       "      <td>158161.23</td>\n",
       "      <td>2017-12-28</td>\n",
       "      <td>2018-11-19</td>\n",
       "      <td>1972-10-30</td>\n",
       "    </tr>\n",
       "  </tbody>\n",
       "</table>\n",
       "</div>"
      ],
      "text/plain": [
       "   CustomerId   Surname Geography  Gender  HasCrCard  IsActiveMember  \\\n",
       "0    15745584     EIRLS   Germany  Female       0.00            1.00   \n",
       "1    14990118    MOLOCK     Italy    Male       1.00            0.00   \n",
       "3    14648573     NALLS     Spain    Male       1.00            0.00   \n",
       "5    15638124  BRASHERS     Italy  Female       0.00            0.00   \n",
       "7    14523468  LASKOSKI     Spain  Female       1.00            0.00   \n",
       "\n",
       "   EstimatedSalary application_date  exit_date birth_date  \n",
       "0             0.00       2018-12-14        NaT 1997-09-18  \n",
       "1        121219.28       2019-01-08        NaT 1980-08-03  \n",
       "3        140827.98       2019-06-19        NaT 1979-02-27  \n",
       "5        170661.45       2018-02-23        NaT 1983-01-13  \n",
       "7        158161.23       2017-12-28 2018-11-19 1972-10-30  "
      ]
     },
     "execution_count": 23,
     "metadata": {},
     "output_type": "execute_result"
    }
   ],
   "source": [
    "df_clients_f.head()"
   ]
  },
  {
   "cell_type": "markdown",
   "metadata": {},
   "source": [
    "Calculate years since application by difference between delivery date and application date"
   ]
  },
  {
   "cell_type": "code",
   "execution_count": 24,
   "metadata": {},
   "outputs": [],
   "source": [
    "df_clients_f['years_since_application'] = (pd.to_datetime('2019/11/30') - df_clients_f.application_date).dt.days / 365"
   ]
  },
  {
   "cell_type": "markdown",
   "metadata": {},
   "source": [
    "Most of the clients in the database have an application date of 2018 or 2019, so the number of cases will drop greatly when we discard cases with less info than 2 years"
   ]
  },
  {
   "cell_type": "code",
   "execution_count": 25,
   "metadata": {},
   "outputs": [
    {
     "data": {
      "image/png": "[encoded data removed]",
      "text/plain": [
       "<Figure size 432x288 with 1 Axes>"
      ]
     },
     "metadata": {
      "needs_background": "light"
     },
     "output_type": "display_data"
    }
   ],
   "source": [
    "df_clients_f.application_date.dt.year.value_counts().plot(kind='bar')\n",
    "plt.title('Number of customers by year')\n",
    "plt.show()"
   ]
  },
  {
   "cell_type": "markdown",
   "metadata": {},
   "source": [
    "Final filter"
   ]
  },
  {
   "cell_type": "code",
   "execution_count": 26,
   "metadata": {},
   "outputs": [],
   "source": [
    "df_clients_f = df_clients_f[df_clients_f['years_since_application']>=2]"
   ]
  },
  {
   "cell_type": "markdown",
   "metadata": {},
   "source": [
    "This way, we keep only 9995 observations"
   ]
  },
  {
   "cell_type": "code",
   "execution_count": 27,
   "metadata": {},
   "outputs": [
    {
     "data": {
      "text/plain": [
       "(9995, 11)"
      ]
     },
     "execution_count": 27,
     "metadata": {},
     "output_type": "execute_result"
    }
   ],
   "source": [
    "df_clients_f.shape"
   ]
  },
  {
   "cell_type": "markdown",
   "metadata": {},
   "source": [
    "#### Create churn target column:\n",
    "\n",
    "Considering churners to those with exit dates after less than 2 years since applying"
   ]
  },
  {
   "cell_type": "markdown",
   "metadata": {},
   "source": [
    "Calculate length of client lifetime by substracting application date to exit date"
   ]
  },
  {
   "cell_type": "code",
   "execution_count": 28,
   "metadata": {},
   "outputs": [],
   "source": [
    "df_clients_f['application_to_exit'] = (df_clients_f.exit_date - df_clients_f.application_date).dt.days/365"
   ]
  },
  {
   "cell_type": "code",
   "execution_count": 29,
   "metadata": {},
   "outputs": [
    {
     "data": {
      "image/png": "[encoded data removed]",
      "text/plain": [
       "<Figure size 432x288 with 1 Axes>"
      ]
     },
     "metadata": {
      "needs_background": "light"
     },
     "output_type": "display_data"
    }
   ],
   "source": [
    "df_clients_f.application_to_exit.hist()\n",
    "plt.title('Histogram of Lifetime')\n",
    "plt.show()"
   ]
  },
  {
   "cell_type": "code",
   "execution_count": 30,
   "metadata": {},
   "outputs": [],
   "source": [
    "df_clients_f['churn'] = [1 if x<2 else 0 for x in df_clients_f.application_to_exit]"
   ]
  },
  {
   "cell_type": "markdown",
   "metadata": {},
   "source": [
    "Churn results\n",
    "\n",
    "Given our definition of churn being those with an exit date after less than 2 years, 20% would be churners."
   ]
  },
  {
   "cell_type": "code",
   "execution_count": 31,
   "metadata": {},
   "outputs": [
    {
     "data": {
      "text/plain": [
       "churn\n",
       "0   0.80\n",
       "1   0.20\n",
       "Name: count, dtype: float64"
      ]
     },
     "execution_count": 31,
     "metadata": {},
     "output_type": "execute_result"
    }
   ],
   "source": [
    "df_clients_f.churn.value_counts() / df_clients_f.shape[0]"
   ]
  },
  {
   "cell_type": "markdown",
   "metadata": {},
   "source": [
    "If we consider a churn as wether they are an active member or not, then 52% have churned."
   ]
  },
  {
   "cell_type": "code",
   "execution_count": 32,
   "metadata": {},
   "outputs": [
    {
     "data": {
      "text/plain": [
       "IsActiveMember\n",
       "1.00   0.52\n",
       "0.00   0.48\n",
       "Name: count, dtype: float64"
      ]
     },
     "execution_count": 32,
     "metadata": {},
     "output_type": "execute_result"
    }
   ],
   "source": [
    "df_clients_f.IsActiveMember.value_counts() / df_clients_f.shape[0]"
   ]
  },
  {
   "cell_type": "markdown",
   "metadata": {},
   "source": [
    "On the other hand, if we define churns as those with an exit date, only 28% haven't got one. So 72% would have churned."
   ]
  },
  {
   "cell_type": "code",
   "execution_count": 33,
   "metadata": {},
   "outputs": [
    {
     "data": {
      "text/plain": [
       "0.2818409204602301"
      ]
     },
     "execution_count": 33,
     "metadata": {},
     "output_type": "execute_result"
    }
   ],
   "source": [
    "df_clients_f.exit_date.isna().sum() / df_clients_f.shape[0]"
   ]
  },
  {
   "cell_type": "markdown",
   "metadata": {},
   "source": [
    "If we look at the combination of both:\n",
    "\n",
    "- As much as 70% of active members have an exit date, making it confusing to understand wether they have churned or not\n",
    "- 25% of inactive members don't have an exit date as well"
   ]
  },
  {
   "cell_type": "code",
   "execution_count": 34,
   "metadata": {},
   "outputs": [
    {
     "data": {
      "text/plain": [
       "0.6952214452214452"
      ]
     },
     "execution_count": 34,
     "metadata": {},
     "output_type": "execute_result"
    }
   ],
   "source": [
    "df_clients_f[(df_clients_f.IsActiveMember == 1) & ~(df_clients_f.exit_date.isna())].shape[0] / df_clients_f[(df_clients_f.IsActiveMember == 1)].shape[0]"
   ]
  },
  {
   "cell_type": "code",
   "execution_count": 35,
   "metadata": {},
   "outputs": [
    {
     "data": {
      "text/plain": [
       "0.2574788528987002"
      ]
     },
     "execution_count": 35,
     "metadata": {},
     "output_type": "execute_result"
    }
   ],
   "source": [
    "df_clients_f[(df_clients_f.IsActiveMember == 0) & (df_clients_f.exit_date.isna())].shape[0] / df_clients_f[(df_clients_f.IsActiveMember == 0)].shape[0]"
   ]
  },
  {
   "cell_type": "markdown",
   "metadata": {},
   "source": [
    "## Feature engineering"
   ]
  },
  {
   "cell_type": "markdown",
   "metadata": {},
   "source": [
    "### Products"
   ]
  },
  {
   "cell_type": "markdown",
   "metadata": {},
   "source": [
    "Calculate amount of products by customer"
   ]
  },
  {
   "cell_type": "code",
   "execution_count": 36,
   "metadata": {},
   "outputs": [
    {
     "data": {
      "text/html": [
       "<div>\n",
       "<style scoped>\n",
       "    .dataframe tbody tr th:only-of-type {\n",
       "        vertical-align: middle;\n",
       "    }\n",
       "\n",
       "    .dataframe tbody tr th {\n",
       "        vertical-align: top;\n",
       "    }\n",
       "\n",
       "    .dataframe thead th {\n",
       "        text-align: right;\n",
       "    }\n",
       "</style>\n",
       "<table border=\"1\" class=\"dataframe\">\n",
       "  <thead>\n",
       "    <tr style=\"text-align: right;\">\n",
       "      <th></th>\n",
       "      <th>ContractId</th>\n",
       "      <th>CustomerId</th>\n",
       "      <th>Products</th>\n",
       "    </tr>\n",
       "  </thead>\n",
       "  <tbody>\n",
       "    <tr>\n",
       "      <th>0</th>\n",
       "      <td>5Xo9sCduOGo5EhBYhzKrSlLIA</td>\n",
       "      <td>14993808</td>\n",
       "      <td>Product B</td>\n",
       "    </tr>\n",
       "    <tr>\n",
       "      <th>1</th>\n",
       "      <td>3nQbqbnpTeSkYIJWT1UDe1GZ1</td>\n",
       "      <td>15560417</td>\n",
       "      <td>Product B</td>\n",
       "    </tr>\n",
       "    <tr>\n",
       "      <th>2</th>\n",
       "      <td>PD9KwDPOwyJWO6LJKPGBbkrCz</td>\n",
       "      <td>15406428</td>\n",
       "      <td>Product C</td>\n",
       "    </tr>\n",
       "    <tr>\n",
       "      <th>3</th>\n",
       "      <td>IhS7pz8lu07LCZSqYNlL0fuLP</td>\n",
       "      <td>15604313</td>\n",
       "      <td>Product B</td>\n",
       "    </tr>\n",
       "    <tr>\n",
       "      <th>4</th>\n",
       "      <td>ftUey4oVmkZj8RaBVFH6SNzVM</td>\n",
       "      <td>14952409</td>\n",
       "      <td>Product C</td>\n",
       "    </tr>\n",
       "  </tbody>\n",
       "</table>\n",
       "</div>"
      ],
      "text/plain": [
       "                  ContractId  CustomerId   Products\n",
       "0  5Xo9sCduOGo5EhBYhzKrSlLIA    14993808  Product B\n",
       "1  3nQbqbnpTeSkYIJWT1UDe1GZ1    15560417  Product B\n",
       "2  PD9KwDPOwyJWO6LJKPGBbkrCz    15406428  Product C\n",
       "3  IhS7pz8lu07LCZSqYNlL0fuLP    15604313  Product B\n",
       "4  ftUey4oVmkZj8RaBVFH6SNzVM    14952409  Product C"
      ]
     },
     "execution_count": 36,
     "metadata": {},
     "output_type": "execute_result"
    }
   ],
   "source": [
    "df_products.head()"
   ]
  },
  {
   "cell_type": "code",
   "execution_count": 37,
   "metadata": {},
   "outputs": [],
   "source": [
    "df_products_number = df_products.groupby('CustomerId').agg(number_of_products = ('Products','count')).reset_index()"
   ]
  },
  {
   "cell_type": "code",
   "execution_count": 38,
   "metadata": {},
   "outputs": [
    {
     "data": {
      "text/html": [
       "<div>\n",
       "<style scoped>\n",
       "    .dataframe tbody tr th:only-of-type {\n",
       "        vertical-align: middle;\n",
       "    }\n",
       "\n",
       "    .dataframe tbody tr th {\n",
       "        vertical-align: top;\n",
       "    }\n",
       "\n",
       "    .dataframe thead th {\n",
       "        text-align: right;\n",
       "    }\n",
       "</style>\n",
       "<table border=\"1\" class=\"dataframe\">\n",
       "  <thead>\n",
       "    <tr style=\"text-align: right;\">\n",
       "      <th></th>\n",
       "      <th>CustomerId</th>\n",
       "      <th>number_of_products</th>\n",
       "    </tr>\n",
       "  </thead>\n",
       "  <tbody>\n",
       "    <tr>\n",
       "      <th>0</th>\n",
       "      <td>14500000</td>\n",
       "      <td>4</td>\n",
       "    </tr>\n",
       "    <tr>\n",
       "      <th>1</th>\n",
       "      <td>14500001</td>\n",
       "      <td>2</td>\n",
       "    </tr>\n",
       "    <tr>\n",
       "      <th>2</th>\n",
       "      <td>14500002</td>\n",
       "      <td>2</td>\n",
       "    </tr>\n",
       "    <tr>\n",
       "      <th>3</th>\n",
       "      <td>14500003</td>\n",
       "      <td>3</td>\n",
       "    </tr>\n",
       "    <tr>\n",
       "      <th>4</th>\n",
       "      <td>14500004</td>\n",
       "      <td>3</td>\n",
       "    </tr>\n",
       "  </tbody>\n",
       "</table>\n",
       "</div>"
      ],
      "text/plain": [
       "   CustomerId  number_of_products\n",
       "0    14500000                   4\n",
       "1    14500001                   2\n",
       "2    14500002                   2\n",
       "3    14500003                   3\n",
       "4    14500004                   3"
      ]
     },
     "execution_count": 38,
     "metadata": {},
     "output_type": "execute_result"
    }
   ],
   "source": [
    "df_products_number.head()"
   ]
  },
  {
   "cell_type": "markdown",
   "metadata": {},
   "source": [
    "### Transactions"
   ]
  },
  {
   "cell_type": "markdown",
   "metadata": {},
   "source": [
    "Create balance variable"
   ]
  },
  {
   "cell_type": "code",
   "execution_count": 39,
   "metadata": {},
   "outputs": [
    {
     "data": {
      "text/html": [
       "<div>\n",
       "<style scoped>\n",
       "    .dataframe tbody tr th:only-of-type {\n",
       "        vertical-align: middle;\n",
       "    }\n",
       "\n",
       "    .dataframe tbody tr th {\n",
       "        vertical-align: top;\n",
       "    }\n",
       "\n",
       "    .dataframe thead th {\n",
       "        text-align: right;\n",
       "    }\n",
       "</style>\n",
       "<table border=\"1\" class=\"dataframe\">\n",
       "  <thead>\n",
       "    <tr style=\"text-align: right;\">\n",
       "      <th></th>\n",
       "      <th>CustomerId</th>\n",
       "      <th>Transaction</th>\n",
       "      <th>Value</th>\n",
       "    </tr>\n",
       "  </thead>\n",
       "  <tbody>\n",
       "    <tr>\n",
       "      <th>0</th>\n",
       "      <td>15653320</td>\n",
       "      <td>trans_4</td>\n",
       "      <td>-294.03</td>\n",
       "    </tr>\n",
       "    <tr>\n",
       "      <th>1</th>\n",
       "      <td>14955663</td>\n",
       "      <td>trans_3</td>\n",
       "      <td>1297.97</td>\n",
       "    </tr>\n",
       "    <tr>\n",
       "      <th>2</th>\n",
       "      <td>15218505</td>\n",
       "      <td>trans_4</td>\n",
       "      <td>191.28</td>\n",
       "    </tr>\n",
       "    <tr>\n",
       "      <th>3</th>\n",
       "      <td>15391934</td>\n",
       "      <td>trans_3</td>\n",
       "      <td>2299.07</td>\n",
       "    </tr>\n",
       "    <tr>\n",
       "      <th>4</th>\n",
       "      <td>14847291</td>\n",
       "      <td>trans_3</td>\n",
       "      <td>1612.10</td>\n",
       "    </tr>\n",
       "  </tbody>\n",
       "</table>\n",
       "</div>"
      ],
      "text/plain": [
       "   CustomerId Transaction   Value\n",
       "0    15653320     trans_4 -294.03\n",
       "1    14955663     trans_3 1297.97\n",
       "2    15218505     trans_4  191.28\n",
       "3    15391934     trans_3 2299.07\n",
       "4    14847291     trans_3 1612.10"
      ]
     },
     "execution_count": 39,
     "metadata": {},
     "output_type": "execute_result"
    }
   ],
   "source": [
    "df_transactions.head()"
   ]
  },
  {
   "cell_type": "code",
   "execution_count": 40,
   "metadata": {},
   "outputs": [],
   "source": [
    "df_transact_pivoted = df_transactions.pivot(index='CustomerId',columns='Transaction',values='Value').reset_index()"
   ]
  },
  {
   "cell_type": "code",
   "execution_count": 41,
   "metadata": {},
   "outputs": [],
   "source": [
    "df_transact_pivoted['balance'] = df_transact_pivoted[['trans_1','trans_2','trans_3','trans_4','trans_5']].sum(axis=1)"
   ]
  },
  {
   "cell_type": "code",
   "execution_count": 42,
   "metadata": {},
   "outputs": [
    {
     "data": {
      "text/html": [
       "<div>\n",
       "<style scoped>\n",
       "    .dataframe tbody tr th:only-of-type {\n",
       "        vertical-align: middle;\n",
       "    }\n",
       "\n",
       "    .dataframe tbody tr th {\n",
       "        vertical-align: top;\n",
       "    }\n",
       "\n",
       "    .dataframe thead th {\n",
       "        text-align: right;\n",
       "    }\n",
       "</style>\n",
       "<table border=\"1\" class=\"dataframe\">\n",
       "  <thead>\n",
       "    <tr style=\"text-align: right;\">\n",
       "      <th>Transaction</th>\n",
       "      <th>CustomerId</th>\n",
       "      <th>trans_1</th>\n",
       "      <th>trans_2</th>\n",
       "      <th>trans_3</th>\n",
       "      <th>trans_4</th>\n",
       "      <th>trans_5</th>\n",
       "      <th>balance</th>\n",
       "    </tr>\n",
       "  </thead>\n",
       "  <tbody>\n",
       "    <tr>\n",
       "      <th>0</th>\n",
       "      <td>14500000</td>\n",
       "      <td>1456.63</td>\n",
       "      <td>-317.81</td>\n",
       "      <td>1047.96</td>\n",
       "      <td>-249.61</td>\n",
       "      <td>-1937.17</td>\n",
       "      <td>0.00</td>\n",
       "    </tr>\n",
       "    <tr>\n",
       "      <th>1</th>\n",
       "      <td>14500001</td>\n",
       "      <td>2717.35</td>\n",
       "      <td>-149.95</td>\n",
       "      <td>2560.88</td>\n",
       "      <td>-94.99</td>\n",
       "      <td>46372.32</td>\n",
       "      <td>51405.61</td>\n",
       "    </tr>\n",
       "    <tr>\n",
       "      <th>2</th>\n",
       "      <td>14500002</td>\n",
       "      <td>3470.33</td>\n",
       "      <td>-868.05</td>\n",
       "      <td>1229.14</td>\n",
       "      <td>-120.02</td>\n",
       "      <td>117052.10</td>\n",
       "      <td>120763.50</td>\n",
       "    </tr>\n",
       "    <tr>\n",
       "      <th>3</th>\n",
       "      <td>14500003</td>\n",
       "      <td>4711.95</td>\n",
       "      <td>-224.06</td>\n",
       "      <td>1576.25</td>\n",
       "      <td>313.71</td>\n",
       "      <td>143518.86</td>\n",
       "      <td>149896.71</td>\n",
       "    </tr>\n",
       "    <tr>\n",
       "      <th>4</th>\n",
       "      <td>14500004</td>\n",
       "      <td>3959.83</td>\n",
       "      <td>-632.33</td>\n",
       "      <td>2802.98</td>\n",
       "      <td>-804.26</td>\n",
       "      <td>137735.31</td>\n",
       "      <td>143061.53</td>\n",
       "    </tr>\n",
       "  </tbody>\n",
       "</table>\n",
       "</div>"
      ],
      "text/plain": [
       "Transaction  CustomerId  trans_1  trans_2  trans_3  trans_4   trans_5  \\\n",
       "0              14500000  1456.63  -317.81  1047.96  -249.61  -1937.17   \n",
       "1              14500001  2717.35  -149.95  2560.88   -94.99  46372.32   \n",
       "2              14500002  3470.33  -868.05  1229.14  -120.02 117052.10   \n",
       "3              14500003  4711.95  -224.06  1576.25   313.71 143518.86   \n",
       "4              14500004  3959.83  -632.33  2802.98  -804.26 137735.31   \n",
       "\n",
       "Transaction   balance  \n",
       "0                0.00  \n",
       "1            51405.61  \n",
       "2           120763.50  \n",
       "3           149896.71  \n",
       "4           143061.53  "
      ]
     },
     "execution_count": 42,
     "metadata": {},
     "output_type": "execute_result"
    }
   ],
   "source": [
    "df_transact_pivoted.head()"
   ]
  },
  {
   "cell_type": "markdown",
   "metadata": {},
   "source": [
    "### Credit scores"
   ]
  },
  {
   "cell_type": "code",
   "execution_count": 43,
   "metadata": {},
   "outputs": [
    {
     "data": {
      "text/html": [
       "<div>\n",
       "<style scoped>\n",
       "    .dataframe tbody tr th:only-of-type {\n",
       "        vertical-align: middle;\n",
       "    }\n",
       "\n",
       "    .dataframe tbody tr th {\n",
       "        vertical-align: top;\n",
       "    }\n",
       "\n",
       "    .dataframe thead th {\n",
       "        text-align: right;\n",
       "    }\n",
       "</style>\n",
       "<table border=\"1\" class=\"dataframe\">\n",
       "  <thead>\n",
       "    <tr style=\"text-align: right;\">\n",
       "      <th></th>\n",
       "      <th>CustomerId</th>\n",
       "      <th>Date</th>\n",
       "      <th>Score</th>\n",
       "    </tr>\n",
       "  </thead>\n",
       "  <tbody>\n",
       "    <tr>\n",
       "      <th>0</th>\n",
       "      <td>14759722</td>\n",
       "      <td>2018-07-01</td>\n",
       "      <td>717</td>\n",
       "    </tr>\n",
       "    <tr>\n",
       "      <th>1</th>\n",
       "      <td>15907276</td>\n",
       "      <td>2011-09-01</td>\n",
       "      <td>562</td>\n",
       "    </tr>\n",
       "    <tr>\n",
       "      <th>2</th>\n",
       "      <td>15346641</td>\n",
       "      <td>2013-01-01</td>\n",
       "      <td>604</td>\n",
       "    </tr>\n",
       "    <tr>\n",
       "      <th>3</th>\n",
       "      <td>15595126</td>\n",
       "      <td>2018-08-01</td>\n",
       "      <td>469</td>\n",
       "    </tr>\n",
       "    <tr>\n",
       "      <th>4</th>\n",
       "      <td>15227788</td>\n",
       "      <td>2013-09-01</td>\n",
       "      <td>655</td>\n",
       "    </tr>\n",
       "  </tbody>\n",
       "</table>\n",
       "</div>"
      ],
      "text/plain": [
       "   CustomerId       Date  Score\n",
       "0    14759722 2018-07-01    717\n",
       "1    15907276 2011-09-01    562\n",
       "2    15346641 2013-01-01    604\n",
       "3    15595126 2018-08-01    469\n",
       "4    15227788 2013-09-01    655"
      ]
     },
     "execution_count": 43,
     "metadata": {},
     "output_type": "execute_result"
    }
   ],
   "source": [
    "df_credit_score.head()"
   ]
  },
  {
   "cell_type": "markdown",
   "metadata": {},
   "source": [
    "13 values for customers"
   ]
  },
  {
   "cell_type": "code",
   "execution_count": 44,
   "metadata": {},
   "outputs": [
    {
     "data": {
      "text/html": [
       "<div>\n",
       "<style scoped>\n",
       "    .dataframe tbody tr th:only-of-type {\n",
       "        vertical-align: middle;\n",
       "    }\n",
       "\n",
       "    .dataframe tbody tr th {\n",
       "        vertical-align: top;\n",
       "    }\n",
       "\n",
       "    .dataframe thead th {\n",
       "        text-align: right;\n",
       "    }\n",
       "</style>\n",
       "<table border=\"1\" class=\"dataframe\">\n",
       "  <thead>\n",
       "    <tr style=\"text-align: right;\">\n",
       "      <th></th>\n",
       "      <th>Date</th>\n",
       "      <th>Score</th>\n",
       "    </tr>\n",
       "    <tr>\n",
       "      <th>CustomerId</th>\n",
       "      <th></th>\n",
       "      <th></th>\n",
       "    </tr>\n",
       "  </thead>\n",
       "  <tbody>\n",
       "    <tr>\n",
       "      <th>14500000</th>\n",
       "      <td>13</td>\n",
       "      <td>13</td>\n",
       "    </tr>\n",
       "    <tr>\n",
       "      <th>14500001</th>\n",
       "      <td>13</td>\n",
       "      <td>13</td>\n",
       "    </tr>\n",
       "    <tr>\n",
       "      <th>14500002</th>\n",
       "      <td>13</td>\n",
       "      <td>13</td>\n",
       "    </tr>\n",
       "    <tr>\n",
       "      <th>14500003</th>\n",
       "      <td>13</td>\n",
       "      <td>13</td>\n",
       "    </tr>\n",
       "    <tr>\n",
       "      <th>14500004</th>\n",
       "      <td>13</td>\n",
       "      <td>13</td>\n",
       "    </tr>\n",
       "  </tbody>\n",
       "</table>\n",
       "</div>"
      ],
      "text/plain": [
       "            Date  Score\n",
       "CustomerId             \n",
       "14500000      13     13\n",
       "14500001      13     13\n",
       "14500002      13     13\n",
       "14500003      13     13\n",
       "14500004      13     13"
      ]
     },
     "execution_count": 44,
     "metadata": {},
     "output_type": "execute_result"
    }
   ],
   "source": [
    "df_credit_score.groupby('CustomerId').count().head()"
   ]
  },
  {
   "cell_type": "markdown",
   "metadata": {},
   "source": [
    "Given that in this table the dates are beginning of month, and on the client's table they are specific dates, we can join them by year-month combinations.\n",
    "\n",
    "Create year and month variable"
   ]
  },
  {
   "cell_type": "code",
   "execution_count": 45,
   "metadata": {},
   "outputs": [],
   "source": [
    "df_credit_score['Date'] = pd.to_datetime(df_credit_score['Date'])\n",
    "df_clients_f['application_date'] = pd.to_datetime(df_clients_f['application_date'])"
   ]
  },
  {
   "cell_type": "code",
   "execution_count": 46,
   "metadata": {},
   "outputs": [],
   "source": [
    "# Credit table\n",
    "df_credit_score['year'] = df_credit_score.Date.dt.year\n",
    "df_credit_score['month'] = df_credit_score.Date.dt.month\n",
    "\n",
    "# Client's table\n",
    "df_clients_f['year'] = df_clients_f.application_date.dt.year\n",
    "df_clients_f['month'] = df_clients_f.application_date.dt.month"
   ]
  },
  {
   "cell_type": "markdown",
   "metadata": {},
   "source": [
    "Merge them"
   ]
  },
  {
   "cell_type": "code",
   "execution_count": 47,
   "metadata": {},
   "outputs": [],
   "source": [
    "df_clients_f = df_clients_f.merge(df_credit_score, how='left',on=['CustomerId','year','month'])"
   ]
  },
  {
   "cell_type": "markdown",
   "metadata": {},
   "source": [
    "Drop unnecessary columns"
   ]
  },
  {
   "cell_type": "code",
   "execution_count": 48,
   "metadata": {},
   "outputs": [],
   "source": [
    "df_clients_f.drop(columns=['year','month','Date'],inplace=True)"
   ]
  },
  {
   "cell_type": "markdown",
   "metadata": {},
   "source": [
    "### Clients"
   ]
  },
  {
   "cell_type": "markdown",
   "metadata": {},
   "source": [
    "Calculate Age"
   ]
  },
  {
   "cell_type": "code",
   "execution_count": 49,
   "metadata": {},
   "outputs": [],
   "source": [
    "def calculate_age(born, cut_date):\n",
    "    return cut_date.year - born.year - ((cut_date.month, cut_date.day) < (born.month, born.day))"
   ]
  },
  {
   "cell_type": "code",
   "execution_count": 50,
   "metadata": {},
   "outputs": [],
   "source": [
    "df_clients_f['birth_date'] = pd.to_datetime(df_clients_f['birth_date'])"
   ]
  },
  {
   "cell_type": "code",
   "execution_count": 51,
   "metadata": {},
   "outputs": [],
   "source": [
    "cut_date = pd.to_datetime('2019-11-30')"
   ]
  },
  {
   "cell_type": "code",
   "execution_count": 52,
   "metadata": {},
   "outputs": [],
   "source": [
    "df_clients_f['age'] = df_clients_f['birth_date'].apply(calculate_age, cut_date=cut_date)"
   ]
  },
  {
   "cell_type": "markdown",
   "metadata": {},
   "source": [
    "### Final merge"
   ]
  },
  {
   "cell_type": "code",
   "execution_count": 53,
   "metadata": {},
   "outputs": [],
   "source": [
    "df_clients_f = (df_clients_f\n",
    "                        .merge(df_products_number,how='left',on='CustomerId')\n",
    "                        .merge(df_transact_pivoted[['CustomerId','balance']],how='left',on='CustomerId')\n",
    "                        )"
   ]
  },
  {
   "cell_type": "code",
   "execution_count": 54,
   "metadata": {},
   "outputs": [
    {
     "data": {
      "text/html": [
       "<div>\n",
       "<style scoped>\n",
       "    .dataframe tbody tr th:only-of-type {\n",
       "        vertical-align: middle;\n",
       "    }\n",
       "\n",
       "    .dataframe tbody tr th {\n",
       "        vertical-align: top;\n",
       "    }\n",
       "\n",
       "    .dataframe thead th {\n",
       "        text-align: right;\n",
       "    }\n",
       "</style>\n",
       "<table border=\"1\" class=\"dataframe\">\n",
       "  <thead>\n",
       "    <tr style=\"text-align: right;\">\n",
       "      <th></th>\n",
       "      <th>CustomerId</th>\n",
       "      <th>Surname</th>\n",
       "      <th>Geography</th>\n",
       "      <th>Gender</th>\n",
       "      <th>HasCrCard</th>\n",
       "      <th>IsActiveMember</th>\n",
       "      <th>EstimatedSalary</th>\n",
       "      <th>application_date</th>\n",
       "      <th>exit_date</th>\n",
       "      <th>birth_date</th>\n",
       "      <th>years_since_application</th>\n",
       "      <th>application_to_exit</th>\n",
       "      <th>churn</th>\n",
       "      <th>Score</th>\n",
       "      <th>age</th>\n",
       "      <th>number_of_products</th>\n",
       "      <th>balance</th>\n",
       "    </tr>\n",
       "  </thead>\n",
       "  <tbody>\n",
       "    <tr>\n",
       "      <th>0</th>\n",
       "      <td>15610711</td>\n",
       "      <td>Eluemuno</td>\n",
       "      <td>Germany</td>\n",
       "      <td>Female</td>\n",
       "      <td>0.00</td>\n",
       "      <td>0.00</td>\n",
       "      <td>167673.37</td>\n",
       "      <td>2017-03-05</td>\n",
       "      <td>2019-11-27</td>\n",
       "      <td>1976-10-21</td>\n",
       "      <td>2.74</td>\n",
       "      <td>2.73</td>\n",
       "      <td>0</td>\n",
       "      <td>678</td>\n",
       "      <td>43</td>\n",
       "      <td>1</td>\n",
       "      <td>128644.46</td>\n",
       "    </tr>\n",
       "    <tr>\n",
       "      <th>1</th>\n",
       "      <td>15764170</td>\n",
       "      <td>Pinto</td>\n",
       "      <td>Germany</td>\n",
       "      <td>Male</td>\n",
       "      <td>1.00</td>\n",
       "      <td>0.00</td>\n",
       "      <td>36579.53</td>\n",
       "      <td>2017-02-05</td>\n",
       "      <td>2018-10-11</td>\n",
       "      <td>1972-04-02</td>\n",
       "      <td>2.82</td>\n",
       "      <td>1.68</td>\n",
       "      <td>1</td>\n",
       "      <td>647</td>\n",
       "      <td>47</td>\n",
       "      <td>1</td>\n",
       "      <td>93960.35</td>\n",
       "    </tr>\n",
       "    <tr>\n",
       "      <th>2</th>\n",
       "      <td>15594720</td>\n",
       "      <td>Scott</td>\n",
       "      <td>Germany</td>\n",
       "      <td>Female</td>\n",
       "      <td>1.00</td>\n",
       "      <td>1.00</td>\n",
       "      <td>189339.60</td>\n",
       "      <td>2017-11-08</td>\n",
       "      <td>NaT</td>\n",
       "      <td>1982-05-14</td>\n",
       "      <td>2.06</td>\n",
       "      <td>NaN</td>\n",
       "      <td>0</td>\n",
       "      <td>460</td>\n",
       "      <td>37</td>\n",
       "      <td>2</td>\n",
       "      <td>102742.91</td>\n",
       "    </tr>\n",
       "    <tr>\n",
       "      <th>3</th>\n",
       "      <td>15706552</td>\n",
       "      <td>Odinakachukwu</td>\n",
       "      <td>France</td>\n",
       "      <td>Male</td>\n",
       "      <td>0.00</td>\n",
       "      <td>1.00</td>\n",
       "      <td>156731.91</td>\n",
       "      <td>2016-02-15</td>\n",
       "      <td>2019-10-02</td>\n",
       "      <td>1979-09-09</td>\n",
       "      <td>3.79</td>\n",
       "      <td>3.63</td>\n",
       "      <td>0</td>\n",
       "      <td>533</td>\n",
       "      <td>40</td>\n",
       "      <td>1</td>\n",
       "      <td>85311.70</td>\n",
       "    </tr>\n",
       "    <tr>\n",
       "      <th>4</th>\n",
       "      <td>15785358</td>\n",
       "      <td>Gresswell</td>\n",
       "      <td>Germany</td>\n",
       "      <td>Male</td>\n",
       "      <td>1.00</td>\n",
       "      <td>1.00</td>\n",
       "      <td>79366.98</td>\n",
       "      <td>2016-09-17</td>\n",
       "      <td>2016-12-20</td>\n",
       "      <td>1969-11-11</td>\n",
       "      <td>3.20</td>\n",
       "      <td>0.26</td>\n",
       "      <td>1</td>\n",
       "      <td>586</td>\n",
       "      <td>50</td>\n",
       "      <td>1</td>\n",
       "      <td>106968.96</td>\n",
       "    </tr>\n",
       "  </tbody>\n",
       "</table>\n",
       "</div>"
      ],
      "text/plain": [
       "   CustomerId        Surname Geography  Gender  HasCrCard  IsActiveMember  \\\n",
       "0    15610711       Eluemuno   Germany  Female       0.00            0.00   \n",
       "1    15764170          Pinto   Germany    Male       1.00            0.00   \n",
       "2    15594720          Scott   Germany  Female       1.00            1.00   \n",
       "3    15706552  Odinakachukwu    France    Male       0.00            1.00   \n",
       "4    15785358      Gresswell   Germany    Male       1.00            1.00   \n",
       "\n",
       "   EstimatedSalary application_date  exit_date birth_date  \\\n",
       "0        167673.37       2017-03-05 2019-11-27 1976-10-21   \n",
       "1         36579.53       2017-02-05 2018-10-11 1972-04-02   \n",
       "2        189339.60       2017-11-08        NaT 1982-05-14   \n",
       "3        156731.91       2016-02-15 2019-10-02 1979-09-09   \n",
       "4         79366.98       2016-09-17 2016-12-20 1969-11-11   \n",
       "\n",
       "   years_since_application  application_to_exit  churn  Score  age  \\\n",
       "0                     2.74                 2.73      0    678   43   \n",
       "1                     2.82                 1.68      1    647   47   \n",
       "2                     2.06                  NaN      0    460   37   \n",
       "3                     3.79                 3.63      0    533   40   \n",
       "4                     3.20                 0.26      1    586   50   \n",
       "\n",
       "   number_of_products   balance  \n",
       "0                   1 128644.46  \n",
       "1                   1  93960.35  \n",
       "2                   2 102742.91  \n",
       "3                   1  85311.70  \n",
       "4                   1 106968.96  "
      ]
     },
     "execution_count": 54,
     "metadata": {},
     "output_type": "execute_result"
    }
   ],
   "source": [
    "df_clients_f.head()"
   ]
  },
  {
   "cell_type": "code",
   "execution_count": 55,
   "metadata": {},
   "outputs": [
    {
     "data": {
      "text/plain": [
       "(9995, 17)"
      ]
     },
     "execution_count": 55,
     "metadata": {},
     "output_type": "execute_result"
    }
   ],
   "source": [
    "df_clients_f.shape"
   ]
  },
  {
   "cell_type": "markdown",
   "metadata": {},
   "source": [
    "# EDA"
   ]
  },
  {
   "cell_type": "markdown",
   "metadata": {},
   "source": [
    "The dataset is balanced"
   ]
  },
  {
   "cell_type": "code",
   "execution_count": 56,
   "metadata": {},
   "outputs": [
    {
     "data": {
      "image/png": "[encoded data removed]",
      "text/plain": [
       "<Figure size 432x432 with 1 Axes>"
      ]
     },
     "metadata": {},
     "output_type": "display_data"
    }
   ],
   "source": [
    "# Count the values in the 'IsActiveMember' column\n",
    "count_values = df_clients_f['churn'].value_counts()\n",
    "\n",
    "# Set Seaborn-style color palette\n",
    "colors = sns.color_palette('pastel')\n",
    "\n",
    "# Create a pie chart using matplotlib\n",
    "plt.figure(figsize=(6, 6))\n",
    "plt.pie(count_values, labels=count_values.index, autopct='%1.1f%%', colors=colors, startangle=90)\n",
    "\n",
    "# Set plot title\n",
    "plt.title('Distribution of churns')\n",
    "\n",
    "# Show the plot\n",
    "plt.show()"
   ]
  },
  {
   "cell_type": "markdown",
   "metadata": {},
   "source": [
    "Statistics of variables"
   ]
  },
  {
   "cell_type": "code",
   "execution_count": 57,
   "metadata": {},
   "outputs": [
    {
     "data": {
      "text/html": [
       "<div>\n",
       "<style scoped>\n",
       "    .dataframe tbody tr th:only-of-type {\n",
       "        vertical-align: middle;\n",
       "    }\n",
       "\n",
       "    .dataframe tbody tr th {\n",
       "        vertical-align: top;\n",
       "    }\n",
       "\n",
       "    .dataframe thead th {\n",
       "        text-align: right;\n",
       "    }\n",
       "</style>\n",
       "<table border=\"1\" class=\"dataframe\">\n",
       "  <thead>\n",
       "    <tr style=\"text-align: right;\">\n",
       "      <th></th>\n",
       "      <th>CustomerId</th>\n",
       "      <th>HasCrCard</th>\n",
       "      <th>IsActiveMember</th>\n",
       "      <th>EstimatedSalary</th>\n",
       "      <th>application_date</th>\n",
       "      <th>exit_date</th>\n",
       "      <th>birth_date</th>\n",
       "      <th>years_since_application</th>\n",
       "      <th>application_to_exit</th>\n",
       "      <th>churn</th>\n",
       "      <th>Score</th>\n",
       "      <th>age</th>\n",
       "      <th>number_of_products</th>\n",
       "      <th>balance</th>\n",
       "    </tr>\n",
       "  </thead>\n",
       "  <tbody>\n",
       "    <tr>\n",
       "      <th>count</th>\n",
       "      <td>9995.00</td>\n",
       "      <td>9995.00</td>\n",
       "      <td>9995.00</td>\n",
       "      <td>9995.00</td>\n",
       "      <td>9995</td>\n",
       "      <td>7178</td>\n",
       "      <td>9995</td>\n",
       "      <td>9995.00</td>\n",
       "      <td>7178.00</td>\n",
       "      <td>9995.00</td>\n",
       "      <td>9995.00</td>\n",
       "      <td>9995.00</td>\n",
       "      <td>9995.00</td>\n",
       "      <td>9995.00</td>\n",
       "    </tr>\n",
       "    <tr>\n",
       "      <th>mean</th>\n",
       "      <td>15690944.68</td>\n",
       "      <td>0.71</td>\n",
       "      <td>0.52</td>\n",
       "      <td>100075.71</td>\n",
       "      <td>2016-06-17 00:09:30.525262848</td>\n",
       "      <td>2018-06-29 10:01:38.300362240</td>\n",
       "      <td>1977-01-14 09:49:41.210605312</td>\n",
       "      <td>3.45</td>\n",
       "      <td>2.35</td>\n",
       "      <td>0.20</td>\n",
       "      <td>650.53</td>\n",
       "      <td>42.37</td>\n",
       "      <td>1.53</td>\n",
       "      <td>76481.62</td>\n",
       "    </tr>\n",
       "    <tr>\n",
       "      <th>min</th>\n",
       "      <td>15565701.00</td>\n",
       "      <td>0.00</td>\n",
       "      <td>0.00</td>\n",
       "      <td>11.58</td>\n",
       "      <td>2015-01-02 00:00:00</td>\n",
       "      <td>2015-05-01 00:00:00</td>\n",
       "      <td>1923-09-20 00:00:00</td>\n",
       "      <td>2.00</td>\n",
       "      <td>0.25</td>\n",
       "      <td>0.00</td>\n",
       "      <td>350.00</td>\n",
       "      <td>20.00</td>\n",
       "      <td>1.00</td>\n",
       "      <td>-0.00</td>\n",
       "    </tr>\n",
       "    <tr>\n",
       "      <th>25%</th>\n",
       "      <td>15628471.50</td>\n",
       "      <td>0.00</td>\n",
       "      <td>0.00</td>\n",
       "      <td>50973.58</td>\n",
       "      <td>2015-09-22 00:00:00</td>\n",
       "      <td>2017-11-23 00:00:00</td>\n",
       "      <td>1972-01-27 00:00:00</td>\n",
       "      <td>2.71</td>\n",
       "      <td>1.79</td>\n",
       "      <td>0.00</td>\n",
       "      <td>584.00</td>\n",
       "      <td>35.00</td>\n",
       "      <td>1.00</td>\n",
       "      <td>0.00</td>\n",
       "    </tr>\n",
       "    <tr>\n",
       "      <th>50%</th>\n",
       "      <td>15690744.00</td>\n",
       "      <td>1.00</td>\n",
       "      <td>1.00</td>\n",
       "      <td>100187.43</td>\n",
       "      <td>2016-06-17 00:00:00</td>\n",
       "      <td>2018-08-25 00:00:00</td>\n",
       "      <td>1978-08-12 00:00:00</td>\n",
       "      <td>3.45</td>\n",
       "      <td>2.42</td>\n",
       "      <td>0.00</td>\n",
       "      <td>652.00</td>\n",
       "      <td>41.00</td>\n",
       "      <td>1.00</td>\n",
       "      <td>97188.62</td>\n",
       "    </tr>\n",
       "    <tr>\n",
       "      <th>75%</th>\n",
       "      <td>15753290.00</td>\n",
       "      <td>1.00</td>\n",
       "      <td>1.00</td>\n",
       "      <td>149382.88</td>\n",
       "      <td>2017-03-15 00:00:00</td>\n",
       "      <td>2019-04-12 18:00:00</td>\n",
       "      <td>1984-02-12 00:00:00</td>\n",
       "      <td>4.19</td>\n",
       "      <td>3.05</td>\n",
       "      <td>0.00</td>\n",
       "      <td>718.00</td>\n",
       "      <td>47.00</td>\n",
       "      <td>2.00</td>\n",
       "      <td>127640.39</td>\n",
       "    </tr>\n",
       "    <tr>\n",
       "      <th>max</th>\n",
       "      <td>15815690.00</td>\n",
       "      <td>1.00</td>\n",
       "      <td>1.00</td>\n",
       "      <td>199992.48</td>\n",
       "      <td>2017-11-30 00:00:00</td>\n",
       "      <td>2019-11-29 00:00:00</td>\n",
       "      <td>1999-10-20 00:00:00</td>\n",
       "      <td>4.91</td>\n",
       "      <td>4.00</td>\n",
       "      <td>1.00</td>\n",
       "      <td>850.00</td>\n",
       "      <td>96.00</td>\n",
       "      <td>4.00</td>\n",
       "      <td>250898.09</td>\n",
       "    </tr>\n",
       "    <tr>\n",
       "      <th>std</th>\n",
       "      <td>71949.43</td>\n",
       "      <td>0.46</td>\n",
       "      <td>0.50</td>\n",
       "      <td>57514.27</td>\n",
       "      <td>NaN</td>\n",
       "      <td>NaN</td>\n",
       "      <td>NaN</td>\n",
       "      <td>0.85</td>\n",
       "      <td>0.93</td>\n",
       "      <td>0.40</td>\n",
       "      <td>96.66</td>\n",
       "      <td>10.54</td>\n",
       "      <td>0.58</td>\n",
       "      <td>62390.93</td>\n",
       "    </tr>\n",
       "  </tbody>\n",
       "</table>\n",
       "</div>"
      ],
      "text/plain": [
       "       CustomerId  HasCrCard  IsActiveMember  EstimatedSalary  \\\n",
       "count     9995.00    9995.00         9995.00          9995.00   \n",
       "mean  15690944.68       0.71            0.52        100075.71   \n",
       "min   15565701.00       0.00            0.00            11.58   \n",
       "25%   15628471.50       0.00            0.00         50973.58   \n",
       "50%   15690744.00       1.00            1.00        100187.43   \n",
       "75%   15753290.00       1.00            1.00        149382.88   \n",
       "max   15815690.00       1.00            1.00        199992.48   \n",
       "std      71949.43       0.46            0.50         57514.27   \n",
       "\n",
       "                    application_date                      exit_date  \\\n",
       "count                           9995                           7178   \n",
       "mean   2016-06-17 00:09:30.525262848  2018-06-29 10:01:38.300362240   \n",
       "min              2015-01-02 00:00:00            2015-05-01 00:00:00   \n",
       "25%              2015-09-22 00:00:00            2017-11-23 00:00:00   \n",
       "50%              2016-06-17 00:00:00            2018-08-25 00:00:00   \n",
       "75%              2017-03-15 00:00:00            2019-04-12 18:00:00   \n",
       "max              2017-11-30 00:00:00            2019-11-29 00:00:00   \n",
       "std                              NaN                            NaN   \n",
       "\n",
       "                          birth_date  years_since_application  \\\n",
       "count                           9995                  9995.00   \n",
       "mean   1977-01-14 09:49:41.210605312                     3.45   \n",
       "min              1923-09-20 00:00:00                     2.00   \n",
       "25%              1972-01-27 00:00:00                     2.71   \n",
       "50%              1978-08-12 00:00:00                     3.45   \n",
       "75%              1984-02-12 00:00:00                     4.19   \n",
       "max              1999-10-20 00:00:00                     4.91   \n",
       "std                              NaN                     0.85   \n",
       "\n",
       "       application_to_exit   churn   Score     age  number_of_products  \\\n",
       "count              7178.00 9995.00 9995.00 9995.00             9995.00   \n",
       "mean                  2.35    0.20  650.53   42.37                1.53   \n",
       "min                   0.25    0.00  350.00   20.00                1.00   \n",
       "25%                   1.79    0.00  584.00   35.00                1.00   \n",
       "50%                   2.42    0.00  652.00   41.00                1.00   \n",
       "75%                   3.05    0.00  718.00   47.00                2.00   \n",
       "max                   4.00    1.00  850.00   96.00                4.00   \n",
       "std                   0.93    0.40   96.66   10.54                0.58   \n",
       "\n",
       "        balance  \n",
       "count   9995.00  \n",
       "mean   76481.62  \n",
       "min       -0.00  \n",
       "25%        0.00  \n",
       "50%    97188.62  \n",
       "75%   127640.39  \n",
       "max   250898.09  \n",
       "std    62390.93  "
      ]
     },
     "execution_count": 57,
     "metadata": {},
     "output_type": "execute_result"
    }
   ],
   "source": [
    "df_clients_f.describe()"
   ]
  },
  {
   "cell_type": "code",
   "execution_count": 58,
   "metadata": {},
   "outputs": [
    {
     "data": {
      "image/png": "[encoded data removed]",
      "text/plain": [
       "<Figure size 1080x360 with 2 Axes>"
      ]
     },
     "metadata": {
      "needs_background": "light"
     },
     "output_type": "display_data"
    }
   ],
   "source": [
    "cat_cols = ['Geography','Gender']\n",
    "\n",
    "num_rows = 1\n",
    "num_cols = len(cat_cols)\n",
    "\n",
    "fig, axes = plt.subplots(num_rows, num_cols, figsize=(15, 5))\n",
    "\n",
    "fig.suptitle(\"Distribution of categorical columns\", fontsize=16)\n",
    "\n",
    "for i, col in enumerate(cat_cols):\n",
    "    ax = sns.countplot(data=df_clients_f, x=col, palette='Blues_r', ax=axes[i])\n",
    "    ax.grid(b=None)\n",
    "    ax.set_facecolor('white')\n",
    "    ax.set_title(f'Distribution of {col}')\n",
    "    ax.bar_label(ax.containers[0])\n",
    "    ax.set_xticklabels(ax.get_xticklabels(), rotation=45, horizontalalignment='right')\n",
    "\n",
    "plt.tight_layout()\n",
    "plt.show()"
   ]
  },
  {
   "cell_type": "markdown",
   "metadata": {},
   "source": [
    "There isn't a clear relationship between these and the target"
   ]
  },
  {
   "cell_type": "code",
   "execution_count": 59,
   "metadata": {},
   "outputs": [
    {
     "data": {
      "image/png": "[encoded data removed]",
      "text/plain": [
       "<Figure size 1080x360 with 2 Axes>"
      ]
     },
     "metadata": {
      "needs_background": "light"
     },
     "output_type": "display_data"
    }
   ],
   "source": [
    "num_rows = 1\n",
    "num_cols = len(cat_cols)\n",
    "\n",
    "fig, axes = plt.subplots(num_rows, num_cols, figsize=(15, 5))\n",
    "\n",
    "fig.suptitle(\"Target distribution by...\", fontsize=16)\n",
    "\n",
    "for i, col in enumerate(cat_cols):\n",
    "    ax = sns.countplot(data=df_clients_f, x='churn', palette='Blues_r', ax=axes[i], hue = col)\n",
    "    ax.grid(b=None)\n",
    "    ax.set_facecolor('white')\n",
    "    ax.set_title(f'{col}')\n",
    "    ax.bar_label(ax.containers[0])\n",
    "    ax.bar_label(ax.containers[1])\n",
    "    ax.set_xticklabels(ax.get_xticklabels(), rotation=45, horizontalalignment='right')\n",
    "\n",
    "plt.tight_layout()\n",
    "plt.show()"
   ]
  },
  {
   "cell_type": "markdown",
   "metadata": {},
   "source": [
    "Neither for numeric variables, maybe except age"
   ]
  },
  {
   "cell_type": "code",
   "execution_count": 60,
   "metadata": {},
   "outputs": [
    {
     "data": {
      "image/png": "[encoded data removed]",
      "text/plain": [
       "<Figure size 1080x360 with 4 Axes>"
      ]
     },
     "metadata": {
      "needs_background": "light"
     },
     "output_type": "display_data"
    }
   ],
   "source": [
    "num_cols=['EstimatedSalary','Score','balance','age']\n",
    "\n",
    "num_plots = len(num_cols)\n",
    "\n",
    "# Create a grid of subplots\n",
    "fig, axes = plt.subplots(1, num_plots, figsize=(15, 5))\n",
    "fig.suptitle(\"Distribution of numeric columns by target\", fontsize=16)\n",
    "# Iterate through continuous variables and create KDE plots\n",
    "for i, col in enumerate(num_cols):\n",
    "    ax = axes[i]\n",
    "    sns.kdeplot(x=col, hue='churn', palette='Blues_r', shade=True, data=df_clients_f, ax=ax)\n",
    "    ax.set_facecolor('white')\n",
    "\n",
    "plt.tight_layout()\n",
    "plt.show()"
   ]
  },
  {
   "cell_type": "markdown",
   "metadata": {},
   "source": [
    "Stats for new variables"
   ]
  },
  {
   "cell_type": "code",
   "execution_count": 61,
   "metadata": {},
   "outputs": [
    {
     "data": {
      "text/html": [
       "<div>\n",
       "<style scoped>\n",
       "    .dataframe tbody tr th:only-of-type {\n",
       "        vertical-align: middle;\n",
       "    }\n",
       "\n",
       "    .dataframe tbody tr th {\n",
       "        vertical-align: top;\n",
       "    }\n",
       "\n",
       "    .dataframe thead th {\n",
       "        text-align: right;\n",
       "    }\n",
       "</style>\n",
       "<table border=\"1\" class=\"dataframe\">\n",
       "  <thead>\n",
       "    <tr style=\"text-align: right;\">\n",
       "      <th></th>\n",
       "      <th>number_of_products</th>\n",
       "      <th>balance</th>\n",
       "      <th>Score</th>\n",
       "      <th>age</th>\n",
       "    </tr>\n",
       "  </thead>\n",
       "  <tbody>\n",
       "    <tr>\n",
       "      <th>count</th>\n",
       "      <td>9995.00</td>\n",
       "      <td>9995.00</td>\n",
       "      <td>9995.00</td>\n",
       "      <td>9995.00</td>\n",
       "    </tr>\n",
       "    <tr>\n",
       "      <th>mean</th>\n",
       "      <td>1.53</td>\n",
       "      <td>76481.62</td>\n",
       "      <td>650.53</td>\n",
       "      <td>42.37</td>\n",
       "    </tr>\n",
       "    <tr>\n",
       "      <th>std</th>\n",
       "      <td>0.58</td>\n",
       "      <td>62390.93</td>\n",
       "      <td>96.66</td>\n",
       "      <td>10.54</td>\n",
       "    </tr>\n",
       "    <tr>\n",
       "      <th>min</th>\n",
       "      <td>1.00</td>\n",
       "      <td>-0.00</td>\n",
       "      <td>350.00</td>\n",
       "      <td>20.00</td>\n",
       "    </tr>\n",
       "    <tr>\n",
       "      <th>25%</th>\n",
       "      <td>1.00</td>\n",
       "      <td>0.00</td>\n",
       "      <td>584.00</td>\n",
       "      <td>35.00</td>\n",
       "    </tr>\n",
       "    <tr>\n",
       "      <th>50%</th>\n",
       "      <td>1.00</td>\n",
       "      <td>97188.62</td>\n",
       "      <td>652.00</td>\n",
       "      <td>41.00</td>\n",
       "    </tr>\n",
       "    <tr>\n",
       "      <th>75%</th>\n",
       "      <td>2.00</td>\n",
       "      <td>127640.39</td>\n",
       "      <td>718.00</td>\n",
       "      <td>47.00</td>\n",
       "    </tr>\n",
       "    <tr>\n",
       "      <th>max</th>\n",
       "      <td>4.00</td>\n",
       "      <td>250898.09</td>\n",
       "      <td>850.00</td>\n",
       "      <td>96.00</td>\n",
       "    </tr>\n",
       "  </tbody>\n",
       "</table>\n",
       "</div>"
      ],
      "text/plain": [
       "       number_of_products   balance   Score     age\n",
       "count             9995.00   9995.00 9995.00 9995.00\n",
       "mean                 1.53  76481.62  650.53   42.37\n",
       "std                  0.58  62390.93   96.66   10.54\n",
       "min                  1.00     -0.00  350.00   20.00\n",
       "25%                  1.00      0.00  584.00   35.00\n",
       "50%                  1.00  97188.62  652.00   41.00\n",
       "75%                  2.00 127640.39  718.00   47.00\n",
       "max                  4.00 250898.09  850.00   96.00"
      ]
     },
     "execution_count": 61,
     "metadata": {},
     "output_type": "execute_result"
    }
   ],
   "source": [
    "df_clients_f[['number_of_products','balance','Score','age']].describe()"
   ]
  },
  {
   "cell_type": "markdown",
   "metadata": {},
   "source": [
    "Distribution of numeric variables"
   ]
  },
  {
   "cell_type": "code",
   "execution_count": 62,
   "metadata": {},
   "outputs": [
    {
     "data": {
      "image/png": "[encoded data removed]",
      "text/plain": [
       "<Figure size 1440x720 with 6 Axes>"
      ]
     },
     "metadata": {},
     "output_type": "display_data"
    }
   ],
   "source": [
    "num_cols=['HasCrCard','EstimatedSalary','Score','balance','age','number_of_products']\n",
    "fig, axes = plt.subplots(nrows=2, ncols=len(num_cols)//2, figsize=(20, 10), facecolor='white')\n",
    "fig.suptitle(\"Distribution of numeric columns\", fontsize=16)\n",
    "\n",
    "for i in range(2):\n",
    "    for j, col in enumerate(num_cols[i * (len(num_cols) // 2): (i + 1) * (len(num_cols) // 2)]):\n",
    "        ax = sns.histplot(data=df_clients_f, x=col, kde=True, ax=axes[i, j])\n",
    "        ax.set_facecolor('white')\n",
    "\n",
    "plt.tight_layout()\n",
    "plt.show()\n"
   ]
  },
  {
   "cell_type": "markdown",
   "metadata": {},
   "source": [
    "Correlation isn't clear"
   ]
  },
  {
   "cell_type": "code",
   "execution_count": 63,
   "metadata": {},
   "outputs": [],
   "source": [
    "def Generate_heatmap_graph(corr, chart_title, mask_uppertri=False ):\n",
    "    \n",
    "    mask = np.zeros_like(corr)\n",
    "    mask[np.triu_indices_from(mask)] = mask_uppertri\n",
    "    fig,ax = plt.subplots(figsize=(10,10))\n",
    "    ax.set_facecolor('white')\n",
    "    sns.heatmap(corr\n",
    "                , mask = mask\n",
    "                , square = True\n",
    "                , annot = True\n",
    "                , annot_kws={'size': 10.5, 'weight' : 'bold'}\n",
    "                , cmap='Blues'\n",
    "                , linewidths=.1)\n",
    "    plt.title(chart_title, fontsize=14)\n",
    "\n",
    "    plt.show()"
   ]
  },
  {
   "cell_type": "code",
   "execution_count": 64,
   "metadata": {},
   "outputs": [
    {
     "data": {
      "image/png": "[encoded data removed]",
      "text/plain": [
       "<Figure size 720x720 with 2 Axes>"
      ]
     },
     "metadata": {
      "needs_background": "light"
     },
     "output_type": "display_data"
    }
   ],
   "source": [
    "var_corr = round(df_clients_f[num_cols + ['churn']].corr(),2)\n",
    "Generate_heatmap_graph(var_corr\n",
    "                       ,chart_title = 'Correlation matrix'\n",
    "                       ,mask_uppertri = True)"
   ]
  },
  {
   "cell_type": "markdown",
   "metadata": {},
   "source": [
    "## Outliers analysis"
   ]
  },
  {
   "cell_type": "markdown",
   "metadata": {},
   "source": [
    "There isn't clear evidence of outliers by first sight"
   ]
  },
  {
   "cell_type": "code",
   "execution_count": 65,
   "metadata": {},
   "outputs": [
    {
     "data": {
      "image/png": "[encoded data removed]",
      "text/plain": [
       "<Figure size 1440x360 with 3 Axes>"
      ]
     },
     "metadata": {
      "needs_background": "light"
     },
     "output_type": "display_data"
    }
   ],
   "source": [
    "fig, axes = plt.subplots(ncols=3, figsize=(20, 5))\n",
    "fig.suptitle(\"Gráficos box-plot de variables con valores atípicos\", fontsize=16)\n",
    "\n",
    "sns.boxplot(x=df_clients_f[\"balance\"], ax=axes[0])\n",
    "sns.boxplot(x=df_clients_f[\"EstimatedSalary\"], ax=axes[1])\n",
    "sns.boxplot(x=df_clients_f[\"Score\"], ax=axes[2])\n",
    "plt.show()"
   ]
  },
  {
   "cell_type": "code",
   "execution_count": 66,
   "metadata": {},
   "outputs": [],
   "source": [
    "def tukey_outliers(df,column,extreme=False):\n",
    "    q1, q3 = np.percentile(df[column],[25,75])\n",
    "    iqr = q3 - q1\n",
    "    constant = 1.5 if not extreme else 3\n",
    "    return df[~((df[column]>(q3+constant*iqr)) | (df[column]<(q1-constant*iqr)))] "
   ]
  },
  {
   "cell_type": "code",
   "execution_count": 67,
   "metadata": {},
   "outputs": [
    {
     "name": "stdout",
     "output_type": "stream",
     "text": [
      "Outliers in column balance : 0.0 %\n",
      "Outliers in column EstimatedSalary : 0.0 %\n",
      "Outliers in column Score : 0.15 %\n"
     ]
    }
   ],
   "source": [
    "outlier_check_cols = ['balance','EstimatedSalary','Score']\n",
    "\n",
    "for columna in outlier_check_cols:\n",
    "    outliers = round((1 - len(tukey_outliers(df_clients_f,columna,extreme=False))/len(df_clients_f))*100,2)\n",
    "    print('Outliers in column',columna,':',outliers,'%')"
   ]
  },
  {
   "cell_type": "markdown",
   "metadata": {},
   "source": [
    "# Modelling"
   ]
  },
  {
   "cell_type": "markdown",
   "metadata": {},
   "source": [
    "Import machine learning libraries"
   ]
  },
  {
   "cell_type": "code",
   "execution_count": 68,
   "metadata": {},
   "outputs": [],
   "source": [
    "from sklearn.model_selection import StratifiedShuffleSplit\n",
    "from sklearn.preprocessing import MinMaxScaler\n",
    "from sklearn.model_selection import KFold, cross_validate, GridSearchCV\n",
    "from sklearn.metrics import accuracy_score, confusion_matrix, classification_report, f1_score, roc_auc_score, recall_score, precision_score\n",
    "from sklearn.ensemble import RandomForestClassifier\n",
    "\n",
    "seed = 42"
   ]
  },
  {
   "cell_type": "markdown",
   "metadata": {},
   "source": [
    "Delete columns with no information"
   ]
  },
  {
   "cell_type": "code",
   "execution_count": 70,
   "metadata": {},
   "outputs": [],
   "source": [
    "df_clean = df_clients_f.drop(columns=['CustomerId','Surname','exit_date','birth_date','application_date','application_to_exit']) # Removing exit_date to avoid leakage"
   ]
  },
  {
   "cell_type": "markdown",
   "metadata": {},
   "source": [
    "Confirm we don't have any missing values"
   ]
  },
  {
   "cell_type": "code",
   "execution_count": 71,
   "metadata": {},
   "outputs": [
    {
     "data": {
      "text/plain": [
       "Geography                  0\n",
       "Gender                     0\n",
       "HasCrCard                  0\n",
       "IsActiveMember             0\n",
       "EstimatedSalary            0\n",
       "years_since_application    0\n",
       "churn                      0\n",
       "Score                      0\n",
       "age                        0\n",
       "number_of_products         0\n",
       "balance                    0\n",
       "dtype: int64"
      ]
     },
     "execution_count": 71,
     "metadata": {},
     "output_type": "execute_result"
    }
   ],
   "source": [
    "df_clean.isna().sum()"
   ]
  },
  {
   "cell_type": "markdown",
   "metadata": {},
   "source": [
    "Generate train and test datasets"
   ]
  },
  {
   "cell_type": "code",
   "execution_count": 72,
   "metadata": {},
   "outputs": [],
   "source": [
    "sss = StratifiedShuffleSplit(n_splits =1, test_size =0.2 , random_state =42)\n",
    "X_train , X_test , y_train , y_test = None , None , None , None\n",
    "\n",
    "for train_index , test_index in sss.split(df_clean.drop(columns =['churn']) ,df_clean['churn']):\n",
    "    train_df = df_clean.iloc[train_index]\n",
    "    test_df = df_clean.iloc[test_index]\n",
    "    X_train , y_train = train_df.drop(columns =['churn']) , train_df.churn\n",
    "    X_test , y_test = test_df.drop(columns =['churn']) , test_df.churn"
   ]
  },
  {
   "cell_type": "code",
   "execution_count": 73,
   "metadata": {},
   "outputs": [
    {
     "data": {
      "text/plain": [
       "((7996, 10), (1999, 10))"
      ]
     },
     "execution_count": 73,
     "metadata": {},
     "output_type": "execute_result"
    }
   ],
   "source": [
    "X_train.shape, X_test.shape"
   ]
  },
  {
   "cell_type": "code",
   "execution_count": 74,
   "metadata": {},
   "outputs": [
    {
     "data": {
      "text/plain": [
       "'Target distribution in train: 0.2, in test:0.2'"
      ]
     },
     "execution_count": 74,
     "metadata": {},
     "output_type": "execute_result"
    }
   ],
   "source": [
    "(f'Target distribution in train: {round(y_train.mean(),2)}, in test:{round(y_test.mean(),2)}')"
   ]
  },
  {
   "cell_type": "markdown",
   "metadata": {},
   "source": [
    "Visualize training data"
   ]
  },
  {
   "cell_type": "code",
   "execution_count": 75,
   "metadata": {},
   "outputs": [
    {
     "data": {
      "text/html": [
       "<div>\n",
       "<style scoped>\n",
       "    .dataframe tbody tr th:only-of-type {\n",
       "        vertical-align: middle;\n",
       "    }\n",
       "\n",
       "    .dataframe tbody tr th {\n",
       "        vertical-align: top;\n",
       "    }\n",
       "\n",
       "    .dataframe thead th {\n",
       "        text-align: right;\n",
       "    }\n",
       "</style>\n",
       "<table border=\"1\" class=\"dataframe\">\n",
       "  <thead>\n",
       "    <tr style=\"text-align: right;\">\n",
       "      <th></th>\n",
       "      <th>Geography</th>\n",
       "      <th>Gender</th>\n",
       "      <th>HasCrCard</th>\n",
       "      <th>IsActiveMember</th>\n",
       "      <th>EstimatedSalary</th>\n",
       "      <th>years_since_application</th>\n",
       "      <th>Score</th>\n",
       "      <th>age</th>\n",
       "      <th>number_of_products</th>\n",
       "      <th>balance</th>\n",
       "    </tr>\n",
       "  </thead>\n",
       "  <tbody>\n",
       "    <tr>\n",
       "      <th>2540</th>\n",
       "      <td>Spain</td>\n",
       "      <td>Male</td>\n",
       "      <td>0.00</td>\n",
       "      <td>0.00</td>\n",
       "      <td>183656.12</td>\n",
       "      <td>4.19</td>\n",
       "      <td>703</td>\n",
       "      <td>43</td>\n",
       "      <td>1</td>\n",
       "      <td>152685.40</td>\n",
       "    </tr>\n",
       "    <tr>\n",
       "      <th>4409</th>\n",
       "      <td>Spain</td>\n",
       "      <td>Female</td>\n",
       "      <td>1.00</td>\n",
       "      <td>0.00</td>\n",
       "      <td>45482.04</td>\n",
       "      <td>4.82</td>\n",
       "      <td>606</td>\n",
       "      <td>30</td>\n",
       "      <td>3</td>\n",
       "      <td>147386.72</td>\n",
       "    </tr>\n",
       "    <tr>\n",
       "      <th>9048</th>\n",
       "      <td>Spain</td>\n",
       "      <td>Male</td>\n",
       "      <td>0.00</td>\n",
       "      <td>0.00</td>\n",
       "      <td>143203.78</td>\n",
       "      <td>4.03</td>\n",
       "      <td>605</td>\n",
       "      <td>45</td>\n",
       "      <td>1</td>\n",
       "      <td>103154.66</td>\n",
       "    </tr>\n",
       "    <tr>\n",
       "      <th>3513</th>\n",
       "      <td>France</td>\n",
       "      <td>Female</td>\n",
       "      <td>0.00</td>\n",
       "      <td>0.00</td>\n",
       "      <td>83419.15</td>\n",
       "      <td>2.05</td>\n",
       "      <td>675</td>\n",
       "      <td>41</td>\n",
       "      <td>2</td>\n",
       "      <td>0.00</td>\n",
       "    </tr>\n",
       "    <tr>\n",
       "      <th>4019</th>\n",
       "      <td>Germany</td>\n",
       "      <td>Female</td>\n",
       "      <td>1.00</td>\n",
       "      <td>1.00</td>\n",
       "      <td>134417.31</td>\n",
       "      <td>3.85</td>\n",
       "      <td>700</td>\n",
       "      <td>34</td>\n",
       "      <td>1</td>\n",
       "      <td>116377.48</td>\n",
       "    </tr>\n",
       "  </tbody>\n",
       "</table>\n",
       "</div>"
      ],
      "text/plain": [
       "     Geography  Gender  HasCrCard  IsActiveMember  EstimatedSalary  \\\n",
       "2540     Spain    Male       0.00            0.00        183656.12   \n",
       "4409     Spain  Female       1.00            0.00         45482.04   \n",
       "9048     Spain    Male       0.00            0.00        143203.78   \n",
       "3513    France  Female       0.00            0.00         83419.15   \n",
       "4019   Germany  Female       1.00            1.00        134417.31   \n",
       "\n",
       "      years_since_application  Score  age  number_of_products   balance  \n",
       "2540                     4.19    703   43                   1 152685.40  \n",
       "4409                     4.82    606   30                   3 147386.72  \n",
       "9048                     4.03    605   45                   1 103154.66  \n",
       "3513                     2.05    675   41                   2      0.00  \n",
       "4019                     3.85    700   34                   1 116377.48  "
      ]
     },
     "execution_count": 75,
     "metadata": {},
     "output_type": "execute_result"
    }
   ],
   "source": [
    "X_train.head()"
   ]
  },
  {
   "cell_type": "markdown",
   "metadata": {},
   "source": [
    "Create dummies for categorical variables"
   ]
  },
  {
   "cell_type": "code",
   "execution_count": 76,
   "metadata": {},
   "outputs": [],
   "source": [
    "categorical_vars = ['Geography', 'Gender']\n",
    "\n",
    "X_train = pd.get_dummies(X_train, columns = categorical_vars, drop_first=True)\n",
    "X_test = pd.get_dummies(X_test, columns = categorical_vars, drop_first=True)"
   ]
  },
  {
   "cell_type": "markdown",
   "metadata": {},
   "source": [
    "Scaling"
   ]
  },
  {
   "cell_type": "code",
   "execution_count": 77,
   "metadata": {},
   "outputs": [],
   "source": [
    "mm_scaler = MinMaxScaler()\n",
    "\n",
    "X_train['EstimatedSalary_transf'] = mm_scaler.fit_transform(X_train[['EstimatedSalary']])\n",
    "X_test['EstimatedSalary_transf'] = mm_scaler.transform(X_test[['EstimatedSalary']])"
   ]
  },
  {
   "cell_type": "code",
   "execution_count": 78,
   "metadata": {},
   "outputs": [],
   "source": [
    "X_train.drop(columns=['EstimatedSalary'],inplace=True)\n",
    "X_test.drop(columns=['EstimatedSalary'],inplace=True)"
   ]
  },
  {
   "cell_type": "markdown",
   "metadata": {},
   "source": [
    "Save checkpoint"
   ]
  },
  {
   "cell_type": "code",
   "execution_count": 79,
   "metadata": {},
   "outputs": [],
   "source": [
    "X_train_full = X_train.copy()\n",
    "X_test_full = X_test.copy()\n",
    "\n",
    "X_train_full['churn'] = y_train\n",
    "X_test_full['churn'] = y_test\n",
    "\n",
    "X_train_full.to_csv('../data/train_df.csv', index=False)\n",
    "X_test_full.to_csv('../data/test_df.csv', index=False)"
   ]
  },
  {
   "cell_type": "markdown",
   "metadata": {},
   "source": [
    "### Construction of models"
   ]
  },
  {
   "cell_type": "markdown",
   "metadata": {},
   "source": [
    "Given that our dataset is imbalanced (20-80), we'll use AUC (area under the curve) as a metric.\n",
    "\n",
    "Note that imbalanced datasets could be treated using methods such as SMOTE or Under/Over Sampling, but it will be left as an improvement for future models"
   ]
  },
  {
   "cell_type": "markdown",
   "metadata": {},
   "source": [
    "### Baseline"
   ]
  },
  {
   "cell_type": "code",
   "execution_count": 80,
   "metadata": {},
   "outputs": [],
   "source": [
    "from sklearn.linear_model import LogisticRegression"
   ]
  },
  {
   "cell_type": "code",
   "execution_count": 81,
   "metadata": {},
   "outputs": [],
   "source": [
    "lr_model = LogisticRegression(random_state=seed)"
   ]
  },
  {
   "cell_type": "code",
   "execution_count": 82,
   "metadata": {},
   "outputs": [
    {
     "data": {
      "text/html": [
       "<style>#sk-container-id-1 {color: black;background-color: white;}#sk-container-id-1 pre{padding: 0;}#sk-container-id-1 div.sk-toggleable {background-color: white;}#sk-container-id-1 label.sk-toggleable__label {cursor: pointer;display: block;width: 100%;margin-bottom: 0;padding: 0.3em;box-sizing: border-box;text-align: center;}#sk-container-id-1 label.sk-toggleable__label-arrow:before {content: \"▸\";float: left;margin-right: 0.25em;color: #696969;}#sk-container-id-1 label.sk-toggleable__label-arrow:hover:before {color: black;}#sk-container-id-1 div.sk-estimator:hover label.sk-toggleable__label-arrow:before {color: black;}#sk-container-id-1 div.sk-toggleable__content {max-height: 0;max-width: 0;overflow: hidden;text-align: left;background-color: #f0f8ff;}#sk-container-id-1 div.sk-toggleable__content pre {margin: 0.2em;color: black;border-radius: 0.25em;background-color: #f0f8ff;}#sk-container-id-1 input.sk-toggleable__control:checked~div.sk-toggleable__content {max-height: 200px;max-width: 100%;overflow: auto;}#sk-container-id-1 input.sk-toggleable__control:checked~label.sk-toggleable__label-arrow:before {content: \"▾\";}#sk-container-id-1 div.sk-estimator input.sk-toggleable__control:checked~label.sk-toggleable__label {background-color: #d4ebff;}#sk-container-id-1 div.sk-label input.sk-toggleable__control:checked~label.sk-toggleable__label {background-color: #d4ebff;}#sk-container-id-1 input.sk-hidden--visually {border: 0;clip: rect(1px 1px 1px 1px);clip: rect(1px, 1px, 1px, 1px);height: 1px;margin: -1px;overflow: hidden;padding: 0;position: absolute;width: 1px;}#sk-container-id-1 div.sk-estimator {font-family: monospace;background-color: #f0f8ff;border: 1px dotted black;border-radius: 0.25em;box-sizing: border-box;margin-bottom: 0.5em;}#sk-container-id-1 div.sk-estimator:hover {background-color: #d4ebff;}#sk-container-id-1 div.sk-parallel-item::after {content: \"\";width: 100%;border-bottom: 1px solid gray;flex-grow: 1;}#sk-container-id-1 div.sk-label:hover label.sk-toggleable__label {background-color: #d4ebff;}#sk-container-id-1 div.sk-serial::before {content: \"\";position: absolute;border-left: 1px solid gray;box-sizing: border-box;top: 0;bottom: 0;left: 50%;z-index: 0;}#sk-container-id-1 div.sk-serial {display: flex;flex-direction: column;align-items: center;background-color: white;padding-right: 0.2em;padding-left: 0.2em;position: relative;}#sk-container-id-1 div.sk-item {position: relative;z-index: 1;}#sk-container-id-1 div.sk-parallel {display: flex;align-items: stretch;justify-content: center;background-color: white;position: relative;}#sk-container-id-1 div.sk-item::before, #sk-container-id-1 div.sk-parallel-item::before {content: \"\";position: absolute;border-left: 1px solid gray;box-sizing: border-box;top: 0;bottom: 0;left: 50%;z-index: -1;}#sk-container-id-1 div.sk-parallel-item {display: flex;flex-direction: column;z-index: 1;position: relative;background-color: white;}#sk-container-id-1 div.sk-parallel-item:first-child::after {align-self: flex-end;width: 50%;}#sk-container-id-1 div.sk-parallel-item:last-child::after {align-self: flex-start;width: 50%;}#sk-container-id-1 div.sk-parallel-item:only-child::after {width: 0;}#sk-container-id-1 div.sk-dashed-wrapped {border: 1px dashed gray;margin: 0 0.4em 0.5em 0.4em;box-sizing: border-box;padding-bottom: 0.4em;background-color: white;}#sk-container-id-1 div.sk-label label {font-family: monospace;font-weight: bold;display: inline-block;line-height: 1.2em;}#sk-container-id-1 div.sk-label-container {text-align: center;}#sk-container-id-1 div.sk-container {/* jupyter's `normalize.less` sets `[hidden] { display: none; }` but bootstrap.min.css set `[hidden] { display: none !important; }` so we also need the `!important` here to be able to override the default hidden behavior on the sphinx rendered scikit-learn.org. See: https://github.com/scikit-learn/scikit-learn/issues/21755 */display: inline-block !important;position: relative;}#sk-container-id-1 div.sk-text-repr-fallback {display: none;}</style><div id=\"sk-container-id-1\" class=\"sk-top-container\"><div class=\"sk-text-repr-fallback\"><pre>LogisticRegression(random_state=42)</pre><b>In a Jupyter environment, please rerun this cell to show the HTML representation or trust the notebook. <br />On GitHub, the HTML representation is unable to render, please try loading this page with nbviewer.org.</b></div><div class=\"sk-container\" hidden><div class=\"sk-item\"><div class=\"sk-estimator sk-toggleable\"><input class=\"sk-toggleable__control sk-hidden--visually\" id=\"sk-estimator-id-1\" type=\"checkbox\" checked><label for=\"sk-estimator-id-1\" class=\"sk-toggleable__label sk-toggleable__label-arrow\">LogisticRegression</label><div class=\"sk-toggleable__content\"><pre>LogisticRegression(random_state=42)</pre></div></div></div></div></div>"
      ],
      "text/plain": [
       "LogisticRegression(random_state=42)"
      ]
     },
     "execution_count": 82,
     "metadata": {},
     "output_type": "execute_result"
    }
   ],
   "source": [
    "lr_model.fit(X_train,y_train)"
   ]
  },
  {
   "cell_type": "code",
   "execution_count": 83,
   "metadata": {},
   "outputs": [
    {
     "data": {
      "text/plain": [
       "0.5171049613649198"
      ]
     },
     "execution_count": 83,
     "metadata": {},
     "output_type": "execute_result"
    }
   ],
   "source": [
    "preds = lr_model.predict(X_train)\n",
    "roc_auc_score(y_train,preds)"
   ]
  },
  {
   "cell_type": "code",
   "execution_count": 84,
   "metadata": {},
   "outputs": [
    {
     "data": {
      "text/plain": [
       "0.5142612633190523"
      ]
     },
     "execution_count": 84,
     "metadata": {},
     "output_type": "execute_result"
    }
   ],
   "source": [
    "preds = lr_model.predict(X_test)\n",
    "roc_auc_score(y_test,preds)"
   ]
  },
  {
   "cell_type": "markdown",
   "metadata": {},
   "source": [
    "### Small grid search for optimal model using Random Forest"
   ]
  },
  {
   "cell_type": "code",
   "execution_count": 85,
   "metadata": {},
   "outputs": [
    {
     "data": {
      "text/html": [
       "<style>#sk-container-id-2 {color: black;background-color: white;}#sk-container-id-2 pre{padding: 0;}#sk-container-id-2 div.sk-toggleable {background-color: white;}#sk-container-id-2 label.sk-toggleable__label {cursor: pointer;display: block;width: 100%;margin-bottom: 0;padding: 0.3em;box-sizing: border-box;text-align: center;}#sk-container-id-2 label.sk-toggleable__label-arrow:before {content: \"▸\";float: left;margin-right: 0.25em;color: #696969;}#sk-container-id-2 label.sk-toggleable__label-arrow:hover:before {color: black;}#sk-container-id-2 div.sk-estimator:hover label.sk-toggleable__label-arrow:before {color: black;}#sk-container-id-2 div.sk-toggleable__content {max-height: 0;max-width: 0;overflow: hidden;text-align: left;background-color: #f0f8ff;}#sk-container-id-2 div.sk-toggleable__content pre {margin: 0.2em;color: black;border-radius: 0.25em;background-color: #f0f8ff;}#sk-container-id-2 input.sk-toggleable__control:checked~div.sk-toggleable__content {max-height: 200px;max-width: 100%;overflow: auto;}#sk-container-id-2 input.sk-toggleable__control:checked~label.sk-toggleable__label-arrow:before {content: \"▾\";}#sk-container-id-2 div.sk-estimator input.sk-toggleable__control:checked~label.sk-toggleable__label {background-color: #d4ebff;}#sk-container-id-2 div.sk-label input.sk-toggleable__control:checked~label.sk-toggleable__label {background-color: #d4ebff;}#sk-container-id-2 input.sk-hidden--visually {border: 0;clip: rect(1px 1px 1px 1px);clip: rect(1px, 1px, 1px, 1px);height: 1px;margin: -1px;overflow: hidden;padding: 0;position: absolute;width: 1px;}#sk-container-id-2 div.sk-estimator {font-family: monospace;background-color: #f0f8ff;border: 1px dotted black;border-radius: 0.25em;box-sizing: border-box;margin-bottom: 0.5em;}#sk-container-id-2 div.sk-estimator:hover {background-color: #d4ebff;}#sk-container-id-2 div.sk-parallel-item::after {content: \"\";width: 100%;border-bottom: 1px solid gray;flex-grow: 1;}#sk-container-id-2 div.sk-label:hover label.sk-toggleable__label {background-color: #d4ebff;}#sk-container-id-2 div.sk-serial::before {content: \"\";position: absolute;border-left: 1px solid gray;box-sizing: border-box;top: 0;bottom: 0;left: 50%;z-index: 0;}#sk-container-id-2 div.sk-serial {display: flex;flex-direction: column;align-items: center;background-color: white;padding-right: 0.2em;padding-left: 0.2em;position: relative;}#sk-container-id-2 div.sk-item {position: relative;z-index: 1;}#sk-container-id-2 div.sk-parallel {display: flex;align-items: stretch;justify-content: center;background-color: white;position: relative;}#sk-container-id-2 div.sk-item::before, #sk-container-id-2 div.sk-parallel-item::before {content: \"\";position: absolute;border-left: 1px solid gray;box-sizing: border-box;top: 0;bottom: 0;left: 50%;z-index: -1;}#sk-container-id-2 div.sk-parallel-item {display: flex;flex-direction: column;z-index: 1;position: relative;background-color: white;}#sk-container-id-2 div.sk-parallel-item:first-child::after {align-self: flex-end;width: 50%;}#sk-container-id-2 div.sk-parallel-item:last-child::after {align-self: flex-start;width: 50%;}#sk-container-id-2 div.sk-parallel-item:only-child::after {width: 0;}#sk-container-id-2 div.sk-dashed-wrapped {border: 1px dashed gray;margin: 0 0.4em 0.5em 0.4em;box-sizing: border-box;padding-bottom: 0.4em;background-color: white;}#sk-container-id-2 div.sk-label label {font-family: monospace;font-weight: bold;display: inline-block;line-height: 1.2em;}#sk-container-id-2 div.sk-label-container {text-align: center;}#sk-container-id-2 div.sk-container {/* jupyter's `normalize.less` sets `[hidden] { display: none; }` but bootstrap.min.css set `[hidden] { display: none !important; }` so we also need the `!important` here to be able to override the default hidden behavior on the sphinx rendered scikit-learn.org. See: https://github.com/scikit-learn/scikit-learn/issues/21755 */display: inline-block !important;position: relative;}#sk-container-id-2 div.sk-text-repr-fallback {display: none;}</style><div id=\"sk-container-id-2\" class=\"sk-top-container\"><div class=\"sk-text-repr-fallback\"><pre>GridSearchCV(cv=KFold(n_splits=5, random_state=42, shuffle=True),\n",
       "             estimator=RandomForestClassifier(random_state=42), n_jobs=-1,\n",
       "             param_grid={&#x27;criterion&#x27;: [&#x27;gini&#x27;, &#x27;entropy&#x27;],\n",
       "                         &#x27;n_estimators&#x27;: [5, 15, 25, 35, 45, 55, 65, 75, 85, 95,\n",
       "                                          105, 115, 125, 135, 145, 155, 165,\n",
       "                                          175, 185, 195]},\n",
       "             return_train_score=True, scoring=&#x27;roc_auc&#x27;)</pre><b>In a Jupyter environment, please rerun this cell to show the HTML representation or trust the notebook. <br />On GitHub, the HTML representation is unable to render, please try loading this page with nbviewer.org.</b></div><div class=\"sk-container\" hidden><div class=\"sk-item sk-dashed-wrapped\"><div class=\"sk-label-container\"><div class=\"sk-label sk-toggleable\"><input class=\"sk-toggleable__control sk-hidden--visually\" id=\"sk-estimator-id-2\" type=\"checkbox\" ><label for=\"sk-estimator-id-2\" class=\"sk-toggleable__label sk-toggleable__label-arrow\">GridSearchCV</label><div class=\"sk-toggleable__content\"><pre>GridSearchCV(cv=KFold(n_splits=5, random_state=42, shuffle=True),\n",
       "             estimator=RandomForestClassifier(random_state=42), n_jobs=-1,\n",
       "             param_grid={&#x27;criterion&#x27;: [&#x27;gini&#x27;, &#x27;entropy&#x27;],\n",
       "                         &#x27;n_estimators&#x27;: [5, 15, 25, 35, 45, 55, 65, 75, 85, 95,\n",
       "                                          105, 115, 125, 135, 145, 155, 165,\n",
       "                                          175, 185, 195]},\n",
       "             return_train_score=True, scoring=&#x27;roc_auc&#x27;)</pre></div></div></div><div class=\"sk-parallel\"><div class=\"sk-parallel-item\"><div class=\"sk-item\"><div class=\"sk-label-container\"><div class=\"sk-label sk-toggleable\"><input class=\"sk-toggleable__control sk-hidden--visually\" id=\"sk-estimator-id-3\" type=\"checkbox\" ><label for=\"sk-estimator-id-3\" class=\"sk-toggleable__label sk-toggleable__label-arrow\">estimator: RandomForestClassifier</label><div class=\"sk-toggleable__content\"><pre>RandomForestClassifier(random_state=42)</pre></div></div></div><div class=\"sk-serial\"><div class=\"sk-item\"><div class=\"sk-estimator sk-toggleable\"><input class=\"sk-toggleable__control sk-hidden--visually\" id=\"sk-estimator-id-4\" type=\"checkbox\" ><label for=\"sk-estimator-id-4\" class=\"sk-toggleable__label sk-toggleable__label-arrow\">RandomForestClassifier</label><div class=\"sk-toggleable__content\"><pre>RandomForestClassifier(random_state=42)</pre></div></div></div></div></div></div></div></div></div></div>"
      ],
      "text/plain": [
       "GridSearchCV(cv=KFold(n_splits=5, random_state=42, shuffle=True),\n",
       "             estimator=RandomForestClassifier(random_state=42), n_jobs=-1,\n",
       "             param_grid={'criterion': ['gini', 'entropy'],\n",
       "                         'n_estimators': [5, 15, 25, 35, 45, 55, 65, 75, 85, 95,\n",
       "                                          105, 115, 125, 135, 145, 155, 165,\n",
       "                                          175, 185, 195]},\n",
       "             return_train_score=True, scoring='roc_auc')"
      ]
     },
     "execution_count": 85,
     "metadata": {},
     "output_type": "execute_result"
    }
   ],
   "source": [
    "param_grid = {\n",
    "    \"n_estimators\": [x for x in range(5,201,10)],\n",
    "    \"criterion\":[\"gini\",\"entropy\"]\n",
    "}\n",
    "\n",
    "kfold = KFold(n_splits=5,shuffle=True,random_state=seed)\n",
    "\n",
    "grid_search_rf = GridSearchCV(RandomForestClassifier(random_state = seed)\n",
    "                            ,param_grid=param_grid\n",
    "                            ,scoring=\"roc_auc\"\n",
    "                            ,cv=kfold\n",
    "                            ,n_jobs=-1\n",
    "                            ,verbose=0\n",
    "                            ,return_train_score=True)\n",
    "\n",
    "grid_search_rf.fit(X_train, y_train)"
   ]
  },
  {
   "cell_type": "code",
   "execution_count": 86,
   "metadata": {},
   "outputs": [
    {
     "name": "stdout",
     "output_type": "stream",
     "text": [
      "Best Random Forest: RandomForestClassifier(criterion='entropy', n_estimators=195, random_state=42)\n",
      "AUC: 0.849\n"
     ]
    }
   ],
   "source": [
    "print(f'Best Random Forest: {grid_search_rf.best_estimator_}')\n",
    "print(f'AUC: {round(grid_search_rf.best_score_,3)}')"
   ]
  },
  {
   "cell_type": "markdown",
   "metadata": {},
   "source": [
    "Feature importances"
   ]
  },
  {
   "cell_type": "code",
   "execution_count": 87,
   "metadata": {},
   "outputs": [
    {
     "data": {
      "image/png": "[encoded data removed]",
      "text/plain": [
       "<Figure size 1008x720 with 1 Axes>"
      ]
     },
     "metadata": {
      "needs_background": "light"
     },
     "output_type": "display_data"
    }
   ],
   "source": [
    "pd.DataFrame(grid_search_rf.best_estimator_.feature_importances_.tolist(), index=X_train.columns, columns=['Importance']).sort_values('Importance').plot.barh(figsize=(14,10))\n",
    "plt.title('Feature importances for Random Forest')\n",
    "plt.show()"
   ]
  },
  {
   "cell_type": "markdown",
   "metadata": {},
   "source": [
    "Test results"
   ]
  },
  {
   "cell_type": "code",
   "execution_count": 88,
   "metadata": {},
   "outputs": [
    {
     "name": "stdout",
     "output_type": "stream",
     "text": [
      "              precision    recall  f1-score   support\n",
      "\n",
      "           0       0.88      0.96      0.92      1592\n",
      "           1       0.77      0.47      0.59       407\n",
      "\n",
      "    accuracy                           0.86      1999\n",
      "   macro avg       0.82      0.72      0.75      1999\n",
      "weighted avg       0.85      0.86      0.85      1999\n",
      "\n",
      "0.7185705863469682\n"
     ]
    }
   ],
   "source": [
    "preds = grid_search_rf.predict(X_test)\n",
    "print(classification_report(y_test,preds))\n",
    "print(roc_auc_score(y_test,preds))"
   ]
  }
 ],
 "metadata": {
  "kernelspec": {
   "display_name": "base",
   "language": "python",
   "name": "python3"
  },
  "language_info": {
   "codemirror_mode": {
    "name": "ipython",
    "version": 3
   },
   "file_extension": ".py",
   "mimetype": "text/x-python",
   "name": "python",
   "nbconvert_exporter": "python",
   "pygments_lexer": "ipython3",
   "version": "3.8.8"
  }
 },
 "nbformat": 4,
 "nbformat_minor": 2
}
