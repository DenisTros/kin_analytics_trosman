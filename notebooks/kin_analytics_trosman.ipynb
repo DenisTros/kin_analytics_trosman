{
 "cells": [
  {
   "cell_type": "markdown",
   "metadata": {},
   "source": [
    "# Kin Analytics Exercise - Trosman Denis - Churn Prediction"
   ]
  },
  {
   "cell_type": "markdown",
   "metadata": {},
   "source": [
    "# Import libraries"
   ]
  },
  {
   "cell_type": "code",
   "execution_count": 1,
   "metadata": {},
   "outputs": [],
   "source": [
    "import pandas as pd\n",
    "import numpy as np\n",
    "import matplotlib.pyplot as plt\n",
    "import seaborn as sns\n",
    "\n",
    "import warnings\n",
    "warnings.filterwarnings('ignore')\n",
    "\n",
    "# Configs\n",
    "pd.options.display.float_format = '{:.2f}'.format\n",
    "pd.set_option('display.max_colwidth', None)\n",
    "pd.set_option('display.max_columns', None)\n",
    "color_pal = sns.color_palette()\n",
    "plt.style.use('fivethirtyeight')"
   ]
  },
  {
   "cell_type": "markdown",
   "metadata": {},
   "source": [
    "# Read Files"
   ]
  },
  {
   "cell_type": "markdown",
   "metadata": {},
   "source": [
    "### Clients"
   ]
  },
  {
   "cell_type": "code",
   "execution_count": 224,
   "metadata": {},
   "outputs": [
    {
     "data": {
      "text/html": [
       "<div>\n",
       "<style scoped>\n",
       "    .dataframe tbody tr th:only-of-type {\n",
       "        vertical-align: middle;\n",
       "    }\n",
       "\n",
       "    .dataframe tbody tr th {\n",
       "        vertical-align: top;\n",
       "    }\n",
       "\n",
       "    .dataframe thead th {\n",
       "        text-align: right;\n",
       "    }\n",
       "</style>\n",
       "<table border=\"1\" class=\"dataframe\">\n",
       "  <thead>\n",
       "    <tr style=\"text-align: right;\">\n",
       "      <th></th>\n",
       "      <th>CustomerId</th>\n",
       "      <th>Surname</th>\n",
       "      <th>Geography</th>\n",
       "      <th>Gender</th>\n",
       "      <th>HasCrCard</th>\n",
       "      <th>IsActiveMember</th>\n",
       "      <th>EstimatedSalary</th>\n",
       "      <th>application_date</th>\n",
       "      <th>exit_date</th>\n",
       "      <th>birth_date</th>\n",
       "    </tr>\n",
       "  </thead>\n",
       "  <tbody>\n",
       "    <tr>\n",
       "      <th>0</th>\n",
       "      <td>15745584</td>\n",
       "      <td>EIRLS</td>\n",
       "      <td>Germany</td>\n",
       "      <td>Female</td>\n",
       "      <td>0.00</td>\n",
       "      <td>1.00</td>\n",
       "      <td>0.00</td>\n",
       "      <td>2018-12-14</td>\n",
       "      <td>NaT</td>\n",
       "      <td>1997-09-18</td>\n",
       "    </tr>\n",
       "    <tr>\n",
       "      <th>1</th>\n",
       "      <td>14990118</td>\n",
       "      <td>MOLOCK</td>\n",
       "      <td>Italy</td>\n",
       "      <td>Male</td>\n",
       "      <td>1.00</td>\n",
       "      <td>0.00</td>\n",
       "      <td>121219.28</td>\n",
       "      <td>2019-01-08</td>\n",
       "      <td>NaT</td>\n",
       "      <td>1980-08-03</td>\n",
       "    </tr>\n",
       "    <tr>\n",
       "      <th>2</th>\n",
       "      <td>14733224</td>\n",
       "      <td>PAWLUCH</td>\n",
       "      <td>Italy</td>\n",
       "      <td>Female</td>\n",
       "      <td>1.00</td>\n",
       "      <td>1.00</td>\n",
       "      <td>159663.59</td>\n",
       "      <td>2012-08-01</td>\n",
       "      <td>2013-08-09</td>\n",
       "      <td>1977-08-19</td>\n",
       "    </tr>\n",
       "    <tr>\n",
       "      <th>3</th>\n",
       "      <td>14648573</td>\n",
       "      <td>NALLS</td>\n",
       "      <td>Spain</td>\n",
       "      <td>Male</td>\n",
       "      <td>1.00</td>\n",
       "      <td>0.00</td>\n",
       "      <td>140827.98</td>\n",
       "      <td>2019-06-19</td>\n",
       "      <td>NaT</td>\n",
       "      <td>1979-02-27</td>\n",
       "    </tr>\n",
       "    <tr>\n",
       "      <th>4</th>\n",
       "      <td>15365443</td>\n",
       "      <td>EBERLE</td>\n",
       "      <td>Italy</td>\n",
       "      <td>Male</td>\n",
       "      <td>1.00</td>\n",
       "      <td>0.00</td>\n",
       "      <td>35521.28</td>\n",
       "      <td>2014-01-26</td>\n",
       "      <td>2015-12-04</td>\n",
       "      <td>1972-12-21</td>\n",
       "    </tr>\n",
       "  </tbody>\n",
       "</table>\n",
       "</div>"
      ],
      "text/plain": [
       "   CustomerId  Surname Geography  Gender  HasCrCard  IsActiveMember  \\\n",
       "0    15745584    EIRLS   Germany  Female       0.00            1.00   \n",
       "1    14990118   MOLOCK     Italy    Male       1.00            0.00   \n",
       "2    14733224  PAWLUCH     Italy  Female       1.00            1.00   \n",
       "3    14648573    NALLS     Spain    Male       1.00            0.00   \n",
       "4    15365443   EBERLE     Italy    Male       1.00            0.00   \n",
       "\n",
       "   EstimatedSalary application_date  exit_date birth_date  \n",
       "0             0.00       2018-12-14        NaT 1997-09-18  \n",
       "1        121219.28       2019-01-08        NaT 1980-08-03  \n",
       "2        159663.59       2012-08-01 2013-08-09 1977-08-19  \n",
       "3        140827.98       2019-06-19        NaT 1979-02-27  \n",
       "4         35521.28       2014-01-26 2015-12-04 1972-12-21  "
      ]
     },
     "execution_count": 224,
     "metadata": {},
     "output_type": "execute_result"
    }
   ],
   "source": [
    "date_cols_clients = ['application_date','birth_date','exit_date']\n",
    "df_clients = pd.read_csv('../data/clients_table.txt', parse_dates=date_cols_clients)\n",
    "df_clients.head()"
   ]
  },
  {
   "cell_type": "code",
   "execution_count": 225,
   "metadata": {},
   "outputs": [
    {
     "name": "stdout",
     "output_type": "stream",
     "text": [
      "Number of rows: 1545000, Number of columns:10\n",
      "\n",
      " Duplicated amount: 45000\n",
      "\n",
      "------------------------------Number of null values------------------------------\n",
      "CustomerId               0\n",
      "Surname              74916\n",
      "Geography            58459\n",
      "Gender               74886\n",
      "HasCrCard            74886\n",
      "IsActiveMember       74886\n",
      "EstimatedSalary      74886\n",
      "application_date         0\n",
      "exit_date           490414\n",
      "birth_date           74886\n",
      "dtype: int64\n",
      "------------------------------Type of variables------------------------------\n"
     ]
    },
    {
     "data": {
      "text/plain": [
       "CustomerId                   int64\n",
       "Surname                     object\n",
       "Geography                   object\n",
       "Gender                      object\n",
       "HasCrCard                  float64\n",
       "IsActiveMember             float64\n",
       "EstimatedSalary            float64\n",
       "application_date    datetime64[ns]\n",
       "exit_date           datetime64[ns]\n",
       "birth_date          datetime64[ns]\n",
       "dtype: object"
      ]
     },
     "execution_count": 225,
     "metadata": {},
     "output_type": "execute_result"
    }
   ],
   "source": [
    "print(f'Number of rows: {df_clients.shape[0]}, Number of columns:{df_clients.shape[1]}')\n",
    "print(f'\\n Duplicated amount: {df_clients.duplicated().sum()}\\n')\n",
    "print('-'*30 + 'Number of null values' +'-'*30)\n",
    "print(df_clients.isna().sum())\n",
    "print('-'*30 + 'Type of variables' +'-'*30)\n",
    "df_clients.dtypes"
   ]
  },
  {
   "cell_type": "markdown",
   "metadata": {},
   "source": [
    "### Credit score"
   ]
  },
  {
   "cell_type": "code",
   "execution_count": 226,
   "metadata": {},
   "outputs": [
    {
     "data": {
      "text/html": [
       "<div>\n",
       "<style scoped>\n",
       "    .dataframe tbody tr th:only-of-type {\n",
       "        vertical-align: middle;\n",
       "    }\n",
       "\n",
       "    .dataframe tbody tr th {\n",
       "        vertical-align: top;\n",
       "    }\n",
       "\n",
       "    .dataframe thead th {\n",
       "        text-align: right;\n",
       "    }\n",
       "</style>\n",
       "<table border=\"1\" class=\"dataframe\">\n",
       "  <thead>\n",
       "    <tr style=\"text-align: right;\">\n",
       "      <th></th>\n",
       "      <th>CustomerId</th>\n",
       "      <th>Date</th>\n",
       "      <th>Score</th>\n",
       "    </tr>\n",
       "  </thead>\n",
       "  <tbody>\n",
       "    <tr>\n",
       "      <th>0</th>\n",
       "      <td>14759722</td>\n",
       "      <td>2018-07-01</td>\n",
       "      <td>717</td>\n",
       "    </tr>\n",
       "    <tr>\n",
       "      <th>1</th>\n",
       "      <td>15907276</td>\n",
       "      <td>2011-09-01</td>\n",
       "      <td>562</td>\n",
       "    </tr>\n",
       "    <tr>\n",
       "      <th>2</th>\n",
       "      <td>15346641</td>\n",
       "      <td>2013-01-01</td>\n",
       "      <td>604</td>\n",
       "    </tr>\n",
       "    <tr>\n",
       "      <th>3</th>\n",
       "      <td>15595126</td>\n",
       "      <td>2018-08-01</td>\n",
       "      <td>469</td>\n",
       "    </tr>\n",
       "    <tr>\n",
       "      <th>4</th>\n",
       "      <td>15227788</td>\n",
       "      <td>2013-09-01</td>\n",
       "      <td>655</td>\n",
       "    </tr>\n",
       "  </tbody>\n",
       "</table>\n",
       "</div>"
      ],
      "text/plain": [
       "   CustomerId       Date  Score\n",
       "0    14759722 2018-07-01    717\n",
       "1    15907276 2011-09-01    562\n",
       "2    15346641 2013-01-01    604\n",
       "3    15595126 2018-08-01    469\n",
       "4    15227788 2013-09-01    655"
      ]
     },
     "execution_count": 226,
     "metadata": {},
     "output_type": "execute_result"
    }
   ],
   "source": [
    "df_credit_score = pd.read_csv('../data/credit_score_table.txt', parse_dates=['Date'])\n",
    "df_credit_score.head()"
   ]
  },
  {
   "cell_type": "code",
   "execution_count": 227,
   "metadata": {},
   "outputs": [
    {
     "name": "stdout",
     "output_type": "stream",
     "text": [
      "Number of rows: 19500000, Number of columns:3\n",
      "\n",
      " Duplicated amount: 0\n",
      "\n",
      "------------------------------Number of null values------------------------------\n",
      "CustomerId    0\n",
      "Date          0\n",
      "Score         0\n",
      "dtype: int64\n",
      "------------------------------Type of variables------------------------------\n"
     ]
    },
    {
     "data": {
      "text/plain": [
       "CustomerId             int64\n",
       "Date          datetime64[ns]\n",
       "Score                  int64\n",
       "dtype: object"
      ]
     },
     "execution_count": 227,
     "metadata": {},
     "output_type": "execute_result"
    }
   ],
   "source": [
    "print(f'Number of rows: {df_credit_score.shape[0]}, Number of columns:{df_credit_score.shape[1]}')\n",
    "print(f'\\n Duplicated amount: {df_credit_score.duplicated().sum()}\\n')\n",
    "print('-'*30 + 'Number of null values' +'-'*30)\n",
    "print(df_credit_score.isna().sum())\n",
    "print('-'*30 + 'Type of variables' +'-'*30)\n",
    "df_credit_score.dtypes"
   ]
  },
  {
   "cell_type": "markdown",
   "metadata": {},
   "source": [
    "### Products"
   ]
  },
  {
   "cell_type": "code",
   "execution_count": 14,
   "metadata": {},
   "outputs": [
    {
     "data": {
      "text/html": [
       "<div>\n",
       "<style scoped>\n",
       "    .dataframe tbody tr th:only-of-type {\n",
       "        vertical-align: middle;\n",
       "    }\n",
       "\n",
       "    .dataframe tbody tr th {\n",
       "        vertical-align: top;\n",
       "    }\n",
       "\n",
       "    .dataframe thead th {\n",
       "        text-align: right;\n",
       "    }\n",
       "</style>\n",
       "<table border=\"1\" class=\"dataframe\">\n",
       "  <thead>\n",
       "    <tr style=\"text-align: right;\">\n",
       "      <th></th>\n",
       "      <th>ContractId</th>\n",
       "      <th>CustomerId</th>\n",
       "      <th>Products</th>\n",
       "    </tr>\n",
       "  </thead>\n",
       "  <tbody>\n",
       "    <tr>\n",
       "      <th>0</th>\n",
       "      <td>5Xo9sCduOGo5EhBYhzKrSlLIA</td>\n",
       "      <td>14993808</td>\n",
       "      <td>Product B</td>\n",
       "    </tr>\n",
       "    <tr>\n",
       "      <th>1</th>\n",
       "      <td>3nQbqbnpTeSkYIJWT1UDe1GZ1</td>\n",
       "      <td>15560417</td>\n",
       "      <td>Product B</td>\n",
       "    </tr>\n",
       "    <tr>\n",
       "      <th>2</th>\n",
       "      <td>PD9KwDPOwyJWO6LJKPGBbkrCz</td>\n",
       "      <td>15406428</td>\n",
       "      <td>Product C</td>\n",
       "    </tr>\n",
       "    <tr>\n",
       "      <th>3</th>\n",
       "      <td>IhS7pz8lu07LCZSqYNlL0fuLP</td>\n",
       "      <td>15604313</td>\n",
       "      <td>Product B</td>\n",
       "    </tr>\n",
       "    <tr>\n",
       "      <th>4</th>\n",
       "      <td>ftUey4oVmkZj8RaBVFH6SNzVM</td>\n",
       "      <td>14952409</td>\n",
       "      <td>Product C</td>\n",
       "    </tr>\n",
       "  </tbody>\n",
       "</table>\n",
       "</div>"
      ],
      "text/plain": [
       "                  ContractId  CustomerId   Products\n",
       "0  5Xo9sCduOGo5EhBYhzKrSlLIA    14993808  Product B\n",
       "1  3nQbqbnpTeSkYIJWT1UDe1GZ1    15560417  Product B\n",
       "2  PD9KwDPOwyJWO6LJKPGBbkrCz    15406428  Product C\n",
       "3  IhS7pz8lu07LCZSqYNlL0fuLP    15604313  Product B\n",
       "4  ftUey4oVmkZj8RaBVFH6SNzVM    14952409  Product C"
      ]
     },
     "execution_count": 14,
     "metadata": {},
     "output_type": "execute_result"
    }
   ],
   "source": [
    "df_products = pd.read_csv('../data/products_table.txt')\n",
    "df_products.head()"
   ]
  },
  {
   "cell_type": "code",
   "execution_count": 27,
   "metadata": {},
   "outputs": [
    {
     "name": "stdout",
     "output_type": "stream",
     "text": [
      "Number of rows: 3739192, Number of columns:3\n",
      "\n",
      " Duplicated amount: 0\n",
      "\n",
      "------------------------------Number of null values------------------------------\n",
      "ContractId    0\n",
      "CustomerId    0\n",
      "Products      0\n",
      "dtype: int64\n",
      "------------------------------Type of variables------------------------------\n"
     ]
    },
    {
     "data": {
      "text/plain": [
       "ContractId    object\n",
       "CustomerId     int64\n",
       "Products      object\n",
       "dtype: object"
      ]
     },
     "execution_count": 27,
     "metadata": {},
     "output_type": "execute_result"
    }
   ],
   "source": [
    "print(f'Number of rows: {df_products.shape[0]}, Number of columns:{df_products.shape[1]}')\n",
    "print(f'\\n Duplicated amount: {df_products.duplicated().sum()}\\n')\n",
    "print('-'*30 + 'Number of null values' +'-'*30)\n",
    "print(df_products.isna().sum())\n",
    "print('-'*30 + 'Type of variables' +'-'*30)\n",
    "df_products.dtypes"
   ]
  },
  {
   "cell_type": "markdown",
   "metadata": {},
   "source": [
    "### Transactions"
   ]
  },
  {
   "cell_type": "code",
   "execution_count": 15,
   "metadata": {},
   "outputs": [
    {
     "data": {
      "text/html": [
       "<div>\n",
       "<style scoped>\n",
       "    .dataframe tbody tr th:only-of-type {\n",
       "        vertical-align: middle;\n",
       "    }\n",
       "\n",
       "    .dataframe tbody tr th {\n",
       "        vertical-align: top;\n",
       "    }\n",
       "\n",
       "    .dataframe thead th {\n",
       "        text-align: right;\n",
       "    }\n",
       "</style>\n",
       "<table border=\"1\" class=\"dataframe\">\n",
       "  <thead>\n",
       "    <tr style=\"text-align: right;\">\n",
       "      <th></th>\n",
       "      <th>CustomerId</th>\n",
       "      <th>Transaction</th>\n",
       "      <th>Value</th>\n",
       "    </tr>\n",
       "  </thead>\n",
       "  <tbody>\n",
       "    <tr>\n",
       "      <th>0</th>\n",
       "      <td>15653320</td>\n",
       "      <td>trans_4</td>\n",
       "      <td>-294.03</td>\n",
       "    </tr>\n",
       "    <tr>\n",
       "      <th>1</th>\n",
       "      <td>14955663</td>\n",
       "      <td>trans_3</td>\n",
       "      <td>1297.97</td>\n",
       "    </tr>\n",
       "    <tr>\n",
       "      <th>2</th>\n",
       "      <td>15218505</td>\n",
       "      <td>trans_4</td>\n",
       "      <td>191.28</td>\n",
       "    </tr>\n",
       "    <tr>\n",
       "      <th>3</th>\n",
       "      <td>15391934</td>\n",
       "      <td>trans_3</td>\n",
       "      <td>2299.07</td>\n",
       "    </tr>\n",
       "    <tr>\n",
       "      <th>4</th>\n",
       "      <td>14847291</td>\n",
       "      <td>trans_3</td>\n",
       "      <td>1612.10</td>\n",
       "    </tr>\n",
       "  </tbody>\n",
       "</table>\n",
       "</div>"
      ],
      "text/plain": [
       "   CustomerId Transaction   Value\n",
       "0    15653320     trans_4 -294.03\n",
       "1    14955663     trans_3 1297.97\n",
       "2    15218505     trans_4  191.28\n",
       "3    15391934     trans_3 2299.07\n",
       "4    14847291     trans_3 1612.10"
      ]
     },
     "execution_count": 15,
     "metadata": {},
     "output_type": "execute_result"
    }
   ],
   "source": [
    "df_transactions = pd.read_csv('../data/transactions_table.txt')\n",
    "df_transactions.head()"
   ]
  },
  {
   "cell_type": "code",
   "execution_count": 28,
   "metadata": {},
   "outputs": [
    {
     "name": "stdout",
     "output_type": "stream",
     "text": [
      "Number of rows: 7500000, Number of columns:3\n",
      "\n",
      " Duplicated amount: 0\n",
      "\n",
      "------------------------------Number of null values------------------------------\n",
      "CustomerId     0\n",
      "Transaction    0\n",
      "Value          0\n",
      "dtype: int64\n",
      "------------------------------Type of variables------------------------------\n"
     ]
    },
    {
     "data": {
      "text/plain": [
       "CustomerId       int64\n",
       "Transaction     object\n",
       "Value          float64\n",
       "dtype: object"
      ]
     },
     "execution_count": 28,
     "metadata": {},
     "output_type": "execute_result"
    }
   ],
   "source": [
    "print(f'Number of rows: {df_transactions.shape[0]}, Number of columns:{df_transactions.shape[1]}')\n",
    "print(f'\\n Duplicated amount: {df_transactions.duplicated().sum()}\\n')\n",
    "print('-'*30 + 'Number of null values' +'-'*30)\n",
    "print(df_transactions.isna().sum())\n",
    "print('-'*30 + 'Type of variables' +'-'*30)\n",
    "df_transactions.dtypes"
   ]
  },
  {
   "cell_type": "markdown",
   "metadata": {},
   "source": [
    "# Data cleansing"
   ]
  },
  {
   "cell_type": "markdown",
   "metadata": {},
   "source": [
    "### Clients database filtering"
   ]
  },
  {
   "cell_type": "code",
   "execution_count": 229,
   "metadata": {},
   "outputs": [
    {
     "data": {
      "text/html": [
       "<div>\n",
       "<style scoped>\n",
       "    .dataframe tbody tr th:only-of-type {\n",
       "        vertical-align: middle;\n",
       "    }\n",
       "\n",
       "    .dataframe tbody tr th {\n",
       "        vertical-align: top;\n",
       "    }\n",
       "\n",
       "    .dataframe thead th {\n",
       "        text-align: right;\n",
       "    }\n",
       "</style>\n",
       "<table border=\"1\" class=\"dataframe\">\n",
       "  <thead>\n",
       "    <tr style=\"text-align: right;\">\n",
       "      <th></th>\n",
       "      <th>CustomerId</th>\n",
       "      <th>Surname</th>\n",
       "      <th>Geography</th>\n",
       "      <th>Gender</th>\n",
       "      <th>HasCrCard</th>\n",
       "      <th>IsActiveMember</th>\n",
       "      <th>EstimatedSalary</th>\n",
       "      <th>application_date</th>\n",
       "      <th>exit_date</th>\n",
       "      <th>birth_date</th>\n",
       "    </tr>\n",
       "  </thead>\n",
       "  <tbody>\n",
       "    <tr>\n",
       "      <th>0</th>\n",
       "      <td>15745584</td>\n",
       "      <td>EIRLS</td>\n",
       "      <td>Germany</td>\n",
       "      <td>Female</td>\n",
       "      <td>0.00</td>\n",
       "      <td>1.00</td>\n",
       "      <td>0.00</td>\n",
       "      <td>2018-12-14</td>\n",
       "      <td>NaT</td>\n",
       "      <td>1997-09-18</td>\n",
       "    </tr>\n",
       "    <tr>\n",
       "      <th>1</th>\n",
       "      <td>14990118</td>\n",
       "      <td>MOLOCK</td>\n",
       "      <td>Italy</td>\n",
       "      <td>Male</td>\n",
       "      <td>1.00</td>\n",
       "      <td>0.00</td>\n",
       "      <td>121219.28</td>\n",
       "      <td>2019-01-08</td>\n",
       "      <td>NaT</td>\n",
       "      <td>1980-08-03</td>\n",
       "    </tr>\n",
       "    <tr>\n",
       "      <th>2</th>\n",
       "      <td>14733224</td>\n",
       "      <td>PAWLUCH</td>\n",
       "      <td>Italy</td>\n",
       "      <td>Female</td>\n",
       "      <td>1.00</td>\n",
       "      <td>1.00</td>\n",
       "      <td>159663.59</td>\n",
       "      <td>2012-08-01</td>\n",
       "      <td>2013-08-09</td>\n",
       "      <td>1977-08-19</td>\n",
       "    </tr>\n",
       "    <tr>\n",
       "      <th>3</th>\n",
       "      <td>14648573</td>\n",
       "      <td>NALLS</td>\n",
       "      <td>Spain</td>\n",
       "      <td>Male</td>\n",
       "      <td>1.00</td>\n",
       "      <td>0.00</td>\n",
       "      <td>140827.98</td>\n",
       "      <td>2019-06-19</td>\n",
       "      <td>NaT</td>\n",
       "      <td>1979-02-27</td>\n",
       "    </tr>\n",
       "    <tr>\n",
       "      <th>4</th>\n",
       "      <td>15365443</td>\n",
       "      <td>EBERLE</td>\n",
       "      <td>Italy</td>\n",
       "      <td>Male</td>\n",
       "      <td>1.00</td>\n",
       "      <td>0.00</td>\n",
       "      <td>35521.28</td>\n",
       "      <td>2014-01-26</td>\n",
       "      <td>2015-12-04</td>\n",
       "      <td>1972-12-21</td>\n",
       "    </tr>\n",
       "  </tbody>\n",
       "</table>\n",
       "</div>"
      ],
      "text/plain": [
       "   CustomerId  Surname Geography  Gender  HasCrCard  IsActiveMember  \\\n",
       "0    15745584    EIRLS   Germany  Female       0.00            1.00   \n",
       "1    14990118   MOLOCK     Italy    Male       1.00            0.00   \n",
       "2    14733224  PAWLUCH     Italy  Female       1.00            1.00   \n",
       "3    14648573    NALLS     Spain    Male       1.00            0.00   \n",
       "4    15365443   EBERLE     Italy    Male       1.00            0.00   \n",
       "\n",
       "   EstimatedSalary application_date  exit_date birth_date  \n",
       "0             0.00       2018-12-14        NaT 1997-09-18  \n",
       "1        121219.28       2019-01-08        NaT 1980-08-03  \n",
       "2        159663.59       2012-08-01 2013-08-09 1977-08-19  \n",
       "3        140827.98       2019-06-19        NaT 1979-02-27  \n",
       "4         35521.28       2014-01-26 2015-12-04 1972-12-21  "
      ]
     },
     "execution_count": 229,
     "metadata": {},
     "output_type": "execute_result"
    }
   ],
   "source": [
    "df_clients.head()"
   ]
  },
  {
   "cell_type": "markdown",
   "metadata": {},
   "source": [
    "#### a. Contracts from 2015 onwards"
   ]
  },
  {
   "cell_type": "code",
   "execution_count": 230,
   "metadata": {},
   "outputs": [],
   "source": [
    "df_clients_f = df_clients[df_clients.application_date > '2015-01-01'].copy()"
   ]
  },
  {
   "cell_type": "markdown",
   "metadata": {},
   "source": [
    "Check minimum date is 2015 onwards"
   ]
  },
  {
   "cell_type": "code",
   "execution_count": 231,
   "metadata": {},
   "outputs": [
    {
     "data": {
      "text/plain": [
       "Timestamp('2015-01-02 00:00:00')"
      ]
     },
     "execution_count": 231,
     "metadata": {},
     "output_type": "execute_result"
    }
   ],
   "source": [
    "df_clients_f.application_date.min()"
   ]
  },
  {
   "cell_type": "markdown",
   "metadata": {},
   "source": [
    "This filter leaves us with 623,237 cases"
   ]
  },
  {
   "cell_type": "code",
   "execution_count": 232,
   "metadata": {},
   "outputs": [
    {
     "data": {
      "text/plain": [
       "(623237, 10)"
      ]
     },
     "execution_count": 232,
     "metadata": {},
     "output_type": "execute_result"
    }
   ],
   "source": [
    "df_clients_f.shape"
   ]
  },
  {
   "cell_type": "markdown",
   "metadata": {},
   "source": [
    "#### c. Take out clients with more than 75% of their info missing"
   ]
  },
  {
   "cell_type": "markdown",
   "metadata": {},
   "source": [
    "Create temporary column to filter cases"
   ]
  },
  {
   "cell_type": "code",
   "execution_count": 237,
   "metadata": {},
   "outputs": [],
   "source": [
    "df_clients_f['pct_missing'] = (df_clients_f.isna().sum(axis=1)/(df_clients.shape[1])) # Number of missings over number of columns"
   ]
  },
  {
   "cell_type": "markdown",
   "metadata": {},
   "source": [
    "Visualization of missings %"
   ]
  },
  {
   "cell_type": "code",
   "execution_count": 238,
   "metadata": {},
   "outputs": [
    {
     "data": {
      "image/png": "[encoded data removed]",
      "text/plain": [
       "<Figure size 432x288 with 1 Axes>"
      ]
     },
     "metadata": {
      "needs_background": "light"
     },
     "output_type": "display_data"
    }
   ],
   "source": [
    "df_clients_f['pct_missing'].hist()\n",
    "plt.title('Histogram of missings %')\n",
    "plt.show()"
   ]
  },
  {
   "cell_type": "code",
   "execution_count": 239,
   "metadata": {},
   "outputs": [],
   "source": [
    "df_clients_f = df_clients_f[df_clients_f['pct_missing']<=0.75]"
   ]
  },
  {
   "cell_type": "markdown",
   "metadata": {},
   "source": [
    "Delete temp column"
   ]
  },
  {
   "cell_type": "code",
   "execution_count": 242,
   "metadata": {},
   "outputs": [],
   "source": [
    "df_clients_f.drop(columns=['pct_missing'],inplace=True)"
   ]
  },
  {
   "cell_type": "markdown",
   "metadata": {},
   "source": [
    "This filter reduces the number of cases to 604,586"
   ]
  },
  {
   "cell_type": "code",
   "execution_count": 243,
   "metadata": {},
   "outputs": [
    {
     "data": {
      "text/plain": [
       "(604586, 10)"
      ]
     },
     "execution_count": 243,
     "metadata": {},
     "output_type": "execute_result"
    }
   ],
   "source": [
    "df_clients_f.shape"
   ]
  },
  {
   "cell_type": "markdown",
   "metadata": {},
   "source": [
    "#### d. Each client should only have one contract in the database, no more."
   ]
  },
  {
   "cell_type": "markdown",
   "metadata": {},
   "source": [
    "There are 17,621 repeated clients, after the previous filters"
   ]
  },
  {
   "cell_type": "code",
   "execution_count": 249,
   "metadata": {},
   "outputs": [
    {
     "name": "stdout",
     "output_type": "stream",
     "text": [
      "Original duplicated cases: 45000\n",
      "Subset duplicated cases: 17621\n"
     ]
    }
   ],
   "source": [
    "print(f\"Original duplicated cases: {df_clients.duplicated(subset=['CustomerId']).sum()}\\nSubset duplicated cases: {df_clients_f.duplicated(subset=['CustomerId']).sum()}\")"
   ]
  },
  {
   "cell_type": "code",
   "execution_count": 250,
   "metadata": {},
   "outputs": [],
   "source": [
    "df_clients_f.drop_duplicates(subset=['CustomerId'],inplace=True)"
   ]
  },
  {
   "cell_type": "markdown",
   "metadata": {},
   "source": [
    "That leaves us with 586,965 cases"
   ]
  },
  {
   "cell_type": "code",
   "execution_count": 287,
   "metadata": {},
   "outputs": [
    {
     "data": {
      "text/plain": [
       "(586965, 11)"
      ]
     },
     "execution_count": 287,
     "metadata": {},
     "output_type": "execute_result"
    }
   ],
   "source": [
    "df_clients_f.shape"
   ]
  },
  {
   "cell_type": "markdown",
   "metadata": {},
   "source": [
    "#### e. Remember that for a client to be eligible, it must have at least two years of information within the company (even if it canceled the product).\n",
    "\n",
    "- Database has a delivery date of 30/11/2019, so that date will be taken for calculation of lifetime"
   ]
  },
  {
   "cell_type": "code",
   "execution_count": 252,
   "metadata": {},
   "outputs": [
    {
     "data": {
      "text/html": [
       "<div>\n",
       "<style scoped>\n",
       "    .dataframe tbody tr th:only-of-type {\n",
       "        vertical-align: middle;\n",
       "    }\n",
       "\n",
       "    .dataframe tbody tr th {\n",
       "        vertical-align: top;\n",
       "    }\n",
       "\n",
       "    .dataframe thead th {\n",
       "        text-align: right;\n",
       "    }\n",
       "</style>\n",
       "<table border=\"1\" class=\"dataframe\">\n",
       "  <thead>\n",
       "    <tr style=\"text-align: right;\">\n",
       "      <th></th>\n",
       "      <th>CustomerId</th>\n",
       "      <th>Surname</th>\n",
       "      <th>Geography</th>\n",
       "      <th>Gender</th>\n",
       "      <th>HasCrCard</th>\n",
       "      <th>IsActiveMember</th>\n",
       "      <th>EstimatedSalary</th>\n",
       "      <th>application_date</th>\n",
       "      <th>exit_date</th>\n",
       "      <th>birth_date</th>\n",
       "    </tr>\n",
       "  </thead>\n",
       "  <tbody>\n",
       "    <tr>\n",
       "      <th>0</th>\n",
       "      <td>15745584</td>\n",
       "      <td>EIRLS</td>\n",
       "      <td>Germany</td>\n",
       "      <td>Female</td>\n",
       "      <td>0.00</td>\n",
       "      <td>1.00</td>\n",
       "      <td>0.00</td>\n",
       "      <td>2018-12-14</td>\n",
       "      <td>NaT</td>\n",
       "      <td>1997-09-18</td>\n",
       "    </tr>\n",
       "    <tr>\n",
       "      <th>1</th>\n",
       "      <td>14990118</td>\n",
       "      <td>MOLOCK</td>\n",
       "      <td>Italy</td>\n",
       "      <td>Male</td>\n",
       "      <td>1.00</td>\n",
       "      <td>0.00</td>\n",
       "      <td>121219.28</td>\n",
       "      <td>2019-01-08</td>\n",
       "      <td>NaT</td>\n",
       "      <td>1980-08-03</td>\n",
       "    </tr>\n",
       "    <tr>\n",
       "      <th>3</th>\n",
       "      <td>14648573</td>\n",
       "      <td>NALLS</td>\n",
       "      <td>Spain</td>\n",
       "      <td>Male</td>\n",
       "      <td>1.00</td>\n",
       "      <td>0.00</td>\n",
       "      <td>140827.98</td>\n",
       "      <td>2019-06-19</td>\n",
       "      <td>NaT</td>\n",
       "      <td>1979-02-27</td>\n",
       "    </tr>\n",
       "    <tr>\n",
       "      <th>5</th>\n",
       "      <td>15638124</td>\n",
       "      <td>BRASHERS</td>\n",
       "      <td>Italy</td>\n",
       "      <td>Female</td>\n",
       "      <td>0.00</td>\n",
       "      <td>0.00</td>\n",
       "      <td>170661.45</td>\n",
       "      <td>2018-02-23</td>\n",
       "      <td>NaT</td>\n",
       "      <td>1983-01-13</td>\n",
       "    </tr>\n",
       "    <tr>\n",
       "      <th>7</th>\n",
       "      <td>14523468</td>\n",
       "      <td>LASKOSKI</td>\n",
       "      <td>Spain</td>\n",
       "      <td>Female</td>\n",
       "      <td>1.00</td>\n",
       "      <td>0.00</td>\n",
       "      <td>158161.23</td>\n",
       "      <td>2017-12-28</td>\n",
       "      <td>2018-11-19</td>\n",
       "      <td>1972-10-30</td>\n",
       "    </tr>\n",
       "  </tbody>\n",
       "</table>\n",
       "</div>"
      ],
      "text/plain": [
       "   CustomerId   Surname Geography  Gender  HasCrCard  IsActiveMember  \\\n",
       "0    15745584     EIRLS   Germany  Female       0.00            1.00   \n",
       "1    14990118    MOLOCK     Italy    Male       1.00            0.00   \n",
       "3    14648573     NALLS     Spain    Male       1.00            0.00   \n",
       "5    15638124  BRASHERS     Italy  Female       0.00            0.00   \n",
       "7    14523468  LASKOSKI     Spain  Female       1.00            0.00   \n",
       "\n",
       "   EstimatedSalary application_date  exit_date birth_date  \n",
       "0             0.00       2018-12-14        NaT 1997-09-18  \n",
       "1        121219.28       2019-01-08        NaT 1980-08-03  \n",
       "3        140827.98       2019-06-19        NaT 1979-02-27  \n",
       "5        170661.45       2018-02-23        NaT 1983-01-13  \n",
       "7        158161.23       2017-12-28 2018-11-19 1972-10-30  "
      ]
     },
     "execution_count": 252,
     "metadata": {},
     "output_type": "execute_result"
    }
   ],
   "source": [
    "df_clients_f.head()"
   ]
  },
  {
   "cell_type": "markdown",
   "metadata": {},
   "source": [
    "Calculate lifetime by difference between delivery date and application date"
   ]
  },
  {
   "cell_type": "code",
   "execution_count": 254,
   "metadata": {},
   "outputs": [],
   "source": [
    "df_clients_f['CustomerLifetime'] = (pd.to_datetime('2019/11/30') - df_clients_f.application_date).dt.days / 365"
   ]
  },
  {
   "cell_type": "markdown",
   "metadata": {},
   "source": [
    "Most of the clients in the database have an application date of 2018 or 2019, so the number of cases will drop greatly when we discard cases with less info than 2 years"
   ]
  },
  {
   "cell_type": "code",
   "execution_count": 259,
   "metadata": {},
   "outputs": [
    {
     "data": {
      "image/png": "[encoded data removed]",
      "text/plain": [
       "<Figure size 432x288 with 1 Axes>"
      ]
     },
     "metadata": {
      "needs_background": "light"
     },
     "output_type": "display_data"
    }
   ],
   "source": [
    "df_clients_f.application_date.dt.year.value_counts().plot(kind='bar')\n",
    "plt.title('Number of customers by year')\n",
    "plt.show()"
   ]
  },
  {
   "cell_type": "code",
   "execution_count": 270,
   "metadata": {},
   "outputs": [
    {
     "data": {
      "image/png": "[encoded data removed]",
      "text/plain": [
       "<Figure size 432x288 with 1 Axes>"
      ]
     },
     "metadata": {
      "needs_background": "light"
     },
     "output_type": "display_data"
    }
   ],
   "source": [
    "df_clients_f.CustomerLifetime.hist()\n",
    "plt.title('Histogram of Lifetime')\n",
    "plt.show()"
   ]
  },
  {
   "cell_type": "code",
   "execution_count": 294,
   "metadata": {},
   "outputs": [],
   "source": [
    "df_clients_f = df_clients_f[df_clients_f['CustomerLifetime']>=2]"
   ]
  },
  {
   "cell_type": "markdown",
   "metadata": {},
   "source": [
    "This way, we keep only 9995 observations"
   ]
  },
  {
   "cell_type": "code",
   "execution_count": 295,
   "metadata": {},
   "outputs": [
    {
     "data": {
      "text/plain": [
       "(9995, 11)"
      ]
     },
     "execution_count": 295,
     "metadata": {},
     "output_type": "execute_result"
    }
   ],
   "source": [
    "df_clients_f.shape"
   ]
  },
  {
   "cell_type": "markdown",
   "metadata": {},
   "source": [
    "If we consider a churn as wether they are an active member or not, then 52% have churned."
   ]
  },
  {
   "cell_type": "code",
   "execution_count": 299,
   "metadata": {},
   "outputs": [
    {
     "data": {
      "text/plain": [
       "IsActiveMember\n",
       "1.00   0.52\n",
       "0.00   0.48\n",
       "Name: count, dtype: float64"
      ]
     },
     "execution_count": 299,
     "metadata": {},
     "output_type": "execute_result"
    }
   ],
   "source": [
    "df_clients_f.IsActiveMember.value_counts() / df_clients_f.shape[0]"
   ]
  },
  {
   "cell_type": "markdown",
   "metadata": {},
   "source": [
    "On the other hand, if we define churns as those with an exit date, only 28% haven't got one. So 72% would have churned."
   ]
  },
  {
   "cell_type": "code",
   "execution_count": 298,
   "metadata": {},
   "outputs": [
    {
     "data": {
      "text/plain": [
       "0.2818409204602301"
      ]
     },
     "execution_count": 298,
     "metadata": {},
     "output_type": "execute_result"
    }
   ],
   "source": [
    "df_clients_f.exit_date.isna().sum() / df_clients_f.shape[0]"
   ]
  },
  {
   "cell_type": "markdown",
   "metadata": {},
   "source": [
    "If we look at the combination of both:\n",
    "\n",
    "- As much as 70% of active members have an exit date, making it confusing to understand wether they have churned or not\n",
    "- 25% of inactive members don't have an exit date as well"
   ]
  },
  {
   "cell_type": "code",
   "execution_count": 302,
   "metadata": {},
   "outputs": [
    {
     "data": {
      "text/plain": [
       "0.6952214452214452"
      ]
     },
     "execution_count": 302,
     "metadata": {},
     "output_type": "execute_result"
    }
   ],
   "source": [
    "df_clients_f[(df_clients_f.IsActiveMember == 1) & ~(df_clients_f.exit_date.isna())].shape[0] / df_clients_f[(df_clients_f.IsActiveMember == 1)].shape[0]"
   ]
  },
  {
   "cell_type": "code",
   "execution_count": 304,
   "metadata": {},
   "outputs": [
    {
     "data": {
      "text/plain": [
       "0.2574788528987002"
      ]
     },
     "execution_count": 304,
     "metadata": {},
     "output_type": "execute_result"
    }
   ],
   "source": [
    "df_clients_f[(df_clients_f.IsActiveMember == 0) & (df_clients_f.exit_date.isna())].shape[0] / df_clients_f[(df_clients_f.IsActiveMember == 0)].shape[0]"
   ]
  },
  {
   "cell_type": "markdown",
   "metadata": {},
   "source": [
    "*For this exercise, it will be assumed that churns are those who are not active members*, that is IsActiveMember==0"
   ]
  },
  {
   "cell_type": "markdown",
   "metadata": {},
   "source": [
    "#### b. Operations in Italy were closed in 2019.\n",
    "\n",
    "Even though that's the information provided, there are application dates after 2019, same than other countries.\n",
    "\n",
    "This should be talked with the client to better understand what they meant by that message, and will not be tackled in this exercise."
   ]
  },
  {
   "cell_type": "code",
   "execution_count": 286,
   "metadata": {},
   "outputs": [
    {
     "data": {
      "image/png": "[encoded data removed]",
      "text/plain": [
       "<Figure size 432x288 with 1 Axes>"
      ]
     },
     "metadata": {
      "needs_background": "light"
     },
     "output_type": "display_data"
    }
   ],
   "source": [
    "italy_data = df_clients_f[df_clients_f.Geography == 'Italy']\n",
    "\n",
    "melted_data = pd.melt(italy_data[['application_date', 'exit_date']], var_name='event_type', value_name='date')\n",
    "melted_data['year_month'] = melted_data['date'].dt.to_period('M')\n",
    "melted_data = melted_data.sort_values('year_month')\n",
    "ax = sns.countplot(x='year_month', data=melted_data, hue='event_type', palette={'application_date': 'blue', 'exit_date': 'red'})\n",
    "ax.legend(title='', bbox_to_anchor=(1.05, 1), loc='upper left')\n",
    "plt.title('Number of customers by year-month - Italy')\n",
    "plt.xticks(rotation=45, ha='right')\n",
    "plt.show()"
   ]
  },
  {
   "cell_type": "markdown",
   "metadata": {},
   "source": [
    "*That said, the final shape of the client's table is of 9995 rows.*"
   ]
  },
  {
   "cell_type": "markdown",
   "metadata": {},
   "source": [
    "## Feature engineering"
   ]
  },
  {
   "cell_type": "markdown",
   "metadata": {},
   "source": [
    "### Products"
   ]
  },
  {
   "cell_type": "markdown",
   "metadata": {},
   "source": [
    "Calculate amount of products by customer"
   ]
  },
  {
   "cell_type": "code",
   "execution_count": 100,
   "metadata": {},
   "outputs": [
    {
     "data": {
      "text/html": [
       "<div>\n",
       "<style scoped>\n",
       "    .dataframe tbody tr th:only-of-type {\n",
       "        vertical-align: middle;\n",
       "    }\n",
       "\n",
       "    .dataframe tbody tr th {\n",
       "        vertical-align: top;\n",
       "    }\n",
       "\n",
       "    .dataframe thead th {\n",
       "        text-align: right;\n",
       "    }\n",
       "</style>\n",
       "<table border=\"1\" class=\"dataframe\">\n",
       "  <thead>\n",
       "    <tr style=\"text-align: right;\">\n",
       "      <th></th>\n",
       "      <th>ContractId</th>\n",
       "      <th>CustomerId</th>\n",
       "      <th>Products</th>\n",
       "    </tr>\n",
       "  </thead>\n",
       "  <tbody>\n",
       "    <tr>\n",
       "      <th>0</th>\n",
       "      <td>5Xo9sCduOGo5EhBYhzKrSlLIA</td>\n",
       "      <td>14993808</td>\n",
       "      <td>Product B</td>\n",
       "    </tr>\n",
       "    <tr>\n",
       "      <th>1</th>\n",
       "      <td>3nQbqbnpTeSkYIJWT1UDe1GZ1</td>\n",
       "      <td>15560417</td>\n",
       "      <td>Product B</td>\n",
       "    </tr>\n",
       "    <tr>\n",
       "      <th>2</th>\n",
       "      <td>PD9KwDPOwyJWO6LJKPGBbkrCz</td>\n",
       "      <td>15406428</td>\n",
       "      <td>Product C</td>\n",
       "    </tr>\n",
       "    <tr>\n",
       "      <th>3</th>\n",
       "      <td>IhS7pz8lu07LCZSqYNlL0fuLP</td>\n",
       "      <td>15604313</td>\n",
       "      <td>Product B</td>\n",
       "    </tr>\n",
       "    <tr>\n",
       "      <th>4</th>\n",
       "      <td>ftUey4oVmkZj8RaBVFH6SNzVM</td>\n",
       "      <td>14952409</td>\n",
       "      <td>Product C</td>\n",
       "    </tr>\n",
       "  </tbody>\n",
       "</table>\n",
       "</div>"
      ],
      "text/plain": [
       "                  ContractId  CustomerId   Products\n",
       "0  5Xo9sCduOGo5EhBYhzKrSlLIA    14993808  Product B\n",
       "1  3nQbqbnpTeSkYIJWT1UDe1GZ1    15560417  Product B\n",
       "2  PD9KwDPOwyJWO6LJKPGBbkrCz    15406428  Product C\n",
       "3  IhS7pz8lu07LCZSqYNlL0fuLP    15604313  Product B\n",
       "4  ftUey4oVmkZj8RaBVFH6SNzVM    14952409  Product C"
      ]
     },
     "execution_count": 100,
     "metadata": {},
     "output_type": "execute_result"
    }
   ],
   "source": [
    "df_products.head()"
   ]
  },
  {
   "cell_type": "code",
   "execution_count": 166,
   "metadata": {},
   "outputs": [],
   "source": [
    "df_products_number = df_products.groupby('CustomerId').agg(number_of_products = ('Products','count')).reset_index()"
   ]
  },
  {
   "cell_type": "code",
   "execution_count": 305,
   "metadata": {},
   "outputs": [
    {
     "data": {
      "text/html": [
       "<div>\n",
       "<style scoped>\n",
       "    .dataframe tbody tr th:only-of-type {\n",
       "        vertical-align: middle;\n",
       "    }\n",
       "\n",
       "    .dataframe tbody tr th {\n",
       "        vertical-align: top;\n",
       "    }\n",
       "\n",
       "    .dataframe thead th {\n",
       "        text-align: right;\n",
       "    }\n",
       "</style>\n",
       "<table border=\"1\" class=\"dataframe\">\n",
       "  <thead>\n",
       "    <tr style=\"text-align: right;\">\n",
       "      <th></th>\n",
       "      <th>CustomerId</th>\n",
       "      <th>number_of_products</th>\n",
       "    </tr>\n",
       "  </thead>\n",
       "  <tbody>\n",
       "    <tr>\n",
       "      <th>0</th>\n",
       "      <td>14500000</td>\n",
       "      <td>4</td>\n",
       "    </tr>\n",
       "    <tr>\n",
       "      <th>1</th>\n",
       "      <td>14500001</td>\n",
       "      <td>2</td>\n",
       "    </tr>\n",
       "    <tr>\n",
       "      <th>2</th>\n",
       "      <td>14500002</td>\n",
       "      <td>2</td>\n",
       "    </tr>\n",
       "    <tr>\n",
       "      <th>3</th>\n",
       "      <td>14500003</td>\n",
       "      <td>3</td>\n",
       "    </tr>\n",
       "    <tr>\n",
       "      <th>4</th>\n",
       "      <td>14500004</td>\n",
       "      <td>3</td>\n",
       "    </tr>\n",
       "  </tbody>\n",
       "</table>\n",
       "</div>"
      ],
      "text/plain": [
       "   CustomerId  number_of_products\n",
       "0    14500000                   4\n",
       "1    14500001                   2\n",
       "2    14500002                   2\n",
       "3    14500003                   3\n",
       "4    14500004                   3"
      ]
     },
     "execution_count": 305,
     "metadata": {},
     "output_type": "execute_result"
    }
   ],
   "source": [
    "df_products_number.head()"
   ]
  },
  {
   "cell_type": "markdown",
   "metadata": {},
   "source": [
    "### Transactions"
   ]
  },
  {
   "cell_type": "markdown",
   "metadata": {},
   "source": [
    "Create balance variable"
   ]
  },
  {
   "cell_type": "code",
   "execution_count": 306,
   "metadata": {},
   "outputs": [
    {
     "data": {
      "text/html": [
       "<div>\n",
       "<style scoped>\n",
       "    .dataframe tbody tr th:only-of-type {\n",
       "        vertical-align: middle;\n",
       "    }\n",
       "\n",
       "    .dataframe tbody tr th {\n",
       "        vertical-align: top;\n",
       "    }\n",
       "\n",
       "    .dataframe thead th {\n",
       "        text-align: right;\n",
       "    }\n",
       "</style>\n",
       "<table border=\"1\" class=\"dataframe\">\n",
       "  <thead>\n",
       "    <tr style=\"text-align: right;\">\n",
       "      <th></th>\n",
       "      <th>CustomerId</th>\n",
       "      <th>Transaction</th>\n",
       "      <th>Value</th>\n",
       "    </tr>\n",
       "  </thead>\n",
       "  <tbody>\n",
       "    <tr>\n",
       "      <th>0</th>\n",
       "      <td>15653320</td>\n",
       "      <td>trans_4</td>\n",
       "      <td>-294.03</td>\n",
       "    </tr>\n",
       "    <tr>\n",
       "      <th>1</th>\n",
       "      <td>14955663</td>\n",
       "      <td>trans_3</td>\n",
       "      <td>1297.97</td>\n",
       "    </tr>\n",
       "    <tr>\n",
       "      <th>2</th>\n",
       "      <td>15218505</td>\n",
       "      <td>trans_4</td>\n",
       "      <td>191.28</td>\n",
       "    </tr>\n",
       "    <tr>\n",
       "      <th>3</th>\n",
       "      <td>15391934</td>\n",
       "      <td>trans_3</td>\n",
       "      <td>2299.07</td>\n",
       "    </tr>\n",
       "    <tr>\n",
       "      <th>4</th>\n",
       "      <td>14847291</td>\n",
       "      <td>trans_3</td>\n",
       "      <td>1612.10</td>\n",
       "    </tr>\n",
       "  </tbody>\n",
       "</table>\n",
       "</div>"
      ],
      "text/plain": [
       "   CustomerId Transaction   Value\n",
       "0    15653320     trans_4 -294.03\n",
       "1    14955663     trans_3 1297.97\n",
       "2    15218505     trans_4  191.28\n",
       "3    15391934     trans_3 2299.07\n",
       "4    14847291     trans_3 1612.10"
      ]
     },
     "execution_count": 306,
     "metadata": {},
     "output_type": "execute_result"
    }
   ],
   "source": [
    "df_transactions.head()"
   ]
  },
  {
   "cell_type": "code",
   "execution_count": 307,
   "metadata": {},
   "outputs": [],
   "source": [
    "df_transact_pivoted = df_transactions.pivot(index='CustomerId',columns='Transaction',values='Value').reset_index()"
   ]
  },
  {
   "cell_type": "code",
   "execution_count": 308,
   "metadata": {},
   "outputs": [],
   "source": [
    "df_transact_pivoted['balance'] = df_transact_pivoted[['trans_1','trans_2','trans_3','trans_4','trans_5']].sum(axis=1)"
   ]
  },
  {
   "cell_type": "code",
   "execution_count": 309,
   "metadata": {},
   "outputs": [
    {
     "data": {
      "text/html": [
       "<div>\n",
       "<style scoped>\n",
       "    .dataframe tbody tr th:only-of-type {\n",
       "        vertical-align: middle;\n",
       "    }\n",
       "\n",
       "    .dataframe tbody tr th {\n",
       "        vertical-align: top;\n",
       "    }\n",
       "\n",
       "    .dataframe thead th {\n",
       "        text-align: right;\n",
       "    }\n",
       "</style>\n",
       "<table border=\"1\" class=\"dataframe\">\n",
       "  <thead>\n",
       "    <tr style=\"text-align: right;\">\n",
       "      <th>Transaction</th>\n",
       "      <th>CustomerId</th>\n",
       "      <th>trans_1</th>\n",
       "      <th>trans_2</th>\n",
       "      <th>trans_3</th>\n",
       "      <th>trans_4</th>\n",
       "      <th>trans_5</th>\n",
       "      <th>balance</th>\n",
       "    </tr>\n",
       "  </thead>\n",
       "  <tbody>\n",
       "    <tr>\n",
       "      <th>0</th>\n",
       "      <td>14500000</td>\n",
       "      <td>1456.63</td>\n",
       "      <td>-317.81</td>\n",
       "      <td>1047.96</td>\n",
       "      <td>-249.61</td>\n",
       "      <td>-1937.17</td>\n",
       "      <td>0.00</td>\n",
       "    </tr>\n",
       "    <tr>\n",
       "      <th>1</th>\n",
       "      <td>14500001</td>\n",
       "      <td>2717.35</td>\n",
       "      <td>-149.95</td>\n",
       "      <td>2560.88</td>\n",
       "      <td>-94.99</td>\n",
       "      <td>46372.32</td>\n",
       "      <td>51405.61</td>\n",
       "    </tr>\n",
       "    <tr>\n",
       "      <th>2</th>\n",
       "      <td>14500002</td>\n",
       "      <td>3470.33</td>\n",
       "      <td>-868.05</td>\n",
       "      <td>1229.14</td>\n",
       "      <td>-120.02</td>\n",
       "      <td>117052.10</td>\n",
       "      <td>120763.50</td>\n",
       "    </tr>\n",
       "    <tr>\n",
       "      <th>3</th>\n",
       "      <td>14500003</td>\n",
       "      <td>4711.95</td>\n",
       "      <td>-224.06</td>\n",
       "      <td>1576.25</td>\n",
       "      <td>313.71</td>\n",
       "      <td>143518.86</td>\n",
       "      <td>149896.71</td>\n",
       "    </tr>\n",
       "    <tr>\n",
       "      <th>4</th>\n",
       "      <td>14500004</td>\n",
       "      <td>3959.83</td>\n",
       "      <td>-632.33</td>\n",
       "      <td>2802.98</td>\n",
       "      <td>-804.26</td>\n",
       "      <td>137735.31</td>\n",
       "      <td>143061.53</td>\n",
       "    </tr>\n",
       "  </tbody>\n",
       "</table>\n",
       "</div>"
      ],
      "text/plain": [
       "Transaction  CustomerId  trans_1  trans_2  trans_3  trans_4   trans_5  \\\n",
       "0              14500000  1456.63  -317.81  1047.96  -249.61  -1937.17   \n",
       "1              14500001  2717.35  -149.95  2560.88   -94.99  46372.32   \n",
       "2              14500002  3470.33  -868.05  1229.14  -120.02 117052.10   \n",
       "3              14500003  4711.95  -224.06  1576.25   313.71 143518.86   \n",
       "4              14500004  3959.83  -632.33  2802.98  -804.26 137735.31   \n",
       "\n",
       "Transaction   balance  \n",
       "0                0.00  \n",
       "1            51405.61  \n",
       "2           120763.50  \n",
       "3           149896.71  \n",
       "4           143061.53  "
      ]
     },
     "execution_count": 309,
     "metadata": {},
     "output_type": "execute_result"
    }
   ],
   "source": [
    "df_transact_pivoted.head()"
   ]
  },
  {
   "cell_type": "markdown",
   "metadata": {},
   "source": [
    "### Credit scores"
   ]
  },
  {
   "cell_type": "code",
   "execution_count": 310,
   "metadata": {},
   "outputs": [
    {
     "data": {
      "text/html": [
       "<div>\n",
       "<style scoped>\n",
       "    .dataframe tbody tr th:only-of-type {\n",
       "        vertical-align: middle;\n",
       "    }\n",
       "\n",
       "    .dataframe tbody tr th {\n",
       "        vertical-align: top;\n",
       "    }\n",
       "\n",
       "    .dataframe thead th {\n",
       "        text-align: right;\n",
       "    }\n",
       "</style>\n",
       "<table border=\"1\" class=\"dataframe\">\n",
       "  <thead>\n",
       "    <tr style=\"text-align: right;\">\n",
       "      <th></th>\n",
       "      <th>CustomerId</th>\n",
       "      <th>Date</th>\n",
       "      <th>Score</th>\n",
       "    </tr>\n",
       "  </thead>\n",
       "  <tbody>\n",
       "    <tr>\n",
       "      <th>0</th>\n",
       "      <td>14759722</td>\n",
       "      <td>2018-07-01</td>\n",
       "      <td>717</td>\n",
       "    </tr>\n",
       "    <tr>\n",
       "      <th>1</th>\n",
       "      <td>15907276</td>\n",
       "      <td>2011-09-01</td>\n",
       "      <td>562</td>\n",
       "    </tr>\n",
       "    <tr>\n",
       "      <th>2</th>\n",
       "      <td>15346641</td>\n",
       "      <td>2013-01-01</td>\n",
       "      <td>604</td>\n",
       "    </tr>\n",
       "    <tr>\n",
       "      <th>3</th>\n",
       "      <td>15595126</td>\n",
       "      <td>2018-08-01</td>\n",
       "      <td>469</td>\n",
       "    </tr>\n",
       "    <tr>\n",
       "      <th>4</th>\n",
       "      <td>15227788</td>\n",
       "      <td>2013-09-01</td>\n",
       "      <td>655</td>\n",
       "    </tr>\n",
       "  </tbody>\n",
       "</table>\n",
       "</div>"
      ],
      "text/plain": [
       "   CustomerId       Date  Score\n",
       "0    14759722 2018-07-01    717\n",
       "1    15907276 2011-09-01    562\n",
       "2    15346641 2013-01-01    604\n",
       "3    15595126 2018-08-01    469\n",
       "4    15227788 2013-09-01    655"
      ]
     },
     "execution_count": 310,
     "metadata": {},
     "output_type": "execute_result"
    }
   ],
   "source": [
    "df_credit_score.head()"
   ]
  },
  {
   "cell_type": "markdown",
   "metadata": {},
   "source": [
    "13 values for customers"
   ]
  },
  {
   "cell_type": "code",
   "execution_count": 311,
   "metadata": {},
   "outputs": [
    {
     "data": {
      "text/html": [
       "<div>\n",
       "<style scoped>\n",
       "    .dataframe tbody tr th:only-of-type {\n",
       "        vertical-align: middle;\n",
       "    }\n",
       "\n",
       "    .dataframe tbody tr th {\n",
       "        vertical-align: top;\n",
       "    }\n",
       "\n",
       "    .dataframe thead th {\n",
       "        text-align: right;\n",
       "    }\n",
       "</style>\n",
       "<table border=\"1\" class=\"dataframe\">\n",
       "  <thead>\n",
       "    <tr style=\"text-align: right;\">\n",
       "      <th></th>\n",
       "      <th>Date</th>\n",
       "      <th>Score</th>\n",
       "    </tr>\n",
       "    <tr>\n",
       "      <th>CustomerId</th>\n",
       "      <th></th>\n",
       "      <th></th>\n",
       "    </tr>\n",
       "  </thead>\n",
       "  <tbody>\n",
       "    <tr>\n",
       "      <th>14500000</th>\n",
       "      <td>13</td>\n",
       "      <td>13</td>\n",
       "    </tr>\n",
       "    <tr>\n",
       "      <th>14500001</th>\n",
       "      <td>13</td>\n",
       "      <td>13</td>\n",
       "    </tr>\n",
       "    <tr>\n",
       "      <th>14500002</th>\n",
       "      <td>13</td>\n",
       "      <td>13</td>\n",
       "    </tr>\n",
       "    <tr>\n",
       "      <th>14500003</th>\n",
       "      <td>13</td>\n",
       "      <td>13</td>\n",
       "    </tr>\n",
       "    <tr>\n",
       "      <th>14500004</th>\n",
       "      <td>13</td>\n",
       "      <td>13</td>\n",
       "    </tr>\n",
       "  </tbody>\n",
       "</table>\n",
       "</div>"
      ],
      "text/plain": [
       "            Date  Score\n",
       "CustomerId             \n",
       "14500000      13     13\n",
       "14500001      13     13\n",
       "14500002      13     13\n",
       "14500003      13     13\n",
       "14500004      13     13"
      ]
     },
     "execution_count": 311,
     "metadata": {},
     "output_type": "execute_result"
    }
   ],
   "source": [
    "df_credit_score.groupby('CustomerId').count().head()"
   ]
  },
  {
   "cell_type": "markdown",
   "metadata": {},
   "source": [
    "Given that in this table the dates are beginning of month, and on the client's table they are specific dates, we can join them by year-month combinations.\n",
    "\n",
    "Create year and month variable"
   ]
  },
  {
   "cell_type": "code",
   "execution_count": 312,
   "metadata": {},
   "outputs": [],
   "source": [
    "df_credit_score['Date'] = pd.to_datetime(df_credit_score['Date'])\n",
    "df_clients_f['application_date'] = pd.to_datetime(df_clients_f['application_date'])"
   ]
  },
  {
   "cell_type": "code",
   "execution_count": 313,
   "metadata": {},
   "outputs": [],
   "source": [
    "# Credit table\n",
    "df_credit_score['year'] = df_credit_score.Date.dt.year\n",
    "df_credit_score['month'] = df_credit_score.Date.dt.month\n",
    "\n",
    "# Client's table\n",
    "df_clients_f['year'] = df_clients_f.application_date.dt.year\n",
    "df_clients_f['month'] = df_clients_f.application_date.dt.month"
   ]
  },
  {
   "cell_type": "markdown",
   "metadata": {},
   "source": [
    "Merge them"
   ]
  },
  {
   "cell_type": "code",
   "execution_count": 314,
   "metadata": {},
   "outputs": [],
   "source": [
    "df_clients_f = df_clients_f.merge(df_credit_score, how='left',on=['CustomerId','year','month'])"
   ]
  },
  {
   "cell_type": "markdown",
   "metadata": {},
   "source": [
    "Drop unnecessary columns"
   ]
  },
  {
   "cell_type": "code",
   "execution_count": 316,
   "metadata": {},
   "outputs": [],
   "source": [
    "df_clients_f.drop(columns=['year','month','Date'],inplace=True)"
   ]
  },
  {
   "cell_type": "markdown",
   "metadata": {},
   "source": [
    "### Clients"
   ]
  },
  {
   "cell_type": "markdown",
   "metadata": {},
   "source": [
    "Calculate Age"
   ]
  },
  {
   "cell_type": "code",
   "execution_count": 320,
   "metadata": {},
   "outputs": [],
   "source": [
    "def calculate_age(born, cut_date):\n",
    "    return cut_date.year - born.year - ((cut_date.month, cut_date.day) < (born.month, born.day))"
   ]
  },
  {
   "cell_type": "code",
   "execution_count": 321,
   "metadata": {},
   "outputs": [],
   "source": [
    "df_clients_f['birth_date'] = pd.to_datetime(df_clients_f['birth_date'])"
   ]
  },
  {
   "cell_type": "code",
   "execution_count": 322,
   "metadata": {},
   "outputs": [],
   "source": [
    "cut_date = pd.to_datetime('2019-11-30')"
   ]
  },
  {
   "cell_type": "code",
   "execution_count": 323,
   "metadata": {},
   "outputs": [],
   "source": [
    "df_clients_f['age'] = df_clients_f['birth_date'].apply(calculate_age, cut_date=cut_date)"
   ]
  },
  {
   "cell_type": "markdown",
   "metadata": {},
   "source": [
    "### Final merge"
   ]
  },
  {
   "cell_type": "code",
   "execution_count": 324,
   "metadata": {},
   "outputs": [],
   "source": [
    "df_clients_f = (df_clients_f\n",
    "                        .merge(df_products_number,how='left',on='CustomerId')\n",
    "                        .merge(df_transact_pivoted[['CustomerId','balance']],how='left',on='CustomerId')\n",
    "                        )"
   ]
  },
  {
   "cell_type": "code",
   "execution_count": 325,
   "metadata": {},
   "outputs": [
    {
     "data": {
      "text/html": [
       "<div>\n",
       "<style scoped>\n",
       "    .dataframe tbody tr th:only-of-type {\n",
       "        vertical-align: middle;\n",
       "    }\n",
       "\n",
       "    .dataframe tbody tr th {\n",
       "        vertical-align: top;\n",
       "    }\n",
       "\n",
       "    .dataframe thead th {\n",
       "        text-align: right;\n",
       "    }\n",
       "</style>\n",
       "<table border=\"1\" class=\"dataframe\">\n",
       "  <thead>\n",
       "    <tr style=\"text-align: right;\">\n",
       "      <th></th>\n",
       "      <th>CustomerId</th>\n",
       "      <th>Surname</th>\n",
       "      <th>Geography</th>\n",
       "      <th>Gender</th>\n",
       "      <th>HasCrCard</th>\n",
       "      <th>IsActiveMember</th>\n",
       "      <th>EstimatedSalary</th>\n",
       "      <th>application_date</th>\n",
       "      <th>exit_date</th>\n",
       "      <th>birth_date</th>\n",
       "      <th>CustomerLifetime</th>\n",
       "      <th>Score</th>\n",
       "      <th>age</th>\n",
       "      <th>number_of_products</th>\n",
       "      <th>balance</th>\n",
       "    </tr>\n",
       "  </thead>\n",
       "  <tbody>\n",
       "    <tr>\n",
       "      <th>0</th>\n",
       "      <td>15610711</td>\n",
       "      <td>Eluemuno</td>\n",
       "      <td>Germany</td>\n",
       "      <td>Female</td>\n",
       "      <td>0.00</td>\n",
       "      <td>0.00</td>\n",
       "      <td>167673.37</td>\n",
       "      <td>2017-03-05</td>\n",
       "      <td>2019-11-27</td>\n",
       "      <td>1976-10-21</td>\n",
       "      <td>2.74</td>\n",
       "      <td>678</td>\n",
       "      <td>43</td>\n",
       "      <td>1</td>\n",
       "      <td>128644.46</td>\n",
       "    </tr>\n",
       "    <tr>\n",
       "      <th>1</th>\n",
       "      <td>15764170</td>\n",
       "      <td>Pinto</td>\n",
       "      <td>Germany</td>\n",
       "      <td>Male</td>\n",
       "      <td>1.00</td>\n",
       "      <td>0.00</td>\n",
       "      <td>36579.53</td>\n",
       "      <td>2017-02-05</td>\n",
       "      <td>2018-10-11</td>\n",
       "      <td>1972-04-02</td>\n",
       "      <td>2.82</td>\n",
       "      <td>647</td>\n",
       "      <td>47</td>\n",
       "      <td>1</td>\n",
       "      <td>93960.35</td>\n",
       "    </tr>\n",
       "    <tr>\n",
       "      <th>2</th>\n",
       "      <td>15594720</td>\n",
       "      <td>Scott</td>\n",
       "      <td>Germany</td>\n",
       "      <td>Female</td>\n",
       "      <td>1.00</td>\n",
       "      <td>1.00</td>\n",
       "      <td>189339.60</td>\n",
       "      <td>2017-11-08</td>\n",
       "      <td>NaT</td>\n",
       "      <td>1982-05-14</td>\n",
       "      <td>2.06</td>\n",
       "      <td>460</td>\n",
       "      <td>37</td>\n",
       "      <td>2</td>\n",
       "      <td>102742.91</td>\n",
       "    </tr>\n",
       "    <tr>\n",
       "      <th>3</th>\n",
       "      <td>15706552</td>\n",
       "      <td>Odinakachukwu</td>\n",
       "      <td>France</td>\n",
       "      <td>Male</td>\n",
       "      <td>0.00</td>\n",
       "      <td>1.00</td>\n",
       "      <td>156731.91</td>\n",
       "      <td>2016-02-15</td>\n",
       "      <td>2019-10-02</td>\n",
       "      <td>1979-09-09</td>\n",
       "      <td>3.79</td>\n",
       "      <td>533</td>\n",
       "      <td>40</td>\n",
       "      <td>1</td>\n",
       "      <td>85311.70</td>\n",
       "    </tr>\n",
       "    <tr>\n",
       "      <th>4</th>\n",
       "      <td>15785358</td>\n",
       "      <td>Gresswell</td>\n",
       "      <td>Germany</td>\n",
       "      <td>Male</td>\n",
       "      <td>1.00</td>\n",
       "      <td>1.00</td>\n",
       "      <td>79366.98</td>\n",
       "      <td>2016-09-17</td>\n",
       "      <td>2016-12-20</td>\n",
       "      <td>1969-11-11</td>\n",
       "      <td>3.20</td>\n",
       "      <td>586</td>\n",
       "      <td>50</td>\n",
       "      <td>1</td>\n",
       "      <td>106968.96</td>\n",
       "    </tr>\n",
       "  </tbody>\n",
       "</table>\n",
       "</div>"
      ],
      "text/plain": [
       "   CustomerId        Surname Geography  Gender  HasCrCard  IsActiveMember  \\\n",
       "0    15610711       Eluemuno   Germany  Female       0.00            0.00   \n",
       "1    15764170          Pinto   Germany    Male       1.00            0.00   \n",
       "2    15594720          Scott   Germany  Female       1.00            1.00   \n",
       "3    15706552  Odinakachukwu    France    Male       0.00            1.00   \n",
       "4    15785358      Gresswell   Germany    Male       1.00            1.00   \n",
       "\n",
       "   EstimatedSalary application_date  exit_date birth_date  CustomerLifetime  \\\n",
       "0        167673.37       2017-03-05 2019-11-27 1976-10-21              2.74   \n",
       "1         36579.53       2017-02-05 2018-10-11 1972-04-02              2.82   \n",
       "2        189339.60       2017-11-08        NaT 1982-05-14              2.06   \n",
       "3        156731.91       2016-02-15 2019-10-02 1979-09-09              3.79   \n",
       "4         79366.98       2016-09-17 2016-12-20 1969-11-11              3.20   \n",
       "\n",
       "   Score  age  number_of_products   balance  \n",
       "0    678   43                   1 128644.46  \n",
       "1    647   47                   1  93960.35  \n",
       "2    460   37                   2 102742.91  \n",
       "3    533   40                   1  85311.70  \n",
       "4    586   50                   1 106968.96  "
      ]
     },
     "execution_count": 325,
     "metadata": {},
     "output_type": "execute_result"
    }
   ],
   "source": [
    "df_clients_f.head()"
   ]
  },
  {
   "cell_type": "code",
   "execution_count": 326,
   "metadata": {},
   "outputs": [
    {
     "data": {
      "text/plain": [
       "(9995, 15)"
      ]
     },
     "execution_count": 326,
     "metadata": {},
     "output_type": "execute_result"
    }
   ],
   "source": [
    "df_clients_f.shape"
   ]
  },
  {
   "cell_type": "markdown",
   "metadata": {},
   "source": [
    "# EDA"
   ]
  },
  {
   "cell_type": "markdown",
   "metadata": {},
   "source": [
    "The dataset is balanced"
   ]
  },
  {
   "cell_type": "code",
   "execution_count": 330,
   "metadata": {},
   "outputs": [
    {
     "data": {
      "image/png": "[encoded data removed]",
      "text/plain": [
       "<Figure size 432x432 with 1 Axes>"
      ]
     },
     "metadata": {},
     "output_type": "display_data"
    }
   ],
   "source": [
    "# Count the values in the 'IsActiveMember' column\n",
    "count_values = df_clients_f['IsActiveMember'].value_counts()\n",
    "\n",
    "# Set Seaborn-style color palette\n",
    "colors = sns.color_palette('pastel')\n",
    "\n",
    "# Create a pie chart using matplotlib\n",
    "plt.figure(figsize=(6, 6))\n",
    "plt.pie(count_values, labels=count_values.index, autopct='%1.1f%%', colors=colors, startangle=90)\n",
    "\n",
    "# Set plot title\n",
    "plt.title('Distribution of IsActiveMember')\n",
    "\n",
    "# Show the plot\n",
    "plt.show()"
   ]
  },
  {
   "cell_type": "markdown",
   "metadata": {},
   "source": [
    "Statistics of variables"
   ]
  },
  {
   "cell_type": "code",
   "execution_count": 331,
   "metadata": {},
   "outputs": [
    {
     "data": {
      "text/html": [
       "<div>\n",
       "<style scoped>\n",
       "    .dataframe tbody tr th:only-of-type {\n",
       "        vertical-align: middle;\n",
       "    }\n",
       "\n",
       "    .dataframe tbody tr th {\n",
       "        vertical-align: top;\n",
       "    }\n",
       "\n",
       "    .dataframe thead th {\n",
       "        text-align: right;\n",
       "    }\n",
       "</style>\n",
       "<table border=\"1\" class=\"dataframe\">\n",
       "  <thead>\n",
       "    <tr style=\"text-align: right;\">\n",
       "      <th></th>\n",
       "      <th>CustomerId</th>\n",
       "      <th>HasCrCard</th>\n",
       "      <th>IsActiveMember</th>\n",
       "      <th>EstimatedSalary</th>\n",
       "      <th>application_date</th>\n",
       "      <th>exit_date</th>\n",
       "      <th>birth_date</th>\n",
       "      <th>CustomerLifetime</th>\n",
       "      <th>Score</th>\n",
       "      <th>age</th>\n",
       "      <th>number_of_products</th>\n",
       "      <th>balance</th>\n",
       "    </tr>\n",
       "  </thead>\n",
       "  <tbody>\n",
       "    <tr>\n",
       "      <th>count</th>\n",
       "      <td>9995.00</td>\n",
       "      <td>9995.00</td>\n",
       "      <td>9995.00</td>\n",
       "      <td>9995.00</td>\n",
       "      <td>9995</td>\n",
       "      <td>7178</td>\n",
       "      <td>9995</td>\n",
       "      <td>9995.00</td>\n",
       "      <td>9995.00</td>\n",
       "      <td>9995.00</td>\n",
       "      <td>9995.00</td>\n",
       "      <td>9995.00</td>\n",
       "    </tr>\n",
       "    <tr>\n",
       "      <th>mean</th>\n",
       "      <td>15690944.68</td>\n",
       "      <td>0.71</td>\n",
       "      <td>0.52</td>\n",
       "      <td>100075.71</td>\n",
       "      <td>2016-06-17 00:09:30.525262848</td>\n",
       "      <td>2018-06-29 10:01:38.300362240</td>\n",
       "      <td>1977-01-14 09:49:41.210605312</td>\n",
       "      <td>3.45</td>\n",
       "      <td>650.53</td>\n",
       "      <td>42.37</td>\n",
       "      <td>1.53</td>\n",
       "      <td>76481.62</td>\n",
       "    </tr>\n",
       "    <tr>\n",
       "      <th>min</th>\n",
       "      <td>15565701.00</td>\n",
       "      <td>0.00</td>\n",
       "      <td>0.00</td>\n",
       "      <td>11.58</td>\n",
       "      <td>2015-01-02 00:00:00</td>\n",
       "      <td>2015-05-01 00:00:00</td>\n",
       "      <td>1923-09-20 00:00:00</td>\n",
       "      <td>2.00</td>\n",
       "      <td>350.00</td>\n",
       "      <td>20.00</td>\n",
       "      <td>1.00</td>\n",
       "      <td>-0.00</td>\n",
       "    </tr>\n",
       "    <tr>\n",
       "      <th>25%</th>\n",
       "      <td>15628471.50</td>\n",
       "      <td>0.00</td>\n",
       "      <td>0.00</td>\n",
       "      <td>50973.58</td>\n",
       "      <td>2015-09-22 00:00:00</td>\n",
       "      <td>2017-11-23 00:00:00</td>\n",
       "      <td>1972-01-27 00:00:00</td>\n",
       "      <td>2.71</td>\n",
       "      <td>584.00</td>\n",
       "      <td>35.00</td>\n",
       "      <td>1.00</td>\n",
       "      <td>0.00</td>\n",
       "    </tr>\n",
       "    <tr>\n",
       "      <th>50%</th>\n",
       "      <td>15690744.00</td>\n",
       "      <td>1.00</td>\n",
       "      <td>1.00</td>\n",
       "      <td>100187.43</td>\n",
       "      <td>2016-06-17 00:00:00</td>\n",
       "      <td>2018-08-25 00:00:00</td>\n",
       "      <td>1978-08-12 00:00:00</td>\n",
       "      <td>3.45</td>\n",
       "      <td>652.00</td>\n",
       "      <td>41.00</td>\n",
       "      <td>1.00</td>\n",
       "      <td>97188.62</td>\n",
       "    </tr>\n",
       "    <tr>\n",
       "      <th>75%</th>\n",
       "      <td>15753290.00</td>\n",
       "      <td>1.00</td>\n",
       "      <td>1.00</td>\n",
       "      <td>149382.88</td>\n",
       "      <td>2017-03-15 00:00:00</td>\n",
       "      <td>2019-04-12 18:00:00</td>\n",
       "      <td>1984-02-12 00:00:00</td>\n",
       "      <td>4.19</td>\n",
       "      <td>718.00</td>\n",
       "      <td>47.00</td>\n",
       "      <td>2.00</td>\n",
       "      <td>127640.39</td>\n",
       "    </tr>\n",
       "    <tr>\n",
       "      <th>max</th>\n",
       "      <td>15815690.00</td>\n",
       "      <td>1.00</td>\n",
       "      <td>1.00</td>\n",
       "      <td>199992.48</td>\n",
       "      <td>2017-11-30 00:00:00</td>\n",
       "      <td>2019-11-29 00:00:00</td>\n",
       "      <td>1999-10-20 00:00:00</td>\n",
       "      <td>4.91</td>\n",
       "      <td>850.00</td>\n",
       "      <td>96.00</td>\n",
       "      <td>4.00</td>\n",
       "      <td>250898.09</td>\n",
       "    </tr>\n",
       "    <tr>\n",
       "      <th>std</th>\n",
       "      <td>71949.43</td>\n",
       "      <td>0.46</td>\n",
       "      <td>0.50</td>\n",
       "      <td>57514.27</td>\n",
       "      <td>NaN</td>\n",
       "      <td>NaN</td>\n",
       "      <td>NaN</td>\n",
       "      <td>0.85</td>\n",
       "      <td>96.66</td>\n",
       "      <td>10.54</td>\n",
       "      <td>0.58</td>\n",
       "      <td>62390.93</td>\n",
       "    </tr>\n",
       "  </tbody>\n",
       "</table>\n",
       "</div>"
      ],
      "text/plain": [
       "       CustomerId  HasCrCard  IsActiveMember  EstimatedSalary  \\\n",
       "count     9995.00    9995.00         9995.00          9995.00   \n",
       "mean  15690944.68       0.71            0.52        100075.71   \n",
       "min   15565701.00       0.00            0.00            11.58   \n",
       "25%   15628471.50       0.00            0.00         50973.58   \n",
       "50%   15690744.00       1.00            1.00        100187.43   \n",
       "75%   15753290.00       1.00            1.00        149382.88   \n",
       "max   15815690.00       1.00            1.00        199992.48   \n",
       "std      71949.43       0.46            0.50         57514.27   \n",
       "\n",
       "                    application_date                      exit_date  \\\n",
       "count                           9995                           7178   \n",
       "mean   2016-06-17 00:09:30.525262848  2018-06-29 10:01:38.300362240   \n",
       "min              2015-01-02 00:00:00            2015-05-01 00:00:00   \n",
       "25%              2015-09-22 00:00:00            2017-11-23 00:00:00   \n",
       "50%              2016-06-17 00:00:00            2018-08-25 00:00:00   \n",
       "75%              2017-03-15 00:00:00            2019-04-12 18:00:00   \n",
       "max              2017-11-30 00:00:00            2019-11-29 00:00:00   \n",
       "std                              NaN                            NaN   \n",
       "\n",
       "                          birth_date  CustomerLifetime   Score     age  \\\n",
       "count                           9995           9995.00 9995.00 9995.00   \n",
       "mean   1977-01-14 09:49:41.210605312              3.45  650.53   42.37   \n",
       "min              1923-09-20 00:00:00              2.00  350.00   20.00   \n",
       "25%              1972-01-27 00:00:00              2.71  584.00   35.00   \n",
       "50%              1978-08-12 00:00:00              3.45  652.00   41.00   \n",
       "75%              1984-02-12 00:00:00              4.19  718.00   47.00   \n",
       "max              1999-10-20 00:00:00              4.91  850.00   96.00   \n",
       "std                              NaN              0.85   96.66   10.54   \n",
       "\n",
       "       number_of_products   balance  \n",
       "count             9995.00   9995.00  \n",
       "mean                 1.53  76481.62  \n",
       "min                  1.00     -0.00  \n",
       "25%                  1.00      0.00  \n",
       "50%                  1.00  97188.62  \n",
       "75%                  2.00 127640.39  \n",
       "max                  4.00 250898.09  \n",
       "std                  0.58  62390.93  "
      ]
     },
     "execution_count": 331,
     "metadata": {},
     "output_type": "execute_result"
    }
   ],
   "source": [
    "df_clients_f.describe()"
   ]
  },
  {
   "cell_type": "code",
   "execution_count": 334,
   "metadata": {},
   "outputs": [
    {
     "data": {
      "image/png": "[encoded data removed]",
      "text/plain": [
       "<Figure size 1080x360 with 2 Axes>"
      ]
     },
     "metadata": {},
     "output_type": "display_data"
    }
   ],
   "source": [
    "cat_cols = ['Geography','Gender']\n",
    "\n",
    "num_rows = 1\n",
    "num_cols = len(cat_cols)\n",
    "\n",
    "fig, axes = plt.subplots(num_rows, num_cols, figsize=(15, 5))\n",
    "\n",
    "fig.suptitle(\"Distribution of categorical columns\", fontsize=16)\n",
    "\n",
    "for i, col in enumerate(cat_cols):\n",
    "    ax = sns.countplot(data=df_clients_f, x=col, palette='Blues_r', ax=axes[i])\n",
    "    ax.grid(b=None)\n",
    "    ax.set_facecolor('white')\n",
    "    ax.set_title(f'Distribution of {col}')\n",
    "    ax.bar_label(ax.containers[0])\n",
    "    ax.set_xticklabels(ax.get_xticklabels(), rotation=45, horizontalalignment='right')\n",
    "\n",
    "plt.tight_layout()\n",
    "plt.show()"
   ]
  },
  {
   "cell_type": "markdown",
   "metadata": {},
   "source": [
    "There isn't a clear relationship between these and the target"
   ]
  },
  {
   "cell_type": "code",
   "execution_count": 337,
   "metadata": {},
   "outputs": [
    {
     "data": {
      "image/png": "[encoded data removed]",
      "text/plain": [
       "<Figure size 1080x360 with 2 Axes>"
      ]
     },
     "metadata": {},
     "output_type": "display_data"
    }
   ],
   "source": [
    "num_rows = 1\n",
    "num_cols = len(cat_cols)\n",
    "\n",
    "fig, axes = plt.subplots(num_rows, num_cols, figsize=(15, 5))\n",
    "\n",
    "fig.suptitle(\"Distribución de variable objetivo según...\", fontsize=16)\n",
    "\n",
    "for i, col in enumerate(cat_cols):\n",
    "    ax = sns.countplot(data=df_clients_f, x='IsActiveMember', palette='Blues_r', ax=axes[i], hue = col)\n",
    "    ax.grid(b=None)\n",
    "    ax.set_facecolor('white')\n",
    "    ax.set_title(f'{col}')\n",
    "    ax.bar_label(ax.containers[0])\n",
    "    ax.bar_label(ax.containers[1])\n",
    "    ax.set_xticklabels(ax.get_xticklabels(), rotation=45, horizontalalignment='right')\n",
    "\n",
    "plt.tight_layout()\n",
    "plt.show()"
   ]
  },
  {
   "cell_type": "markdown",
   "metadata": {},
   "source": [
    "Neither for numeric variables"
   ]
  },
  {
   "cell_type": "code",
   "execution_count": 348,
   "metadata": {},
   "outputs": [
    {
     "data": {
      "image/png": "[encoded data removed]",
      "text/plain": [
       "<Figure size 1080x360 with 4 Axes>"
      ]
     },
     "metadata": {},
     "output_type": "display_data"
    }
   ],
   "source": [
    "num_cols=['EstimatedSalary','Score','balance','age']\n",
    "\n",
    "num_plots = len(num_cols)\n",
    "\n",
    "# Create a grid of subplots\n",
    "fig, axes = plt.subplots(1, num_plots, figsize=(15, 5))\n",
    "fig.suptitle(\"Distribution of numeric columns by target\", fontsize=16)\n",
    "# Iterate through continuous variables and create KDE plots\n",
    "for i, col in enumerate(num_cols):\n",
    "    ax = axes[i]\n",
    "    sns.kdeplot(x=col, hue='IsActiveMember', palette='Blues_r', shade=True, data=df_clients_f, ax=ax)\n",
    "    ax.set_facecolor('white')\n",
    "\n",
    "plt.tight_layout()\n",
    "plt.show()"
   ]
  },
  {
   "cell_type": "markdown",
   "metadata": {},
   "source": [
    "Distribution of numeric variables"
   ]
  },
  {
   "cell_type": "code",
   "execution_count": 347,
   "metadata": {},
   "outputs": [
    {
     "data": {
      "image/png": "[encoded data removed]",
      "text/plain": [
       "<Figure size 1440x720 with 6 Axes>"
      ]
     },
     "metadata": {},
     "output_type": "display_data"
    }
   ],
   "source": [
    "num_cols=['HasCrCard','EstimatedSalary','Score','balance','age','number_of_products']\n",
    "fig, axes = plt.subplots(nrows=2, ncols=len(num_cols)//2, figsize=(20, 10), facecolor='white')\n",
    "fig.suptitle(\"Distribution of numeric columns\", fontsize=16)\n",
    "\n",
    "for i in range(2):\n",
    "    for j, col in enumerate(num_cols[i * (len(num_cols) // 2): (i + 1) * (len(num_cols) // 2)]):\n",
    "        ax = sns.histplot(data=df_clients_f, x=col, kde=True, ax=axes[i, j])\n",
    "        ax.set_facecolor('white')\n",
    "\n",
    "plt.tight_layout()\n",
    "plt.show()\n"
   ]
  },
  {
   "cell_type": "markdown",
   "metadata": {},
   "source": [
    "Correlation isn't clear"
   ]
  },
  {
   "cell_type": "code",
   "execution_count": 344,
   "metadata": {},
   "outputs": [],
   "source": [
    "def Generate_heatmap_graph(corr, chart_title, mask_uppertri=False ):\n",
    "    \n",
    "    mask = np.zeros_like(corr)\n",
    "    mask[np.triu_indices_from(mask)] = mask_uppertri\n",
    "    fig,ax = plt.subplots(figsize=(10,10))\n",
    "    ax.set_facecolor('white')\n",
    "    sns.heatmap(corr\n",
    "                , mask = mask\n",
    "                , square = True\n",
    "                , annot = True\n",
    "                , annot_kws={'size': 10.5, 'weight' : 'bold'}\n",
    "                , cmap='Blues'\n",
    "                , linewidths=.1)\n",
    "    plt.title(chart_title, fontsize=14)\n",
    "\n",
    "    plt.show()"
   ]
  },
  {
   "cell_type": "code",
   "execution_count": 346,
   "metadata": {},
   "outputs": [
    {
     "data": {
      "image/png": "[encoded data removed]",
      "text/plain": [
       "<Figure size 720x720 with 2 Axes>"
      ]
     },
     "metadata": {},
     "output_type": "display_data"
    }
   ],
   "source": [
    "var_corr = round(df_clients_f[num_cols + ['IsActiveMember']].corr(),2)\n",
    "Generate_heatmap_graph(var_corr\n",
    "                       ,chart_title = 'Correlation matrix'\n",
    "                       ,mask_uppertri = True)"
   ]
  },
  {
   "cell_type": "markdown",
   "metadata": {},
   "source": [
    "## Outliers analysis"
   ]
  },
  {
   "cell_type": "markdown",
   "metadata": {},
   "source": [
    "There isn't clear evidence of outliers by first sight"
   ]
  },
  {
   "cell_type": "code",
   "execution_count": 350,
   "metadata": {},
   "outputs": [
    {
     "data": {
      "image/png": "[encoded data removed]",
      "text/plain": [
       "<Figure size 1440x360 with 3 Axes>"
      ]
     },
     "metadata": {},
     "output_type": "display_data"
    }
   ],
   "source": [
    "fig, axes = plt.subplots(ncols=3, figsize=(20, 5))\n",
    "fig.suptitle(\"Gráficos box-plot de variables con valores atípicos\", fontsize=16)\n",
    "\n",
    "sns.boxplot(x=df_clients_f[\"balance\"], ax=axes[0])\n",
    "sns.boxplot(x=df_clients_f[\"EstimatedSalary\"], ax=axes[1])\n",
    "sns.boxplot(x=df_clients_f[\"Score\"], ax=axes[2])\n",
    "plt.show()"
   ]
  },
  {
   "cell_type": "code",
   "execution_count": 351,
   "metadata": {},
   "outputs": [],
   "source": [
    "def tukey_outliers(df,column,extreme=False):\n",
    "    q1, q3 = np.percentile(df[column],[25,75])\n",
    "    iqr = q3 - q1\n",
    "    constant = 1.5 if not extreme else 3\n",
    "    return df[~((df[column]>(q3+constant*iqr)) | (df[column]<(q1-constant*iqr)))] "
   ]
  },
  {
   "cell_type": "code",
   "execution_count": 352,
   "metadata": {},
   "outputs": [
    {
     "name": "stdout",
     "output_type": "stream",
     "text": [
      "Outliers in column balance : 0.0 %\n",
      "Outliers in column EstimatedSalary : 0.0 %\n",
      "Outliers in column Score : 0.15 %\n"
     ]
    }
   ],
   "source": [
    "outlier_check_cols = ['balance','EstimatedSalary','Score']\n",
    "\n",
    "for columna in outlier_check_cols:\n",
    "    outliers = round((1 - len(tukey_outliers(df_clients_f,columna,extreme=False))/len(df_clients_f))*100,2)\n",
    "    print('Outliers in column',columna,':',outliers,'%')"
   ]
  },
  {
   "cell_type": "markdown",
   "metadata": {},
   "source": [
    "# Modelling"
   ]
  },
  {
   "cell_type": "markdown",
   "metadata": {},
   "source": [
    "Import machine learning libraries"
   ]
  },
  {
   "cell_type": "code",
   "execution_count": 354,
   "metadata": {},
   "outputs": [],
   "source": [
    "from sklearn.model_selection import StratifiedShuffleSplit\n",
    "from sklearn.preprocessing import MinMaxScaler\n",
    "from sklearn.model_selection import KFold, cross_validate, GridSearchCV\n",
    "from sklearn.metrics import accuracy_score, confusion_matrix, classification_report, f1_score, roc_auc_score, recall_score, precision_score\n",
    "from sklearn.ensemble import RandomForestClassifier\n",
    "\n",
    "seed = 42\n"
   ]
  },
  {
   "cell_type": "markdown",
   "metadata": {},
   "source": [
    "Delete columns with no information"
   ]
  },
  {
   "cell_type": "code",
   "execution_count": 357,
   "metadata": {},
   "outputs": [],
   "source": [
    "df_clean = df_clients_f.drop(columns=['CustomerId','Surname','exit_date','birth_date','application_date']) # Removing exit_date to avoid leakage"
   ]
  },
  {
   "cell_type": "code",
   "execution_count": 358,
   "metadata": {},
   "outputs": [
    {
     "data": {
      "text/plain": [
       "Geography             0\n",
       "Gender                0\n",
       "HasCrCard             0\n",
       "IsActiveMember        0\n",
       "EstimatedSalary       0\n",
       "CustomerLifetime      0\n",
       "Score                 0\n",
       "age                   0\n",
       "number_of_products    0\n",
       "balance               0\n",
       "dtype: int64"
      ]
     },
     "execution_count": 358,
     "metadata": {},
     "output_type": "execute_result"
    }
   ],
   "source": [
    "df_clean.isna().sum()"
   ]
  },
  {
   "cell_type": "markdown",
   "metadata": {},
   "source": [
    "Generate train and test datasets"
   ]
  },
  {
   "cell_type": "code",
   "execution_count": 360,
   "metadata": {},
   "outputs": [],
   "source": [
    "sss = StratifiedShuffleSplit(n_splits =1, test_size =0.2 , random_state =42)\n",
    "X_train , X_test , y_train , y_test = None , None , None , None\n",
    "\n",
    "for train_index , test_index in sss.split(df_clean.drop(columns =['IsActiveMember']) ,df_clean['IsActiveMember']):\n",
    "    train_df = df_clean.iloc[train_index]\n",
    "    test_df = df_clean.iloc[test_index]\n",
    "    X_train , y_train = train_df.drop(columns =['IsActiveMember']) , train_df.IsActiveMember\n",
    "    X_test , y_test = test_df.drop(columns =['IsActiveMember']) , test_df.IsActiveMember"
   ]
  },
  {
   "cell_type": "code",
   "execution_count": 368,
   "metadata": {},
   "outputs": [
    {
     "data": {
      "text/plain": [
       "((7996, 10), (1999, 10))"
      ]
     },
     "execution_count": 368,
     "metadata": {},
     "output_type": "execute_result"
    }
   ],
   "source": [
    "X_train.shape, X_test.shape"
   ]
  },
  {
   "cell_type": "code",
   "execution_count": 362,
   "metadata": {},
   "outputs": [
    {
     "data": {
      "text/plain": [
       "'Target distribution in train: 0.52, in test:0.52'"
      ]
     },
     "execution_count": 362,
     "metadata": {},
     "output_type": "execute_result"
    }
   ],
   "source": [
    "(f'Target distribution in train: {round(y_train.mean(),2)}, in test:{round(y_test.mean(),2)}')"
   ]
  },
  {
   "cell_type": "code",
   "execution_count": 363,
   "metadata": {},
   "outputs": [
    {
     "data": {
      "text/html": [
       "<div>\n",
       "<style scoped>\n",
       "    .dataframe tbody tr th:only-of-type {\n",
       "        vertical-align: middle;\n",
       "    }\n",
       "\n",
       "    .dataframe tbody tr th {\n",
       "        vertical-align: top;\n",
       "    }\n",
       "\n",
       "    .dataframe thead th {\n",
       "        text-align: right;\n",
       "    }\n",
       "</style>\n",
       "<table border=\"1\" class=\"dataframe\">\n",
       "  <thead>\n",
       "    <tr style=\"text-align: right;\">\n",
       "      <th></th>\n",
       "      <th>Geography</th>\n",
       "      <th>Gender</th>\n",
       "      <th>HasCrCard</th>\n",
       "      <th>EstimatedSalary</th>\n",
       "      <th>CustomerLifetime</th>\n",
       "      <th>Score</th>\n",
       "      <th>age</th>\n",
       "      <th>number_of_products</th>\n",
       "      <th>balance</th>\n",
       "    </tr>\n",
       "  </thead>\n",
       "  <tbody>\n",
       "    <tr>\n",
       "      <th>90</th>\n",
       "      <td>France</td>\n",
       "      <td>Male</td>\n",
       "      <td>1.00</td>\n",
       "      <td>100598.98</td>\n",
       "      <td>3.26</td>\n",
       "      <td>633</td>\n",
       "      <td>28</td>\n",
       "      <td>1</td>\n",
       "      <td>0.00</td>\n",
       "    </tr>\n",
       "    <tr>\n",
       "      <th>9189</th>\n",
       "      <td>Germany</td>\n",
       "      <td>Male</td>\n",
       "      <td>1.00</td>\n",
       "      <td>71830.10</td>\n",
       "      <td>4.70</td>\n",
       "      <td>727</td>\n",
       "      <td>64</td>\n",
       "      <td>1</td>\n",
       "      <td>152581.06</td>\n",
       "    </tr>\n",
       "    <tr>\n",
       "      <th>837</th>\n",
       "      <td>Germany</td>\n",
       "      <td>Male</td>\n",
       "      <td>1.00</td>\n",
       "      <td>192950.60</td>\n",
       "      <td>4.52</td>\n",
       "      <td>573</td>\n",
       "      <td>35</td>\n",
       "      <td>1</td>\n",
       "      <td>127406.50</td>\n",
       "    </tr>\n",
       "    <tr>\n",
       "      <th>1229</th>\n",
       "      <td>France</td>\n",
       "      <td>Male</td>\n",
       "      <td>0.00</td>\n",
       "      <td>121409.06</td>\n",
       "      <td>4.20</td>\n",
       "      <td>759</td>\n",
       "      <td>47</td>\n",
       "      <td>1</td>\n",
       "      <td>105420.18</td>\n",
       "    </tr>\n",
       "    <tr>\n",
       "      <th>7884</th>\n",
       "      <td>France</td>\n",
       "      <td>Female</td>\n",
       "      <td>1.00</td>\n",
       "      <td>170332.67</td>\n",
       "      <td>4.80</td>\n",
       "      <td>480</td>\n",
       "      <td>45</td>\n",
       "      <td>1</td>\n",
       "      <td>0.00</td>\n",
       "    </tr>\n",
       "  </tbody>\n",
       "</table>\n",
       "</div>"
      ],
      "text/plain": [
       "     Geography  Gender  HasCrCard  EstimatedSalary  CustomerLifetime  Score  \\\n",
       "90      France    Male       1.00        100598.98              3.26    633   \n",
       "9189   Germany    Male       1.00         71830.10              4.70    727   \n",
       "837    Germany    Male       1.00        192950.60              4.52    573   \n",
       "1229    France    Male       0.00        121409.06              4.20    759   \n",
       "7884    France  Female       1.00        170332.67              4.80    480   \n",
       "\n",
       "      age  number_of_products   balance  \n",
       "90     28                   1      0.00  \n",
       "9189   64                   1 152581.06  \n",
       "837    35                   1 127406.50  \n",
       "1229   47                   1 105420.18  \n",
       "7884   45                   1      0.00  "
      ]
     },
     "execution_count": 363,
     "metadata": {},
     "output_type": "execute_result"
    }
   ],
   "source": [
    "X_train.head()"
   ]
  },
  {
   "cell_type": "markdown",
   "metadata": {},
   "source": [
    "Create dummies for categorical variables"
   ]
  },
  {
   "cell_type": "code",
   "execution_count": 364,
   "metadata": {},
   "outputs": [],
   "source": [
    "categorical_vars = ['Geography', 'Gender']\n",
    "\n",
    "X_train = pd.get_dummies(X_train, columns = categorical_vars, drop_first=True)\n",
    "X_test = pd.get_dummies(X_test, columns = categorical_vars, drop_first=True)"
   ]
  },
  {
   "cell_type": "markdown",
   "metadata": {},
   "source": [
    "Scaling"
   ]
  },
  {
   "cell_type": "code",
   "execution_count": 365,
   "metadata": {},
   "outputs": [],
   "source": [
    "mm_scaler = MinMaxScaler()\n",
    "\n",
    "X_train['EstimatedSalary_transf'] = mm_scaler.fit_transform(X_train[['EstimatedSalary']])\n",
    "X_test['EstimatedSalary_transf'] = mm_scaler.transform(X_test[['EstimatedSalary']])"
   ]
  },
  {
   "cell_type": "code",
   "execution_count": 367,
   "metadata": {},
   "outputs": [],
   "source": [
    "X_train.drop(columns=['EstimatedSalary'],inplace=True)\n",
    "X_test.drop(columns=['EstimatedSalary'],inplace=True)"
   ]
  },
  {
   "cell_type": "markdown",
   "metadata": {},
   "source": [
    "Save checkpoint"
   ]
  },
  {
   "cell_type": "code",
   "execution_count": 369,
   "metadata": {},
   "outputs": [],
   "source": [
    "X_train_full = X_train.copy()\n",
    "X_test_full = X_test.copy()\n",
    "\n",
    "X_train_full['IsActiveMember'] = y_train\n",
    "X_test_full['IsActiveMember'] = y_test"
   ]
  },
  {
   "cell_type": "code",
   "execution_count": 370,
   "metadata": {},
   "outputs": [],
   "source": [
    "X_train_full.to_csv('../data/train_df.csv', index=False)\n",
    "X_test_full.to_csv('../data/test_df.csv', index=False)"
   ]
  },
  {
   "cell_type": "markdown",
   "metadata": {},
   "source": [
    "### Models"
   ]
  },
  {
   "cell_type": "markdown",
   "metadata": {},
   "source": [
    "Given that the dataset is balanced, we can use Accuracy for our metric"
   ]
  },
  {
   "cell_type": "code",
   "execution_count": 371,
   "metadata": {},
   "outputs": [
    {
     "data": {
      "text/html": [
       "<style>#sk-container-id-1 {color: black;background-color: white;}#sk-container-id-1 pre{padding: 0;}#sk-container-id-1 div.sk-toggleable {background-color: white;}#sk-container-id-1 label.sk-toggleable__label {cursor: pointer;display: block;width: 100%;margin-bottom: 0;padding: 0.3em;box-sizing: border-box;text-align: center;}#sk-container-id-1 label.sk-toggleable__label-arrow:before {content: \"▸\";float: left;margin-right: 0.25em;color: #696969;}#sk-container-id-1 label.sk-toggleable__label-arrow:hover:before {color: black;}#sk-container-id-1 div.sk-estimator:hover label.sk-toggleable__label-arrow:before {color: black;}#sk-container-id-1 div.sk-toggleable__content {max-height: 0;max-width: 0;overflow: hidden;text-align: left;background-color: #f0f8ff;}#sk-container-id-1 div.sk-toggleable__content pre {margin: 0.2em;color: black;border-radius: 0.25em;background-color: #f0f8ff;}#sk-container-id-1 input.sk-toggleable__control:checked~div.sk-toggleable__content {max-height: 200px;max-width: 100%;overflow: auto;}#sk-container-id-1 input.sk-toggleable__control:checked~label.sk-toggleable__label-arrow:before {content: \"▾\";}#sk-container-id-1 div.sk-estimator input.sk-toggleable__control:checked~label.sk-toggleable__label {background-color: #d4ebff;}#sk-container-id-1 div.sk-label input.sk-toggleable__control:checked~label.sk-toggleable__label {background-color: #d4ebff;}#sk-container-id-1 input.sk-hidden--visually {border: 0;clip: rect(1px 1px 1px 1px);clip: rect(1px, 1px, 1px, 1px);height: 1px;margin: -1px;overflow: hidden;padding: 0;position: absolute;width: 1px;}#sk-container-id-1 div.sk-estimator {font-family: monospace;background-color: #f0f8ff;border: 1px dotted black;border-radius: 0.25em;box-sizing: border-box;margin-bottom: 0.5em;}#sk-container-id-1 div.sk-estimator:hover {background-color: #d4ebff;}#sk-container-id-1 div.sk-parallel-item::after {content: \"\";width: 100%;border-bottom: 1px solid gray;flex-grow: 1;}#sk-container-id-1 div.sk-label:hover label.sk-toggleable__label {background-color: #d4ebff;}#sk-container-id-1 div.sk-serial::before {content: \"\";position: absolute;border-left: 1px solid gray;box-sizing: border-box;top: 0;bottom: 0;left: 50%;z-index: 0;}#sk-container-id-1 div.sk-serial {display: flex;flex-direction: column;align-items: center;background-color: white;padding-right: 0.2em;padding-left: 0.2em;position: relative;}#sk-container-id-1 div.sk-item {position: relative;z-index: 1;}#sk-container-id-1 div.sk-parallel {display: flex;align-items: stretch;justify-content: center;background-color: white;position: relative;}#sk-container-id-1 div.sk-item::before, #sk-container-id-1 div.sk-parallel-item::before {content: \"\";position: absolute;border-left: 1px solid gray;box-sizing: border-box;top: 0;bottom: 0;left: 50%;z-index: -1;}#sk-container-id-1 div.sk-parallel-item {display: flex;flex-direction: column;z-index: 1;position: relative;background-color: white;}#sk-container-id-1 div.sk-parallel-item:first-child::after {align-self: flex-end;width: 50%;}#sk-container-id-1 div.sk-parallel-item:last-child::after {align-self: flex-start;width: 50%;}#sk-container-id-1 div.sk-parallel-item:only-child::after {width: 0;}#sk-container-id-1 div.sk-dashed-wrapped {border: 1px dashed gray;margin: 0 0.4em 0.5em 0.4em;box-sizing: border-box;padding-bottom: 0.4em;background-color: white;}#sk-container-id-1 div.sk-label label {font-family: monospace;font-weight: bold;display: inline-block;line-height: 1.2em;}#sk-container-id-1 div.sk-label-container {text-align: center;}#sk-container-id-1 div.sk-container {/* jupyter's `normalize.less` sets `[hidden] { display: none; }` but bootstrap.min.css set `[hidden] { display: none !important; }` so we also need the `!important` here to be able to override the default hidden behavior on the sphinx rendered scikit-learn.org. See: https://github.com/scikit-learn/scikit-learn/issues/21755 */display: inline-block !important;position: relative;}#sk-container-id-1 div.sk-text-repr-fallback {display: none;}</style><div id=\"sk-container-id-1\" class=\"sk-top-container\"><div class=\"sk-text-repr-fallback\"><pre>GridSearchCV(cv=KFold(n_splits=5, random_state=42, shuffle=True),\n",
       "             estimator=RandomForestClassifier(random_state=42), n_jobs=-1,\n",
       "             param_grid={&#x27;criterion&#x27;: [&#x27;gini&#x27;, &#x27;entropy&#x27;],\n",
       "                         &#x27;max_features&#x27;: [&#x27;auto&#x27;, &#x27;sqrt&#x27;, &#x27;log2&#x27;],\n",
       "                         &#x27;n_estimators&#x27;: [5, 15, 25, 35, 45, 55, 65, 75, 85, 95,\n",
       "                                          105, 115, 125, 135, 145, 155, 165,\n",
       "                                          175, 185, 195]},\n",
       "             return_train_score=True, scoring=&#x27;accuracy&#x27;)</pre><b>In a Jupyter environment, please rerun this cell to show the HTML representation or trust the notebook. <br />On GitHub, the HTML representation is unable to render, please try loading this page with nbviewer.org.</b></div><div class=\"sk-container\" hidden><div class=\"sk-item sk-dashed-wrapped\"><div class=\"sk-label-container\"><div class=\"sk-label sk-toggleable\"><input class=\"sk-toggleable__control sk-hidden--visually\" id=\"sk-estimator-id-1\" type=\"checkbox\" ><label for=\"sk-estimator-id-1\" class=\"sk-toggleable__label sk-toggleable__label-arrow\">GridSearchCV</label><div class=\"sk-toggleable__content\"><pre>GridSearchCV(cv=KFold(n_splits=5, random_state=42, shuffle=True),\n",
       "             estimator=RandomForestClassifier(random_state=42), n_jobs=-1,\n",
       "             param_grid={&#x27;criterion&#x27;: [&#x27;gini&#x27;, &#x27;entropy&#x27;],\n",
       "                         &#x27;max_features&#x27;: [&#x27;auto&#x27;, &#x27;sqrt&#x27;, &#x27;log2&#x27;],\n",
       "                         &#x27;n_estimators&#x27;: [5, 15, 25, 35, 45, 55, 65, 75, 85, 95,\n",
       "                                          105, 115, 125, 135, 145, 155, 165,\n",
       "                                          175, 185, 195]},\n",
       "             return_train_score=True, scoring=&#x27;accuracy&#x27;)</pre></div></div></div><div class=\"sk-parallel\"><div class=\"sk-parallel-item\"><div class=\"sk-item\"><div class=\"sk-label-container\"><div class=\"sk-label sk-toggleable\"><input class=\"sk-toggleable__control sk-hidden--visually\" id=\"sk-estimator-id-2\" type=\"checkbox\" ><label for=\"sk-estimator-id-2\" class=\"sk-toggleable__label sk-toggleable__label-arrow\">estimator: RandomForestClassifier</label><div class=\"sk-toggleable__content\"><pre>RandomForestClassifier(random_state=42)</pre></div></div></div><div class=\"sk-serial\"><div class=\"sk-item\"><div class=\"sk-estimator sk-toggleable\"><input class=\"sk-toggleable__control sk-hidden--visually\" id=\"sk-estimator-id-3\" type=\"checkbox\" ><label for=\"sk-estimator-id-3\" class=\"sk-toggleable__label sk-toggleable__label-arrow\">RandomForestClassifier</label><div class=\"sk-toggleable__content\"><pre>RandomForestClassifier(random_state=42)</pre></div></div></div></div></div></div></div></div></div></div>"
      ],
      "text/plain": [
       "GridSearchCV(cv=KFold(n_splits=5, random_state=42, shuffle=True),\n",
       "             estimator=RandomForestClassifier(random_state=42), n_jobs=-1,\n",
       "             param_grid={'criterion': ['gini', 'entropy'],\n",
       "                         'max_features': ['auto', 'sqrt', 'log2'],\n",
       "                         'n_estimators': [5, 15, 25, 35, 45, 55, 65, 75, 85, 95,\n",
       "                                          105, 115, 125, 135, 145, 155, 165,\n",
       "                                          175, 185, 195]},\n",
       "             return_train_score=True, scoring='accuracy')"
      ]
     },
     "execution_count": 371,
     "metadata": {},
     "output_type": "execute_result"
    }
   ],
   "source": [
    "param_grid = {\n",
    "    \"n_estimators\": [x for x in range(5,201,10)],\n",
    "    \"max_features\": [\"auto\",\"sqrt\",\"log2\"],\n",
    "    \"criterion\":[\"gini\",\"entropy\"]\n",
    "}\n",
    "\n",
    "kfold = KFold(n_splits=5,shuffle=True,random_state=seed)\n",
    "\n",
    "grid_search_rf = GridSearchCV(RandomForestClassifier(random_state = seed)\n",
    "                            ,param_grid=param_grid\n",
    "                            ,scoring=\"accuracy\"\n",
    "                            ,cv=kfold\n",
    "                            ,n_jobs=-1\n",
    "                            ,verbose=0\n",
    "                            ,return_train_score=True)\n",
    "\n",
    "grid_search_rf.fit(X_train, y_train)"
   ]
  },
  {
   "cell_type": "code",
   "execution_count": 372,
   "metadata": {},
   "outputs": [
    {
     "name": "stdout",
     "output_type": "stream",
     "text": [
      "Best Random Forest: RandomForestClassifier(criterion='entropy', max_features='auto',\n",
      "                       n_estimators=175, random_state=42)\n",
      "Accuracy: 0.529\n"
     ]
    }
   ],
   "source": [
    "print(f'Best Random Forest: {grid_search_rf.best_estimator_}')\n",
    "print(f'Accuracy: {round(grid_search_rf.best_score_,3)}')"
   ]
  },
  {
   "cell_type": "code",
   "execution_count": 373,
   "metadata": {},
   "outputs": [
    {
     "data": {
      "image/png": "[encoded data removed]",
      "text/plain": [
       "<Figure size 1008x720 with 1 Axes>"
      ]
     },
     "metadata": {},
     "output_type": "display_data"
    }
   ],
   "source": [
    "pd.DataFrame(grid_search_rf.best_estimator_.feature_importances_.tolist(), index=X_train.columns, columns=['Importance']).sort_values('Importance').plot.barh(figsize=(14,10))\n",
    "plt.title('Feature importances para Random Forest')\n",
    "plt.show()"
   ]
  },
  {
   "cell_type": "code",
   "execution_count": 374,
   "metadata": {},
   "outputs": [
    {
     "name": "stdout",
     "output_type": "stream",
     "text": [
      "              precision    recall  f1-score   support\n",
      "\n",
      "         0.0       0.50      0.50      0.50       969\n",
      "         1.0       0.53      0.54      0.53      1030\n",
      "\n",
      "    accuracy                           0.52      1999\n",
      "   macro avg       0.52      0.52      0.52      1999\n",
      "weighted avg       0.52      0.52      0.52      1999\n",
      "\n",
      "0.5172586293146574\n"
     ]
    }
   ],
   "source": [
    "preds = grid_search_rf.predict(X_test)\n",
    "print(classification_report(y_test,preds))\n",
    "print(accuracy_score(y_test,preds))"
   ]
  }
 ],
 "metadata": {
  "kernelspec": {
   "display_name": "base",
   "language": "python",
   "name": "python3"
  },
  "language_info": {
   "codemirror_mode": {
    "name": "ipython",
    "version": 3
   },
   "file_extension": ".py",
   "mimetype": "text/x-python",
   "name": "python",
   "nbconvert_exporter": "python",
   "pygments_lexer": "ipython3",
   "version": "3.8.8"
  }
 },
 "nbformat": 4,
 "nbformat_minor": 2
}
