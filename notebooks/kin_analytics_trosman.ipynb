{
 "cells": [
  {
   "cell_type": "markdown",
   "metadata": {},
   "source": [
    "# Kin Analytics Exercise - Trosman Denis - Churn Prediction"
   ]
  },
  {
   "cell_type": "markdown",
   "metadata": {},
   "source": [
    "# Import libraries"
   ]
  },
  {
   "cell_type": "code",
   "execution_count": 1,
   "metadata": {},
   "outputs": [],
   "source": [
    "import pandas as pd\n",
    "import numpy as np\n",
    "import matplotlib.pyplot as plt\n",
    "import seaborn as sns\n",
    "\n",
    "import warnings\n",
    "warnings.filterwarnings('ignore')\n",
    "\n",
    "# Configs\n",
    "pd.options.display.float_format = '{:.2f}'.format\n",
    "pd.set_option('display.max_colwidth', None)\n",
    "pd.set_option('display.max_columns', None)\n",
    "color_pal = sns.color_palette()\n",
    "plt.style.use('fivethirtyeight')"
   ]
  },
  {
   "cell_type": "markdown",
   "metadata": {},
   "source": [
    "# Read Files"
   ]
  },
  {
   "cell_type": "markdown",
   "metadata": {},
   "source": [
    "### Clients"
   ]
  },
  {
   "cell_type": "code",
   "execution_count": 32,
   "metadata": {},
   "outputs": [
    {
     "data": {
      "text/html": [
       "<div>\n",
       "<style scoped>\n",
       "    .dataframe tbody tr th:only-of-type {\n",
       "        vertical-align: middle;\n",
       "    }\n",
       "\n",
       "    .dataframe tbody tr th {\n",
       "        vertical-align: top;\n",
       "    }\n",
       "\n",
       "    .dataframe thead th {\n",
       "        text-align: right;\n",
       "    }\n",
       "</style>\n",
       "<table border=\"1\" class=\"dataframe\">\n",
       "  <thead>\n",
       "    <tr style=\"text-align: right;\">\n",
       "      <th></th>\n",
       "      <th>CustomerId</th>\n",
       "      <th>Surname</th>\n",
       "      <th>Geography</th>\n",
       "      <th>Gender</th>\n",
       "      <th>HasCrCard</th>\n",
       "      <th>IsActiveMember</th>\n",
       "      <th>EstimatedSalary</th>\n",
       "      <th>application_date</th>\n",
       "      <th>exit_date</th>\n",
       "      <th>birth_date</th>\n",
       "    </tr>\n",
       "  </thead>\n",
       "  <tbody>\n",
       "    <tr>\n",
       "      <th>0</th>\n",
       "      <td>15745584</td>\n",
       "      <td>EIRLS</td>\n",
       "      <td>Germany</td>\n",
       "      <td>Female</td>\n",
       "      <td>0.00</td>\n",
       "      <td>1.00</td>\n",
       "      <td>0.00</td>\n",
       "      <td>2018-12-14</td>\n",
       "      <td>NaT</td>\n",
       "      <td>1997-09-18</td>\n",
       "    </tr>\n",
       "    <tr>\n",
       "      <th>1</th>\n",
       "      <td>14990118</td>\n",
       "      <td>MOLOCK</td>\n",
       "      <td>Italy</td>\n",
       "      <td>Male</td>\n",
       "      <td>1.00</td>\n",
       "      <td>0.00</td>\n",
       "      <td>121219.28</td>\n",
       "      <td>2019-01-08</td>\n",
       "      <td>NaT</td>\n",
       "      <td>1980-08-03</td>\n",
       "    </tr>\n",
       "    <tr>\n",
       "      <th>2</th>\n",
       "      <td>14733224</td>\n",
       "      <td>PAWLUCH</td>\n",
       "      <td>Italy</td>\n",
       "      <td>Female</td>\n",
       "      <td>1.00</td>\n",
       "      <td>1.00</td>\n",
       "      <td>159663.59</td>\n",
       "      <td>2012-08-01</td>\n",
       "      <td>2013-08-09</td>\n",
       "      <td>1977-08-19</td>\n",
       "    </tr>\n",
       "    <tr>\n",
       "      <th>3</th>\n",
       "      <td>14648573</td>\n",
       "      <td>NALLS</td>\n",
       "      <td>Spain</td>\n",
       "      <td>Male</td>\n",
       "      <td>1.00</td>\n",
       "      <td>0.00</td>\n",
       "      <td>140827.98</td>\n",
       "      <td>2019-06-19</td>\n",
       "      <td>NaT</td>\n",
       "      <td>1979-02-27</td>\n",
       "    </tr>\n",
       "    <tr>\n",
       "      <th>4</th>\n",
       "      <td>15365443</td>\n",
       "      <td>EBERLE</td>\n",
       "      <td>Italy</td>\n",
       "      <td>Male</td>\n",
       "      <td>1.00</td>\n",
       "      <td>0.00</td>\n",
       "      <td>35521.28</td>\n",
       "      <td>2014-01-26</td>\n",
       "      <td>2015-12-04</td>\n",
       "      <td>1972-12-21</td>\n",
       "    </tr>\n",
       "  </tbody>\n",
       "</table>\n",
       "</div>"
      ],
      "text/plain": [
       "   CustomerId  Surname Geography  Gender  HasCrCard  IsActiveMember  \\\n",
       "0    15745584    EIRLS   Germany  Female       0.00            1.00   \n",
       "1    14990118   MOLOCK     Italy    Male       1.00            0.00   \n",
       "2    14733224  PAWLUCH     Italy  Female       1.00            1.00   \n",
       "3    14648573    NALLS     Spain    Male       1.00            0.00   \n",
       "4    15365443   EBERLE     Italy    Male       1.00            0.00   \n",
       "\n",
       "   EstimatedSalary application_date  exit_date birth_date  \n",
       "0             0.00       2018-12-14        NaT 1997-09-18  \n",
       "1        121219.28       2019-01-08        NaT 1980-08-03  \n",
       "2        159663.59       2012-08-01 2013-08-09 1977-08-19  \n",
       "3        140827.98       2019-06-19        NaT 1979-02-27  \n",
       "4         35521.28       2014-01-26 2015-12-04 1972-12-21  "
      ]
     },
     "execution_count": 32,
     "metadata": {},
     "output_type": "execute_result"
    }
   ],
   "source": [
    "date_cols_clients = ['application_date','birth_date','exit_date']\n",
    "df_clients = pd.read_csv('../data/clients_table.txt', parse_dates=date_cols_clients)\n",
    "df_clients.head()"
   ]
  },
  {
   "cell_type": "code",
   "execution_count": 33,
   "metadata": {},
   "outputs": [
    {
     "name": "stdout",
     "output_type": "stream",
     "text": [
      "Number of rows: 1545000, Number of columns:10\n",
      "\n",
      " Duplicated amount: 45000\n",
      "\n",
      "------------------------------Number of null values------------------------------\n",
      "CustomerId               0\n",
      "Surname              74916\n",
      "Geography            58459\n",
      "Gender               74886\n",
      "HasCrCard            74886\n",
      "IsActiveMember       74886\n",
      "EstimatedSalary      74886\n",
      "application_date         0\n",
      "exit_date           490414\n",
      "birth_date           74886\n",
      "dtype: int64\n",
      "------------------------------Type of variables------------------------------\n"
     ]
    },
    {
     "data": {
      "text/plain": [
       "CustomerId                   int64\n",
       "Surname                     object\n",
       "Geography                   object\n",
       "Gender                      object\n",
       "HasCrCard                  float64\n",
       "IsActiveMember             float64\n",
       "EstimatedSalary            float64\n",
       "application_date    datetime64[ns]\n",
       "exit_date           datetime64[ns]\n",
       "birth_date          datetime64[ns]\n",
       "dtype: object"
      ]
     },
     "execution_count": 33,
     "metadata": {},
     "output_type": "execute_result"
    }
   ],
   "source": [
    "print(f'Number of rows: {df_clients.shape[0]}, Number of columns:{df_clients.shape[1]}')\n",
    "print(f'\\n Duplicated amount: {df_clients.duplicated().sum()}\\n')\n",
    "print('-'*30 + 'Number of null values' +'-'*30)\n",
    "print(df_clients.isna().sum())\n",
    "print('-'*30 + 'Type of variables' +'-'*30)\n",
    "df_clients.dtypes"
   ]
  },
  {
   "cell_type": "markdown",
   "metadata": {},
   "source": [
    "### Credit score"
   ]
  },
  {
   "cell_type": "code",
   "execution_count": 34,
   "metadata": {},
   "outputs": [],
   "source": [
    "df_credit_score = pd.read_csv('../data/credit_score_table.txt', parse_dates=['Date'])"
   ]
  },
  {
   "cell_type": "code",
   "execution_count": 35,
   "metadata": {},
   "outputs": [
    {
     "data": {
      "text/html": [
       "<div>\n",
       "<style scoped>\n",
       "    .dataframe tbody tr th:only-of-type {\n",
       "        vertical-align: middle;\n",
       "    }\n",
       "\n",
       "    .dataframe tbody tr th {\n",
       "        vertical-align: top;\n",
       "    }\n",
       "\n",
       "    .dataframe thead th {\n",
       "        text-align: right;\n",
       "    }\n",
       "</style>\n",
       "<table border=\"1\" class=\"dataframe\">\n",
       "  <thead>\n",
       "    <tr style=\"text-align: right;\">\n",
       "      <th></th>\n",
       "      <th>CustomerId</th>\n",
       "      <th>Date</th>\n",
       "      <th>Score</th>\n",
       "    </tr>\n",
       "  </thead>\n",
       "  <tbody>\n",
       "    <tr>\n",
       "      <th>0</th>\n",
       "      <td>14759722</td>\n",
       "      <td>2018-07-01</td>\n",
       "      <td>717</td>\n",
       "    </tr>\n",
       "    <tr>\n",
       "      <th>1</th>\n",
       "      <td>15907276</td>\n",
       "      <td>2011-09-01</td>\n",
       "      <td>562</td>\n",
       "    </tr>\n",
       "    <tr>\n",
       "      <th>2</th>\n",
       "      <td>15346641</td>\n",
       "      <td>2013-01-01</td>\n",
       "      <td>604</td>\n",
       "    </tr>\n",
       "    <tr>\n",
       "      <th>3</th>\n",
       "      <td>15595126</td>\n",
       "      <td>2018-08-01</td>\n",
       "      <td>469</td>\n",
       "    </tr>\n",
       "    <tr>\n",
       "      <th>4</th>\n",
       "      <td>15227788</td>\n",
       "      <td>2013-09-01</td>\n",
       "      <td>655</td>\n",
       "    </tr>\n",
       "  </tbody>\n",
       "</table>\n",
       "</div>"
      ],
      "text/plain": [
       "   CustomerId       Date  Score\n",
       "0    14759722 2018-07-01    717\n",
       "1    15907276 2011-09-01    562\n",
       "2    15346641 2013-01-01    604\n",
       "3    15595126 2018-08-01    469\n",
       "4    15227788 2013-09-01    655"
      ]
     },
     "execution_count": 35,
     "metadata": {},
     "output_type": "execute_result"
    }
   ],
   "source": [
    "df_credit_score.head()"
   ]
  },
  {
   "cell_type": "code",
   "execution_count": 36,
   "metadata": {},
   "outputs": [
    {
     "name": "stdout",
     "output_type": "stream",
     "text": [
      "Number of rows: 19500000, Number of columns:3\n",
      "\n",
      " Duplicated amount: 0\n",
      "\n",
      "------------------------------Number of null values------------------------------\n",
      "CustomerId    0\n",
      "Date          0\n",
      "Score         0\n",
      "dtype: int64\n",
      "------------------------------Type of variables------------------------------\n"
     ]
    },
    {
     "data": {
      "text/plain": [
       "CustomerId             int64\n",
       "Date          datetime64[ns]\n",
       "Score                  int64\n",
       "dtype: object"
      ]
     },
     "execution_count": 36,
     "metadata": {},
     "output_type": "execute_result"
    }
   ],
   "source": [
    "print(f'Number of rows: {df_credit_score.shape[0]}, Number of columns:{df_credit_score.shape[1]}')\n",
    "print(f'\\n Duplicated amount: {df_credit_score.duplicated().sum()}\\n')\n",
    "print('-'*30 + 'Number of null values' +'-'*30)\n",
    "print(df_credit_score.isna().sum())\n",
    "print('-'*30 + 'Type of variables' +'-'*30)\n",
    "df_credit_score.dtypes"
   ]
  },
  {
   "cell_type": "markdown",
   "metadata": {},
   "source": [
    "### Products"
   ]
  },
  {
   "cell_type": "code",
   "execution_count": 14,
   "metadata": {},
   "outputs": [
    {
     "data": {
      "text/html": [
       "<div>\n",
       "<style scoped>\n",
       "    .dataframe tbody tr th:only-of-type {\n",
       "        vertical-align: middle;\n",
       "    }\n",
       "\n",
       "    .dataframe tbody tr th {\n",
       "        vertical-align: top;\n",
       "    }\n",
       "\n",
       "    .dataframe thead th {\n",
       "        text-align: right;\n",
       "    }\n",
       "</style>\n",
       "<table border=\"1\" class=\"dataframe\">\n",
       "  <thead>\n",
       "    <tr style=\"text-align: right;\">\n",
       "      <th></th>\n",
       "      <th>ContractId</th>\n",
       "      <th>CustomerId</th>\n",
       "      <th>Products</th>\n",
       "    </tr>\n",
       "  </thead>\n",
       "  <tbody>\n",
       "    <tr>\n",
       "      <th>0</th>\n",
       "      <td>5Xo9sCduOGo5EhBYhzKrSlLIA</td>\n",
       "      <td>14993808</td>\n",
       "      <td>Product B</td>\n",
       "    </tr>\n",
       "    <tr>\n",
       "      <th>1</th>\n",
       "      <td>3nQbqbnpTeSkYIJWT1UDe1GZ1</td>\n",
       "      <td>15560417</td>\n",
       "      <td>Product B</td>\n",
       "    </tr>\n",
       "    <tr>\n",
       "      <th>2</th>\n",
       "      <td>PD9KwDPOwyJWO6LJKPGBbkrCz</td>\n",
       "      <td>15406428</td>\n",
       "      <td>Product C</td>\n",
       "    </tr>\n",
       "    <tr>\n",
       "      <th>3</th>\n",
       "      <td>IhS7pz8lu07LCZSqYNlL0fuLP</td>\n",
       "      <td>15604313</td>\n",
       "      <td>Product B</td>\n",
       "    </tr>\n",
       "    <tr>\n",
       "      <th>4</th>\n",
       "      <td>ftUey4oVmkZj8RaBVFH6SNzVM</td>\n",
       "      <td>14952409</td>\n",
       "      <td>Product C</td>\n",
       "    </tr>\n",
       "  </tbody>\n",
       "</table>\n",
       "</div>"
      ],
      "text/plain": [
       "                  ContractId  CustomerId   Products\n",
       "0  5Xo9sCduOGo5EhBYhzKrSlLIA    14993808  Product B\n",
       "1  3nQbqbnpTeSkYIJWT1UDe1GZ1    15560417  Product B\n",
       "2  PD9KwDPOwyJWO6LJKPGBbkrCz    15406428  Product C\n",
       "3  IhS7pz8lu07LCZSqYNlL0fuLP    15604313  Product B\n",
       "4  ftUey4oVmkZj8RaBVFH6SNzVM    14952409  Product C"
      ]
     },
     "execution_count": 14,
     "metadata": {},
     "output_type": "execute_result"
    }
   ],
   "source": [
    "df_products = pd.read_csv('../data/products_table.txt')\n",
    "df_products.head()"
   ]
  },
  {
   "cell_type": "code",
   "execution_count": 27,
   "metadata": {},
   "outputs": [
    {
     "name": "stdout",
     "output_type": "stream",
     "text": [
      "Number of rows: 3739192, Number of columns:3\n",
      "\n",
      " Duplicated amount: 0\n",
      "\n",
      "------------------------------Number of null values------------------------------\n",
      "ContractId    0\n",
      "CustomerId    0\n",
      "Products      0\n",
      "dtype: int64\n",
      "------------------------------Type of variables------------------------------\n"
     ]
    },
    {
     "data": {
      "text/plain": [
       "ContractId    object\n",
       "CustomerId     int64\n",
       "Products      object\n",
       "dtype: object"
      ]
     },
     "execution_count": 27,
     "metadata": {},
     "output_type": "execute_result"
    }
   ],
   "source": [
    "print(f'Number of rows: {df_products.shape[0]}, Number of columns:{df_products.shape[1]}')\n",
    "print(f'\\n Duplicated amount: {df_products.duplicated().sum()}\\n')\n",
    "print('-'*30 + 'Number of null values' +'-'*30)\n",
    "print(df_products.isna().sum())\n",
    "print('-'*30 + 'Type of variables' +'-'*30)\n",
    "df_products.dtypes"
   ]
  },
  {
   "cell_type": "markdown",
   "metadata": {},
   "source": [
    "### Transactions"
   ]
  },
  {
   "cell_type": "code",
   "execution_count": 15,
   "metadata": {},
   "outputs": [
    {
     "data": {
      "text/html": [
       "<div>\n",
       "<style scoped>\n",
       "    .dataframe tbody tr th:only-of-type {\n",
       "        vertical-align: middle;\n",
       "    }\n",
       "\n",
       "    .dataframe tbody tr th {\n",
       "        vertical-align: top;\n",
       "    }\n",
       "\n",
       "    .dataframe thead th {\n",
       "        text-align: right;\n",
       "    }\n",
       "</style>\n",
       "<table border=\"1\" class=\"dataframe\">\n",
       "  <thead>\n",
       "    <tr style=\"text-align: right;\">\n",
       "      <th></th>\n",
       "      <th>CustomerId</th>\n",
       "      <th>Transaction</th>\n",
       "      <th>Value</th>\n",
       "    </tr>\n",
       "  </thead>\n",
       "  <tbody>\n",
       "    <tr>\n",
       "      <th>0</th>\n",
       "      <td>15653320</td>\n",
       "      <td>trans_4</td>\n",
       "      <td>-294.03</td>\n",
       "    </tr>\n",
       "    <tr>\n",
       "      <th>1</th>\n",
       "      <td>14955663</td>\n",
       "      <td>trans_3</td>\n",
       "      <td>1297.97</td>\n",
       "    </tr>\n",
       "    <tr>\n",
       "      <th>2</th>\n",
       "      <td>15218505</td>\n",
       "      <td>trans_4</td>\n",
       "      <td>191.28</td>\n",
       "    </tr>\n",
       "    <tr>\n",
       "      <th>3</th>\n",
       "      <td>15391934</td>\n",
       "      <td>trans_3</td>\n",
       "      <td>2299.07</td>\n",
       "    </tr>\n",
       "    <tr>\n",
       "      <th>4</th>\n",
       "      <td>14847291</td>\n",
       "      <td>trans_3</td>\n",
       "      <td>1612.10</td>\n",
       "    </tr>\n",
       "  </tbody>\n",
       "</table>\n",
       "</div>"
      ],
      "text/plain": [
       "   CustomerId Transaction   Value\n",
       "0    15653320     trans_4 -294.03\n",
       "1    14955663     trans_3 1297.97\n",
       "2    15218505     trans_4  191.28\n",
       "3    15391934     trans_3 2299.07\n",
       "4    14847291     trans_3 1612.10"
      ]
     },
     "execution_count": 15,
     "metadata": {},
     "output_type": "execute_result"
    }
   ],
   "source": [
    "df_transactions = pd.read_csv('../data/transactions_table.txt')\n",
    "df_transactions.head()"
   ]
  },
  {
   "cell_type": "code",
   "execution_count": 28,
   "metadata": {},
   "outputs": [
    {
     "name": "stdout",
     "output_type": "stream",
     "text": [
      "Number of rows: 7500000, Number of columns:3\n",
      "\n",
      " Duplicated amount: 0\n",
      "\n",
      "------------------------------Number of null values------------------------------\n",
      "CustomerId     0\n",
      "Transaction    0\n",
      "Value          0\n",
      "dtype: int64\n",
      "------------------------------Type of variables------------------------------\n"
     ]
    },
    {
     "data": {
      "text/plain": [
       "CustomerId       int64\n",
       "Transaction     object\n",
       "Value          float64\n",
       "dtype: object"
      ]
     },
     "execution_count": 28,
     "metadata": {},
     "output_type": "execute_result"
    }
   ],
   "source": [
    "print(f'Number of rows: {df_transactions.shape[0]}, Number of columns:{df_transactions.shape[1]}')\n",
    "print(f'\\n Duplicated amount: {df_transactions.duplicated().sum()}\\n')\n",
    "print('-'*30 + 'Number of null values' +'-'*30)\n",
    "print(df_transactions.isna().sum())\n",
    "print('-'*30 + 'Type of variables' +'-'*30)\n",
    "df_transactions.dtypes"
   ]
  },
  {
   "cell_type": "markdown",
   "metadata": {},
   "source": [
    "# Data cleansing"
   ]
  },
  {
   "cell_type": "markdown",
   "metadata": {},
   "source": [
    "### Clients database filtering"
   ]
  },
  {
   "cell_type": "code",
   "execution_count": 41,
   "metadata": {},
   "outputs": [
    {
     "data": {
      "text/html": [
       "<div>\n",
       "<style scoped>\n",
       "    .dataframe tbody tr th:only-of-type {\n",
       "        vertical-align: middle;\n",
       "    }\n",
       "\n",
       "    .dataframe tbody tr th {\n",
       "        vertical-align: top;\n",
       "    }\n",
       "\n",
       "    .dataframe thead th {\n",
       "        text-align: right;\n",
       "    }\n",
       "</style>\n",
       "<table border=\"1\" class=\"dataframe\">\n",
       "  <thead>\n",
       "    <tr style=\"text-align: right;\">\n",
       "      <th></th>\n",
       "      <th>CustomerId</th>\n",
       "      <th>Surname</th>\n",
       "      <th>Geography</th>\n",
       "      <th>Gender</th>\n",
       "      <th>HasCrCard</th>\n",
       "      <th>IsActiveMember</th>\n",
       "      <th>EstimatedSalary</th>\n",
       "      <th>application_date</th>\n",
       "      <th>exit_date</th>\n",
       "      <th>birth_date</th>\n",
       "    </tr>\n",
       "  </thead>\n",
       "  <tbody>\n",
       "    <tr>\n",
       "      <th>0</th>\n",
       "      <td>15745584</td>\n",
       "      <td>EIRLS</td>\n",
       "      <td>Germany</td>\n",
       "      <td>Female</td>\n",
       "      <td>0.00</td>\n",
       "      <td>1.00</td>\n",
       "      <td>0.00</td>\n",
       "      <td>2018-12-14</td>\n",
       "      <td>NaT</td>\n",
       "      <td>1997-09-18</td>\n",
       "    </tr>\n",
       "    <tr>\n",
       "      <th>1</th>\n",
       "      <td>14990118</td>\n",
       "      <td>MOLOCK</td>\n",
       "      <td>Italy</td>\n",
       "      <td>Male</td>\n",
       "      <td>1.00</td>\n",
       "      <td>0.00</td>\n",
       "      <td>121219.28</td>\n",
       "      <td>2019-01-08</td>\n",
       "      <td>NaT</td>\n",
       "      <td>1980-08-03</td>\n",
       "    </tr>\n",
       "    <tr>\n",
       "      <th>2</th>\n",
       "      <td>14733224</td>\n",
       "      <td>PAWLUCH</td>\n",
       "      <td>Italy</td>\n",
       "      <td>Female</td>\n",
       "      <td>1.00</td>\n",
       "      <td>1.00</td>\n",
       "      <td>159663.59</td>\n",
       "      <td>2012-08-01</td>\n",
       "      <td>2013-08-09</td>\n",
       "      <td>1977-08-19</td>\n",
       "    </tr>\n",
       "    <tr>\n",
       "      <th>3</th>\n",
       "      <td>14648573</td>\n",
       "      <td>NALLS</td>\n",
       "      <td>Spain</td>\n",
       "      <td>Male</td>\n",
       "      <td>1.00</td>\n",
       "      <td>0.00</td>\n",
       "      <td>140827.98</td>\n",
       "      <td>2019-06-19</td>\n",
       "      <td>NaT</td>\n",
       "      <td>1979-02-27</td>\n",
       "    </tr>\n",
       "    <tr>\n",
       "      <th>4</th>\n",
       "      <td>15365443</td>\n",
       "      <td>EBERLE</td>\n",
       "      <td>Italy</td>\n",
       "      <td>Male</td>\n",
       "      <td>1.00</td>\n",
       "      <td>0.00</td>\n",
       "      <td>35521.28</td>\n",
       "      <td>2014-01-26</td>\n",
       "      <td>2015-12-04</td>\n",
       "      <td>1972-12-21</td>\n",
       "    </tr>\n",
       "  </tbody>\n",
       "</table>\n",
       "</div>"
      ],
      "text/plain": [
       "   CustomerId  Surname Geography  Gender  HasCrCard  IsActiveMember  \\\n",
       "0    15745584    EIRLS   Germany  Female       0.00            1.00   \n",
       "1    14990118   MOLOCK     Italy    Male       1.00            0.00   \n",
       "2    14733224  PAWLUCH     Italy  Female       1.00            1.00   \n",
       "3    14648573    NALLS     Spain    Male       1.00            0.00   \n",
       "4    15365443   EBERLE     Italy    Male       1.00            0.00   \n",
       "\n",
       "   EstimatedSalary application_date  exit_date birth_date  \n",
       "0             0.00       2018-12-14        NaT 1997-09-18  \n",
       "1        121219.28       2019-01-08        NaT 1980-08-03  \n",
       "2        159663.59       2012-08-01 2013-08-09 1977-08-19  \n",
       "3        140827.98       2019-06-19        NaT 1979-02-27  \n",
       "4         35521.28       2014-01-26 2015-12-04 1972-12-21  "
      ]
     },
     "execution_count": 41,
     "metadata": {},
     "output_type": "execute_result"
    }
   ],
   "source": [
    "df_clients.head()"
   ]
  },
  {
   "cell_type": "code",
   "execution_count": 42,
   "metadata": {},
   "outputs": [
    {
     "data": {
      "text/plain": [
       "count                          1545000\n",
       "mean     2015-09-01 16:09:33.483495680\n",
       "min                2012-01-01 00:00:00\n",
       "25%                2013-04-04 00:00:00\n",
       "50%                2014-07-08 00:00:00\n",
       "75%                2018-08-27 00:00:00\n",
       "max                2019-11-30 00:00:00\n",
       "Name: application_date, dtype: object"
      ]
     },
     "execution_count": 42,
     "metadata": {},
     "output_type": "execute_result"
    }
   ],
   "source": [
    "df_clients.application_date.describe()"
   ]
  },
  {
   "cell_type": "markdown",
   "metadata": {},
   "source": [
    "#### Get contracts from 2015 onwards"
   ]
  },
  {
   "cell_type": "code",
   "execution_count": 47,
   "metadata": {},
   "outputs": [],
   "source": [
    "df_clients_f = df_clients[df_clients.application_date > '2015-01-01'].copy()"
   ]
  },
  {
   "cell_type": "markdown",
   "metadata": {},
   "source": [
    "Check minimum date is 2015 onwards"
   ]
  },
  {
   "cell_type": "code",
   "execution_count": 49,
   "metadata": {},
   "outputs": [
    {
     "data": {
      "text/plain": [
       "Timestamp('2015-01-02 00:00:00')"
      ]
     },
     "execution_count": 49,
     "metadata": {},
     "output_type": "execute_result"
    }
   ],
   "source": [
    "df_clients_f.application_date.min()"
   ]
  },
  {
   "cell_type": "markdown",
   "metadata": {},
   "source": [
    "This filter leaves us with 623,237 cases"
   ]
  },
  {
   "cell_type": "code",
   "execution_count": 54,
   "metadata": {},
   "outputs": [
    {
     "data": {
      "text/plain": [
       "(623237, 10)"
      ]
     },
     "execution_count": 54,
     "metadata": {},
     "output_type": "execute_result"
    }
   ],
   "source": [
    "df_clients_f.shape"
   ]
  },
  {
   "cell_type": "markdown",
   "metadata": {},
   "source": [
    "#### Clean contracts with more than 75% info missing"
   ]
  },
  {
   "cell_type": "markdown",
   "metadata": {},
   "source": [
    "Create temporary column to filter cases"
   ]
  },
  {
   "cell_type": "code",
   "execution_count": 75,
   "metadata": {},
   "outputs": [],
   "source": [
    "df_clients_f['pct_missing'] = (df_clients_f.isna().sum(axis=1)/(df_clients.shape[1]))"
   ]
  },
  {
   "cell_type": "code",
   "execution_count": 79,
   "metadata": {},
   "outputs": [],
   "source": [
    "df_clients_f = df_clients_f[df_clients_f['pct_missing']<=0.75]"
   ]
  },
  {
   "cell_type": "markdown",
   "metadata": {},
   "source": [
    "This filter reduces the number of cases to 604,586"
   ]
  },
  {
   "cell_type": "code",
   "execution_count": 82,
   "metadata": {},
   "outputs": [
    {
     "data": {
      "text/plain": [
       "(604586, 10)"
      ]
     },
     "execution_count": 82,
     "metadata": {},
     "output_type": "execute_result"
    }
   ],
   "source": [
    "df_clients_f.shape"
   ]
  },
  {
   "cell_type": "markdown",
   "metadata": {},
   "source": [
    "#### Delete duplicates by contract"
   ]
  },
  {
   "cell_type": "markdown",
   "metadata": {},
   "source": [
    "There are 17,621 repeated clients, after the previous filters"
   ]
  },
  {
   "cell_type": "code",
   "execution_count": 93,
   "metadata": {},
   "outputs": [
    {
     "data": {
      "text/plain": [
       "17621"
      ]
     },
     "execution_count": 93,
     "metadata": {},
     "output_type": "execute_result"
    }
   ],
   "source": [
    "df_clients_f.duplicated(subset=['CustomerId']).sum()"
   ]
  },
  {
   "cell_type": "code",
   "execution_count": 98,
   "metadata": {},
   "outputs": [],
   "source": [
    "df_clients_f.drop_duplicates(subset=['CustomerId'],inplace=True)"
   ]
  },
  {
   "cell_type": "markdown",
   "metadata": {},
   "source": [
    "That leaves us with 586,965 cases"
   ]
  },
  {
   "cell_type": "code",
   "execution_count": 99,
   "metadata": {},
   "outputs": [
    {
     "data": {
      "text/plain": [
       "(586965, 10)"
      ]
     },
     "execution_count": 99,
     "metadata": {},
     "output_type": "execute_result"
    }
   ],
   "source": [
    "df_clients_f.shape"
   ]
  },
  {
   "cell_type": "markdown",
   "metadata": {},
   "source": [
    "#### Get clients with two years of info or more\n",
    "\n",
    "- Database has a delivery date of 30/11/2019, so that date will be taken for calculation\n",
    "- Churns will be defined as those with an exit date. All cases without exit dates will be considered as not churns"
   ]
  },
  {
   "cell_type": "code",
   "execution_count": 140,
   "metadata": {},
   "outputs": [
    {
     "data": {
      "text/html": [
       "<div>\n",
       "<style scoped>\n",
       "    .dataframe tbody tr th:only-of-type {\n",
       "        vertical-align: middle;\n",
       "    }\n",
       "\n",
       "    .dataframe tbody tr th {\n",
       "        vertical-align: top;\n",
       "    }\n",
       "\n",
       "    .dataframe thead th {\n",
       "        text-align: right;\n",
       "    }\n",
       "</style>\n",
       "<table border=\"1\" class=\"dataframe\">\n",
       "  <thead>\n",
       "    <tr style=\"text-align: right;\">\n",
       "      <th></th>\n",
       "      <th>CustomerId</th>\n",
       "      <th>Surname</th>\n",
       "      <th>Geography</th>\n",
       "      <th>Gender</th>\n",
       "      <th>HasCrCard</th>\n",
       "      <th>IsActiveMember</th>\n",
       "      <th>EstimatedSalary</th>\n",
       "      <th>application_date</th>\n",
       "      <th>exit_date</th>\n",
       "      <th>birth_date</th>\n",
       "    </tr>\n",
       "  </thead>\n",
       "  <tbody>\n",
       "    <tr>\n",
       "      <th>0</th>\n",
       "      <td>15745584</td>\n",
       "      <td>EIRLS</td>\n",
       "      <td>Germany</td>\n",
       "      <td>Female</td>\n",
       "      <td>0.00</td>\n",
       "      <td>1.00</td>\n",
       "      <td>0.00</td>\n",
       "      <td>2018-12-14</td>\n",
       "      <td>NaT</td>\n",
       "      <td>1997-09-18</td>\n",
       "    </tr>\n",
       "    <tr>\n",
       "      <th>1</th>\n",
       "      <td>14990118</td>\n",
       "      <td>MOLOCK</td>\n",
       "      <td>Italy</td>\n",
       "      <td>Male</td>\n",
       "      <td>1.00</td>\n",
       "      <td>0.00</td>\n",
       "      <td>121219.28</td>\n",
       "      <td>2019-01-08</td>\n",
       "      <td>NaT</td>\n",
       "      <td>1980-08-03</td>\n",
       "    </tr>\n",
       "    <tr>\n",
       "      <th>3</th>\n",
       "      <td>14648573</td>\n",
       "      <td>NALLS</td>\n",
       "      <td>Spain</td>\n",
       "      <td>Male</td>\n",
       "      <td>1.00</td>\n",
       "      <td>0.00</td>\n",
       "      <td>140827.98</td>\n",
       "      <td>2019-06-19</td>\n",
       "      <td>NaT</td>\n",
       "      <td>1979-02-27</td>\n",
       "    </tr>\n",
       "    <tr>\n",
       "      <th>5</th>\n",
       "      <td>15638124</td>\n",
       "      <td>BRASHERS</td>\n",
       "      <td>Italy</td>\n",
       "      <td>Female</td>\n",
       "      <td>0.00</td>\n",
       "      <td>0.00</td>\n",
       "      <td>170661.45</td>\n",
       "      <td>2018-02-23</td>\n",
       "      <td>NaT</td>\n",
       "      <td>1983-01-13</td>\n",
       "    </tr>\n",
       "    <tr>\n",
       "      <th>7</th>\n",
       "      <td>14523468</td>\n",
       "      <td>LASKOSKI</td>\n",
       "      <td>Spain</td>\n",
       "      <td>Female</td>\n",
       "      <td>1.00</td>\n",
       "      <td>0.00</td>\n",
       "      <td>158161.23</td>\n",
       "      <td>2017-12-28</td>\n",
       "      <td>2018-11-19</td>\n",
       "      <td>1972-10-30</td>\n",
       "    </tr>\n",
       "  </tbody>\n",
       "</table>\n",
       "</div>"
      ],
      "text/plain": [
       "   CustomerId   Surname Geography  Gender  HasCrCard  IsActiveMember  \\\n",
       "0    15745584     EIRLS   Germany  Female       0.00            1.00   \n",
       "1    14990118    MOLOCK     Italy    Male       1.00            0.00   \n",
       "3    14648573     NALLS     Spain    Male       1.00            0.00   \n",
       "5    15638124  BRASHERS     Italy  Female       0.00            0.00   \n",
       "7    14523468  LASKOSKI     Spain  Female       1.00            0.00   \n",
       "\n",
       "   EstimatedSalary application_date  exit_date birth_date  \n",
       "0             0.00       2018-12-14        NaT 1997-09-18  \n",
       "1        121219.28       2019-01-08        NaT 1980-08-03  \n",
       "3        140827.98       2019-06-19        NaT 1979-02-27  \n",
       "5        170661.45       2018-02-23        NaT 1983-01-13  \n",
       "7        158161.23       2017-12-28 2018-11-19 1972-10-30  "
      ]
     },
     "execution_count": 140,
     "metadata": {},
     "output_type": "execute_result"
    }
   ],
   "source": [
    "df_clients_f.head()"
   ]
  },
  {
   "cell_type": "code",
   "execution_count": 141,
   "metadata": {},
   "outputs": [
    {
     "data": {
      "text/plain": [
       "0         0.96\n",
       "1         0.89\n",
       "3         0.45\n",
       "5         1.77\n",
       "7         1.92\n",
       "          ... \n",
       "1544991   0.82\n",
       "1544993   1.07\n",
       "1544995   0.26\n",
       "1544996   1.97\n",
       "1544999   0.33\n",
       "Name: application_date, Length: 586965, dtype: float64"
      ]
     },
     "execution_count": 141,
     "metadata": {},
     "output_type": "execute_result"
    }
   ],
   "source": [
    "(pd.to_datetime('2019/11/30') - df_clients_f.application_date).dt.days / 365"
   ]
  },
  {
   "cell_type": "code",
   "execution_count": 142,
   "metadata": {},
   "outputs": [],
   "source": [
    "df_clients_f['CustomerLifetime'] = (pd.to_datetime('2019/11/30') - df_clients_f.application_date).dt.days / 365"
   ]
  },
  {
   "cell_type": "code",
   "execution_count": 147,
   "metadata": {},
   "outputs": [
    {
     "data": {
      "text/plain": [
       "application_date\n",
       "2018    289315\n",
       "2019    262955\n",
       "2017     27834\n",
       "2016      3438\n",
       "2015      3423\n",
       "Name: count, dtype: int64"
      ]
     },
     "execution_count": 147,
     "metadata": {},
     "output_type": "execute_result"
    }
   ],
   "source": [
    "df_clients_f.application_date.dt.year.value_counts()"
   ]
  },
  {
   "cell_type": "code",
   "execution_count": 149,
   "metadata": {},
   "outputs": [
    {
     "data": {
      "text/plain": [
       "2817"
      ]
     },
     "execution_count": 149,
     "metadata": {},
     "output_type": "execute_result"
    }
   ],
   "source": [
    "df_clients_f[df_clients_f['CustomerLifetime']>=2].exit_date.isna().sum()"
   ]
  },
  {
   "cell_type": "code",
   "execution_count": 128,
   "metadata": {},
   "outputs": [],
   "source": [
    "two_years_after_application = df_clients_f['application_date'] + pd.DateOffset(years=2)"
   ]
  },
  {
   "cell_type": "code",
   "execution_count": 139,
   "metadata": {},
   "outputs": [
    {
     "data": {
      "text/plain": [
       "0          0\n",
       "1          0\n",
       "3          0\n",
       "5          0\n",
       "7          0\n",
       "          ..\n",
       "1544991    0\n",
       "1544993    0\n",
       "1544995    0\n",
       "1544996    0\n",
       "1544999    0\n",
       "Name: application_date, Length: 586965, dtype: int32"
      ]
     },
     "execution_count": 139,
     "metadata": {},
     "output_type": "execute_result"
    }
   ],
   "source": [
    "(df_clients_f['application_date'] > two_years_after_application).astype(int)"
   ]
  },
  {
   "cell_type": "code",
   "execution_count": 133,
   "metadata": {},
   "outputs": [],
   "source": [
    "df_clients_f['churn'] = ((df_clients_f['exit_date'] <= two_years_after_application) | (df_clients_f['application_date'] > two_years_after_application)).astype(int)"
   ]
  },
  {
   "cell_type": "code",
   "execution_count": 134,
   "metadata": {},
   "outputs": [
    {
     "data": {
      "text/plain": [
       "count   586965.00\n",
       "mean         0.21\n",
       "std          0.41\n",
       "min          0.00\n",
       "25%          0.00\n",
       "50%          0.00\n",
       "75%          0.00\n",
       "max          1.00\n",
       "Name: churn, dtype: float64"
      ]
     },
     "execution_count": 134,
     "metadata": {},
     "output_type": "execute_result"
    }
   ],
   "source": [
    "df_clients_f.churn.describe()"
   ]
  },
  {
   "cell_type": "code",
   "execution_count": 127,
   "metadata": {},
   "outputs": [
    {
     "data": {
      "text/html": [
       "<div>\n",
       "<style scoped>\n",
       "    .dataframe tbody tr th:only-of-type {\n",
       "        vertical-align: middle;\n",
       "    }\n",
       "\n",
       "    .dataframe tbody tr th {\n",
       "        vertical-align: top;\n",
       "    }\n",
       "\n",
       "    .dataframe thead th {\n",
       "        text-align: right;\n",
       "    }\n",
       "</style>\n",
       "<table border=\"1\" class=\"dataframe\">\n",
       "  <thead>\n",
       "    <tr style=\"text-align: right;\">\n",
       "      <th></th>\n",
       "      <th>CustomerId</th>\n",
       "      <th>Surname</th>\n",
       "      <th>Geography</th>\n",
       "      <th>Gender</th>\n",
       "      <th>HasCrCard</th>\n",
       "      <th>IsActiveMember</th>\n",
       "      <th>EstimatedSalary</th>\n",
       "      <th>application_date</th>\n",
       "      <th>exit_date</th>\n",
       "      <th>birth_date</th>\n",
       "      <th>CustomerLifetime</th>\n",
       "    </tr>\n",
       "  </thead>\n",
       "  <tbody>\n",
       "    <tr>\n",
       "      <th>75</th>\n",
       "      <td>15610711</td>\n",
       "      <td>Eluemuno</td>\n",
       "      <td>Germany</td>\n",
       "      <td>Female</td>\n",
       "      <td>0.00</td>\n",
       "      <td>0.00</td>\n",
       "      <td>167673.37</td>\n",
       "      <td>2017-03-05</td>\n",
       "      <td>2019-11-27</td>\n",
       "      <td>1976-10-21</td>\n",
       "      <td>2.74</td>\n",
       "    </tr>\n",
       "    <tr>\n",
       "      <th>198</th>\n",
       "      <td>15764170</td>\n",
       "      <td>Pinto</td>\n",
       "      <td>Germany</td>\n",
       "      <td>Male</td>\n",
       "      <td>1.00</td>\n",
       "      <td>0.00</td>\n",
       "      <td>36579.53</td>\n",
       "      <td>2017-02-05</td>\n",
       "      <td>2018-10-11</td>\n",
       "      <td>1972-04-02</td>\n",
       "      <td>2.82</td>\n",
       "    </tr>\n",
       "    <tr>\n",
       "      <th>484</th>\n",
       "      <td>15594720</td>\n",
       "      <td>Scott</td>\n",
       "      <td>Germany</td>\n",
       "      <td>Female</td>\n",
       "      <td>1.00</td>\n",
       "      <td>1.00</td>\n",
       "      <td>189339.60</td>\n",
       "      <td>2017-11-08</td>\n",
       "      <td>NaT</td>\n",
       "      <td>1982-05-14</td>\n",
       "      <td>2.06</td>\n",
       "    </tr>\n",
       "    <tr>\n",
       "      <th>901</th>\n",
       "      <td>15706552</td>\n",
       "      <td>Odinakachukwu</td>\n",
       "      <td>France</td>\n",
       "      <td>Male</td>\n",
       "      <td>0.00</td>\n",
       "      <td>1.00</td>\n",
       "      <td>156731.91</td>\n",
       "      <td>2016-02-15</td>\n",
       "      <td>2019-10-02</td>\n",
       "      <td>1979-09-09</td>\n",
       "      <td>3.79</td>\n",
       "    </tr>\n",
       "    <tr>\n",
       "      <th>1255</th>\n",
       "      <td>15785358</td>\n",
       "      <td>Gresswell</td>\n",
       "      <td>Germany</td>\n",
       "      <td>Male</td>\n",
       "      <td>1.00</td>\n",
       "      <td>1.00</td>\n",
       "      <td>79366.98</td>\n",
       "      <td>2016-09-17</td>\n",
       "      <td>2016-12-20</td>\n",
       "      <td>1969-11-11</td>\n",
       "      <td>3.20</td>\n",
       "    </tr>\n",
       "    <tr>\n",
       "      <th>...</th>\n",
       "      <td>...</td>\n",
       "      <td>...</td>\n",
       "      <td>...</td>\n",
       "      <td>...</td>\n",
       "      <td>...</td>\n",
       "      <td>...</td>\n",
       "      <td>...</td>\n",
       "      <td>...</td>\n",
       "      <td>...</td>\n",
       "      <td>...</td>\n",
       "      <td>...</td>\n",
       "    </tr>\n",
       "    <tr>\n",
       "      <th>1543548</th>\n",
       "      <td>15689152</td>\n",
       "      <td>Loggia</td>\n",
       "      <td>Spain</td>\n",
       "      <td>Male</td>\n",
       "      <td>0.00</td>\n",
       "      <td>0.00</td>\n",
       "      <td>15378.75</td>\n",
       "      <td>2016-04-14</td>\n",
       "      <td>2019-08-07</td>\n",
       "      <td>1978-02-21</td>\n",
       "      <td>3.63</td>\n",
       "    </tr>\n",
       "    <tr>\n",
       "      <th>1543594</th>\n",
       "      <td>15787204</td>\n",
       "      <td>Howe</td>\n",
       "      <td>Spain</td>\n",
       "      <td>Female</td>\n",
       "      <td>0.00</td>\n",
       "      <td>0.00</td>\n",
       "      <td>108804.28</td>\n",
       "      <td>2017-08-30</td>\n",
       "      <td>2019-10-02</td>\n",
       "      <td>1974-07-09</td>\n",
       "      <td>2.25</td>\n",
       "    </tr>\n",
       "    <tr>\n",
       "      <th>1543930</th>\n",
       "      <td>15606887</td>\n",
       "      <td>Singh</td>\n",
       "      <td>France</td>\n",
       "      <td>Female</td>\n",
       "      <td>1.00</td>\n",
       "      <td>0.00</td>\n",
       "      <td>193880.60</td>\n",
       "      <td>2017-02-04</td>\n",
       "      <td>2018-06-30</td>\n",
       "      <td>1987-01-12</td>\n",
       "      <td>2.82</td>\n",
       "    </tr>\n",
       "    <tr>\n",
       "      <th>1544413</th>\n",
       "      <td>15778320</td>\n",
       "      <td>Teng</td>\n",
       "      <td>Germany</td>\n",
       "      <td>Female</td>\n",
       "      <td>0.00</td>\n",
       "      <td>0.00</td>\n",
       "      <td>158853.98</td>\n",
       "      <td>2016-10-11</td>\n",
       "      <td>NaT</td>\n",
       "      <td>1976-08-20</td>\n",
       "      <td>3.14</td>\n",
       "    </tr>\n",
       "    <tr>\n",
       "      <th>1544814</th>\n",
       "      <td>15601172</td>\n",
       "      <td>Nelson</td>\n",
       "      <td>France</td>\n",
       "      <td>Male</td>\n",
       "      <td>1.00</td>\n",
       "      <td>0.00</td>\n",
       "      <td>177295.92</td>\n",
       "      <td>2016-01-12</td>\n",
       "      <td>2018-03-01</td>\n",
       "      <td>1984-02-07</td>\n",
       "      <td>3.88</td>\n",
       "    </tr>\n",
       "  </tbody>\n",
       "</table>\n",
       "<p>9995 rows × 11 columns</p>\n",
       "</div>"
      ],
      "text/plain": [
       "         CustomerId        Surname Geography  Gender  HasCrCard  \\\n",
       "75         15610711       Eluemuno   Germany  Female       0.00   \n",
       "198        15764170          Pinto   Germany    Male       1.00   \n",
       "484        15594720          Scott   Germany  Female       1.00   \n",
       "901        15706552  Odinakachukwu    France    Male       0.00   \n",
       "1255       15785358      Gresswell   Germany    Male       1.00   \n",
       "...             ...            ...       ...     ...        ...   \n",
       "1543548    15689152         Loggia     Spain    Male       0.00   \n",
       "1543594    15787204           Howe     Spain  Female       0.00   \n",
       "1543930    15606887          Singh    France  Female       1.00   \n",
       "1544413    15778320           Teng   Germany  Female       0.00   \n",
       "1544814    15601172         Nelson    France    Male       1.00   \n",
       "\n",
       "         IsActiveMember  EstimatedSalary application_date  exit_date  \\\n",
       "75                 0.00        167673.37       2017-03-05 2019-11-27   \n",
       "198                0.00         36579.53       2017-02-05 2018-10-11   \n",
       "484                1.00        189339.60       2017-11-08        NaT   \n",
       "901                1.00        156731.91       2016-02-15 2019-10-02   \n",
       "1255               1.00         79366.98       2016-09-17 2016-12-20   \n",
       "...                 ...              ...              ...        ...   \n",
       "1543548            0.00         15378.75       2016-04-14 2019-08-07   \n",
       "1543594            0.00        108804.28       2017-08-30 2019-10-02   \n",
       "1543930            0.00        193880.60       2017-02-04 2018-06-30   \n",
       "1544413            0.00        158853.98       2016-10-11        NaT   \n",
       "1544814            0.00        177295.92       2016-01-12 2018-03-01   \n",
       "\n",
       "        birth_date  CustomerLifetime  \n",
       "75      1976-10-21              2.74  \n",
       "198     1972-04-02              2.82  \n",
       "484     1982-05-14              2.06  \n",
       "901     1979-09-09              3.79  \n",
       "1255    1969-11-11              3.20  \n",
       "...            ...               ...  \n",
       "1543548 1978-02-21              3.63  \n",
       "1543594 1974-07-09              2.25  \n",
       "1543930 1987-01-12              2.82  \n",
       "1544413 1976-08-20              3.14  \n",
       "1544814 1984-02-07              3.88  \n",
       "\n",
       "[9995 rows x 11 columns]"
      ]
     },
     "execution_count": 127,
     "metadata": {},
     "output_type": "execute_result"
    }
   ],
   "source": [
    "df_clients_f[df_clients_f.CustomerLifetime >= 2]"
   ]
  },
  {
   "cell_type": "code",
   "execution_count": 121,
   "metadata": {},
   "outputs": [
    {
     "data": {
      "text/plain": [
       "IsActiveMember\n",
       "0.00    288042\n",
       "1.00    287915\n",
       "Name: count, dtype: int64"
      ]
     },
     "execution_count": 121,
     "metadata": {},
     "output_type": "execute_result"
    }
   ],
   "source": [
    "df_clients_f.IsActiveMember.value_counts()"
   ]
  },
  {
   "cell_type": "code",
   "execution_count": 119,
   "metadata": {},
   "outputs": [
    {
     "data": {
      "text/plain": [
       "458085"
      ]
     },
     "execution_count": 119,
     "metadata": {},
     "output_type": "execute_result"
    }
   ],
   "source": [
    "df_clients_f.exit_date.isna().sum()"
   ]
  },
  {
   "cell_type": "markdown",
   "metadata": {},
   "source": [
    "**Further analysis on clients activity**"
   ]
  },
  {
   "cell_type": "markdown",
   "metadata": {},
   "source": [
    "There are cases where client is no longer active but there is no exit date (226,330)"
   ]
  },
  {
   "cell_type": "code",
   "execution_count": 109,
   "metadata": {},
   "outputs": [
    {
     "data": {
      "text/html": [
       "<div>\n",
       "<style scoped>\n",
       "    .dataframe tbody tr th:only-of-type {\n",
       "        vertical-align: middle;\n",
       "    }\n",
       "\n",
       "    .dataframe tbody tr th {\n",
       "        vertical-align: top;\n",
       "    }\n",
       "\n",
       "    .dataframe thead th {\n",
       "        text-align: right;\n",
       "    }\n",
       "</style>\n",
       "<table border=\"1\" class=\"dataframe\">\n",
       "  <thead>\n",
       "    <tr style=\"text-align: right;\">\n",
       "      <th></th>\n",
       "      <th>CustomerId</th>\n",
       "      <th>Surname</th>\n",
       "      <th>Geography</th>\n",
       "      <th>Gender</th>\n",
       "      <th>HasCrCard</th>\n",
       "      <th>IsActiveMember</th>\n",
       "      <th>EstimatedSalary</th>\n",
       "      <th>application_date</th>\n",
       "      <th>exit_date</th>\n",
       "      <th>birth_date</th>\n",
       "    </tr>\n",
       "  </thead>\n",
       "  <tbody>\n",
       "    <tr>\n",
       "      <th>1</th>\n",
       "      <td>14990118</td>\n",
       "      <td>MOLOCK</td>\n",
       "      <td>Italy</td>\n",
       "      <td>Male</td>\n",
       "      <td>1.00</td>\n",
       "      <td>0.00</td>\n",
       "      <td>121219.28</td>\n",
       "      <td>2019-01-08</td>\n",
       "      <td>NaT</td>\n",
       "      <td>1980-08-03</td>\n",
       "    </tr>\n",
       "    <tr>\n",
       "      <th>3</th>\n",
       "      <td>14648573</td>\n",
       "      <td>NALLS</td>\n",
       "      <td>Spain</td>\n",
       "      <td>Male</td>\n",
       "      <td>1.00</td>\n",
       "      <td>0.00</td>\n",
       "      <td>140827.98</td>\n",
       "      <td>2019-06-19</td>\n",
       "      <td>NaT</td>\n",
       "      <td>1979-02-27</td>\n",
       "    </tr>\n",
       "    <tr>\n",
       "      <th>5</th>\n",
       "      <td>15638124</td>\n",
       "      <td>BRASHERS</td>\n",
       "      <td>Italy</td>\n",
       "      <td>Female</td>\n",
       "      <td>0.00</td>\n",
       "      <td>0.00</td>\n",
       "      <td>170661.45</td>\n",
       "      <td>2018-02-23</td>\n",
       "      <td>NaT</td>\n",
       "      <td>1983-01-13</td>\n",
       "    </tr>\n",
       "    <tr>\n",
       "      <th>18</th>\n",
       "      <td>15613805</td>\n",
       "      <td>KALATHAS</td>\n",
       "      <td>France</td>\n",
       "      <td>Male</td>\n",
       "      <td>0.00</td>\n",
       "      <td>0.00</td>\n",
       "      <td>47278.31</td>\n",
       "      <td>2019-02-19</td>\n",
       "      <td>NaT</td>\n",
       "      <td>1990-04-03</td>\n",
       "    </tr>\n",
       "    <tr>\n",
       "      <th>24</th>\n",
       "      <td>15434700</td>\n",
       "      <td>STIMMELL</td>\n",
       "      <td>Germany</td>\n",
       "      <td>Male</td>\n",
       "      <td>1.00</td>\n",
       "      <td>0.00</td>\n",
       "      <td>138615.32</td>\n",
       "      <td>2018-06-06</td>\n",
       "      <td>NaT</td>\n",
       "      <td>1994-07-22</td>\n",
       "    </tr>\n",
       "    <tr>\n",
       "      <th>...</th>\n",
       "      <td>...</td>\n",
       "      <td>...</td>\n",
       "      <td>...</td>\n",
       "      <td>...</td>\n",
       "      <td>...</td>\n",
       "      <td>...</td>\n",
       "      <td>...</td>\n",
       "      <td>...</td>\n",
       "      <td>...</td>\n",
       "      <td>...</td>\n",
       "    </tr>\n",
       "    <tr>\n",
       "      <th>1544976</th>\n",
       "      <td>14543676</td>\n",
       "      <td>ABRIAL</td>\n",
       "      <td>France</td>\n",
       "      <td>Male</td>\n",
       "      <td>0.00</td>\n",
       "      <td>0.00</td>\n",
       "      <td>150110.76</td>\n",
       "      <td>2019-01-27</td>\n",
       "      <td>NaT</td>\n",
       "      <td>1979-10-08</td>\n",
       "    </tr>\n",
       "    <tr>\n",
       "      <th>1544977</th>\n",
       "      <td>15289671</td>\n",
       "      <td>YOUN</td>\n",
       "      <td>Germany</td>\n",
       "      <td>Male</td>\n",
       "      <td>0.00</td>\n",
       "      <td>0.00</td>\n",
       "      <td>98424.55</td>\n",
       "      <td>2019-01-23</td>\n",
       "      <td>NaT</td>\n",
       "      <td>1977-04-05</td>\n",
       "    </tr>\n",
       "    <tr>\n",
       "      <th>1544993</th>\n",
       "      <td>15931559</td>\n",
       "      <td>TILOTTA</td>\n",
       "      <td>Germany</td>\n",
       "      <td>Female</td>\n",
       "      <td>1.00</td>\n",
       "      <td>0.00</td>\n",
       "      <td>132091.54</td>\n",
       "      <td>2018-11-06</td>\n",
       "      <td>NaT</td>\n",
       "      <td>1964-08-27</td>\n",
       "    </tr>\n",
       "    <tr>\n",
       "      <th>1544995</th>\n",
       "      <td>14878861</td>\n",
       "      <td>LEVENSTEIN</td>\n",
       "      <td>Italy</td>\n",
       "      <td>Female</td>\n",
       "      <td>0.00</td>\n",
       "      <td>0.00</td>\n",
       "      <td>99110.94</td>\n",
       "      <td>2019-08-26</td>\n",
       "      <td>NaT</td>\n",
       "      <td>1990-05-19</td>\n",
       "    </tr>\n",
       "    <tr>\n",
       "      <th>1544999</th>\n",
       "      <td>15858637</td>\n",
       "      <td>MANUAL</td>\n",
       "      <td>Spain</td>\n",
       "      <td>Female</td>\n",
       "      <td>0.00</td>\n",
       "      <td>0.00</td>\n",
       "      <td>39908.14</td>\n",
       "      <td>2019-08-03</td>\n",
       "      <td>NaT</td>\n",
       "      <td>1987-02-16</td>\n",
       "    </tr>\n",
       "  </tbody>\n",
       "</table>\n",
       "<p>226330 rows × 10 columns</p>\n",
       "</div>"
      ],
      "text/plain": [
       "         CustomerId     Surname Geography  Gender  HasCrCard  IsActiveMember  \\\n",
       "1          14990118      MOLOCK     Italy    Male       1.00            0.00   \n",
       "3          14648573       NALLS     Spain    Male       1.00            0.00   \n",
       "5          15638124    BRASHERS     Italy  Female       0.00            0.00   \n",
       "18         15613805    KALATHAS    France    Male       0.00            0.00   \n",
       "24         15434700    STIMMELL   Germany    Male       1.00            0.00   \n",
       "...             ...         ...       ...     ...        ...             ...   \n",
       "1544976    14543676      ABRIAL    France    Male       0.00            0.00   \n",
       "1544977    15289671        YOUN   Germany    Male       0.00            0.00   \n",
       "1544993    15931559     TILOTTA   Germany  Female       1.00            0.00   \n",
       "1544995    14878861  LEVENSTEIN     Italy  Female       0.00            0.00   \n",
       "1544999    15858637      MANUAL     Spain  Female       0.00            0.00   \n",
       "\n",
       "         EstimatedSalary application_date exit_date birth_date  \n",
       "1              121219.28       2019-01-08       NaT 1980-08-03  \n",
       "3              140827.98       2019-06-19       NaT 1979-02-27  \n",
       "5              170661.45       2018-02-23       NaT 1983-01-13  \n",
       "18              47278.31       2019-02-19       NaT 1990-04-03  \n",
       "24             138615.32       2018-06-06       NaT 1994-07-22  \n",
       "...                  ...              ...       ...        ...  \n",
       "1544976        150110.76       2019-01-27       NaT 1979-10-08  \n",
       "1544977         98424.55       2019-01-23       NaT 1977-04-05  \n",
       "1544993        132091.54       2018-11-06       NaT 1964-08-27  \n",
       "1544995         99110.94       2019-08-26       NaT 1990-05-19  \n",
       "1544999         39908.14       2019-08-03       NaT 1987-02-16  \n",
       "\n",
       "[226330 rows x 10 columns]"
      ]
     },
     "execution_count": 109,
     "metadata": {},
     "output_type": "execute_result"
    }
   ],
   "source": [
    "df_clients_f[(df_clients_f.IsActiveMember == 0)&(df_clients_f.exit_date.isna())]"
   ]
  },
  {
   "cell_type": "markdown",
   "metadata": {},
   "source": [
    "Cases with exit_dates and active members should be discarded, as it shows inconsistency (61,276)"
   ]
  },
  {
   "cell_type": "code",
   "execution_count": 106,
   "metadata": {},
   "outputs": [
    {
     "data": {
      "text/html": [
       "<div>\n",
       "<style scoped>\n",
       "    .dataframe tbody tr th:only-of-type {\n",
       "        vertical-align: middle;\n",
       "    }\n",
       "\n",
       "    .dataframe tbody tr th {\n",
       "        vertical-align: top;\n",
       "    }\n",
       "\n",
       "    .dataframe thead th {\n",
       "        text-align: right;\n",
       "    }\n",
       "</style>\n",
       "<table border=\"1\" class=\"dataframe\">\n",
       "  <thead>\n",
       "    <tr style=\"text-align: right;\">\n",
       "      <th></th>\n",
       "      <th>CustomerId</th>\n",
       "      <th>Surname</th>\n",
       "      <th>Geography</th>\n",
       "      <th>Gender</th>\n",
       "      <th>HasCrCard</th>\n",
       "      <th>IsActiveMember</th>\n",
       "      <th>EstimatedSalary</th>\n",
       "      <th>application_date</th>\n",
       "      <th>exit_date</th>\n",
       "      <th>birth_date</th>\n",
       "    </tr>\n",
       "  </thead>\n",
       "  <tbody>\n",
       "    <tr>\n",
       "      <th>14</th>\n",
       "      <td>15165393</td>\n",
       "      <td>LABIANCA</td>\n",
       "      <td>Spain</td>\n",
       "      <td>Male</td>\n",
       "      <td>1.00</td>\n",
       "      <td>1.00</td>\n",
       "      <td>2612.65</td>\n",
       "      <td>2018-02-22</td>\n",
       "      <td>2019-06-11</td>\n",
       "      <td>1974-07-11</td>\n",
       "    </tr>\n",
       "    <tr>\n",
       "      <th>20</th>\n",
       "      <td>15982728</td>\n",
       "      <td>GOUDEAU</td>\n",
       "      <td>France</td>\n",
       "      <td>Male</td>\n",
       "      <td>0.00</td>\n",
       "      <td>1.00</td>\n",
       "      <td>66465.09</td>\n",
       "      <td>2018-02-02</td>\n",
       "      <td>2019-06-01</td>\n",
       "      <td>1972-12-18</td>\n",
       "    </tr>\n",
       "    <tr>\n",
       "      <th>69</th>\n",
       "      <td>15398020</td>\n",
       "      <td>VANDERVEER</td>\n",
       "      <td>Spain</td>\n",
       "      <td>Female</td>\n",
       "      <td>0.00</td>\n",
       "      <td>1.00</td>\n",
       "      <td>96945.16</td>\n",
       "      <td>2018-03-02</td>\n",
       "      <td>2019-03-03</td>\n",
       "      <td>1977-04-13</td>\n",
       "    </tr>\n",
       "    <tr>\n",
       "      <th>112</th>\n",
       "      <td>15325976</td>\n",
       "      <td>ARQUETTE</td>\n",
       "      <td>France</td>\n",
       "      <td>Male</td>\n",
       "      <td>1.00</td>\n",
       "      <td>1.00</td>\n",
       "      <td>34591.80</td>\n",
       "      <td>2019-03-15</td>\n",
       "      <td>2019-07-20</td>\n",
       "      <td>1974-01-05</td>\n",
       "    </tr>\n",
       "    <tr>\n",
       "      <th>190</th>\n",
       "      <td>14769148</td>\n",
       "      <td>CUCVAS</td>\n",
       "      <td>Italy</td>\n",
       "      <td>Male</td>\n",
       "      <td>0.00</td>\n",
       "      <td>1.00</td>\n",
       "      <td>124916.39</td>\n",
       "      <td>2018-01-22</td>\n",
       "      <td>2019-08-01</td>\n",
       "      <td>1965-08-13</td>\n",
       "    </tr>\n",
       "    <tr>\n",
       "      <th>...</th>\n",
       "      <td>...</td>\n",
       "      <td>...</td>\n",
       "      <td>...</td>\n",
       "      <td>...</td>\n",
       "      <td>...</td>\n",
       "      <td>...</td>\n",
       "      <td>...</td>\n",
       "      <td>...</td>\n",
       "      <td>...</td>\n",
       "      <td>...</td>\n",
       "    </tr>\n",
       "    <tr>\n",
       "      <th>1544876</th>\n",
       "      <td>15889530</td>\n",
       "      <td>MALLY</td>\n",
       "      <td>France</td>\n",
       "      <td>Male</td>\n",
       "      <td>0.00</td>\n",
       "      <td>1.00</td>\n",
       "      <td>127059.77</td>\n",
       "      <td>2018-11-03</td>\n",
       "      <td>2019-04-03</td>\n",
       "      <td>1940-08-31</td>\n",
       "    </tr>\n",
       "    <tr>\n",
       "      <th>1544911</th>\n",
       "      <td>14548475</td>\n",
       "      <td>DININNO</td>\n",
       "      <td>France</td>\n",
       "      <td>Male</td>\n",
       "      <td>0.00</td>\n",
       "      <td>1.00</td>\n",
       "      <td>171019.45</td>\n",
       "      <td>2018-06-20</td>\n",
       "      <td>2018-09-24</td>\n",
       "      <td>1987-10-03</td>\n",
       "    </tr>\n",
       "    <tr>\n",
       "      <th>1544922</th>\n",
       "      <td>15392190</td>\n",
       "      <td>WALKINGTON</td>\n",
       "      <td>Italy</td>\n",
       "      <td>Male</td>\n",
       "      <td>0.00</td>\n",
       "      <td>1.00</td>\n",
       "      <td>39010.53</td>\n",
       "      <td>2018-09-14</td>\n",
       "      <td>2019-10-24</td>\n",
       "      <td>1999-04-19</td>\n",
       "    </tr>\n",
       "    <tr>\n",
       "      <th>1544958</th>\n",
       "      <td>14625983</td>\n",
       "      <td>SURMA</td>\n",
       "      <td>Italy</td>\n",
       "      <td>Female</td>\n",
       "      <td>0.00</td>\n",
       "      <td>1.00</td>\n",
       "      <td>85375.86</td>\n",
       "      <td>2018-01-17</td>\n",
       "      <td>2018-07-10</td>\n",
       "      <td>1959-03-22</td>\n",
       "    </tr>\n",
       "    <tr>\n",
       "      <th>1544967</th>\n",
       "      <td>15020884</td>\n",
       "      <td>ASHTON</td>\n",
       "      <td>France</td>\n",
       "      <td>Female</td>\n",
       "      <td>1.00</td>\n",
       "      <td>1.00</td>\n",
       "      <td>212893.80</td>\n",
       "      <td>2018-03-31</td>\n",
       "      <td>2018-10-12</td>\n",
       "      <td>1983-02-28</td>\n",
       "    </tr>\n",
       "  </tbody>\n",
       "</table>\n",
       "<p>61276 rows × 10 columns</p>\n",
       "</div>"
      ],
      "text/plain": [
       "         CustomerId     Surname Geography  Gender  HasCrCard  IsActiveMember  \\\n",
       "14         15165393    LABIANCA     Spain    Male       1.00            1.00   \n",
       "20         15982728     GOUDEAU    France    Male       0.00            1.00   \n",
       "69         15398020  VANDERVEER     Spain  Female       0.00            1.00   \n",
       "112        15325976    ARQUETTE    France    Male       1.00            1.00   \n",
       "190        14769148      CUCVAS     Italy    Male       0.00            1.00   \n",
       "...             ...         ...       ...     ...        ...             ...   \n",
       "1544876    15889530       MALLY    France    Male       0.00            1.00   \n",
       "1544911    14548475     DININNO    France    Male       0.00            1.00   \n",
       "1544922    15392190  WALKINGTON     Italy    Male       0.00            1.00   \n",
       "1544958    14625983       SURMA     Italy  Female       0.00            1.00   \n",
       "1544967    15020884      ASHTON    France  Female       1.00            1.00   \n",
       "\n",
       "         EstimatedSalary application_date  exit_date birth_date  \n",
       "14               2612.65       2018-02-22 2019-06-11 1974-07-11  \n",
       "20              66465.09       2018-02-02 2019-06-01 1972-12-18  \n",
       "69              96945.16       2018-03-02 2019-03-03 1977-04-13  \n",
       "112             34591.80       2019-03-15 2019-07-20 1974-01-05  \n",
       "190            124916.39       2018-01-22 2019-08-01 1965-08-13  \n",
       "...                  ...              ...        ...        ...  \n",
       "1544876        127059.77       2018-11-03 2019-04-03 1940-08-31  \n",
       "1544911        171019.45       2018-06-20 2018-09-24 1987-10-03  \n",
       "1544922         39010.53       2018-09-14 2019-10-24 1999-04-19  \n",
       "1544958         85375.86       2018-01-17 2018-07-10 1959-03-22  \n",
       "1544967        212893.80       2018-03-31 2018-10-12 1983-02-28  \n",
       "\n",
       "[61276 rows x 10 columns]"
      ]
     },
     "execution_count": 106,
     "metadata": {},
     "output_type": "execute_result"
    }
   ],
   "source": [
    "df_clients_f[(df_clients_f.IsActiveMember == 1)&~(df_clients_f.exit_date.isna())]"
   ]
  },
  {
   "cell_type": "markdown",
   "metadata": {},
   "source": [
    "#### Italy cases"
   ]
  },
  {
   "cell_type": "code",
   "execution_count": 52,
   "metadata": {},
   "outputs": [
    {
     "data": {
      "text/plain": [
       "Geography\n",
       "France     156426\n",
       "Germany    154201\n",
       "Spain      153443\n",
       "Italy      135818\n",
       "Name: count, dtype: int64"
      ]
     },
     "execution_count": 52,
     "metadata": {},
     "output_type": "execute_result"
    }
   ],
   "source": [
    "df_clients_f.Geography.value_counts()"
   ]
  },
  {
   "cell_type": "code",
   "execution_count": 89,
   "metadata": {},
   "outputs": [
    {
     "data": {
      "text/plain": [
       "count                           135818\n",
       "mean     2018-11-30 20:13:14.121544704\n",
       "min                2017-12-01 00:00:00\n",
       "25%                2018-06-01 00:00:00\n",
       "50%                2018-12-02 00:00:00\n",
       "75%                2019-06-01 00:00:00\n",
       "max                2019-11-30 00:00:00\n",
       "Name: application_date, dtype: object"
      ]
     },
     "execution_count": 89,
     "metadata": {},
     "output_type": "execute_result"
    }
   ],
   "source": [
    "df_clients_f[df_clients_f.Geography=='Italy'].application_date.describe()"
   ]
  },
  {
   "cell_type": "markdown",
   "metadata": {},
   "source": [
    "## Feature engineering"
   ]
  },
  {
   "cell_type": "markdown",
   "metadata": {},
   "source": [
    "### Products"
   ]
  },
  {
   "cell_type": "markdown",
   "metadata": {},
   "source": [
    "Calculate amount of products by customer"
   ]
  },
  {
   "cell_type": "code",
   "execution_count": 100,
   "metadata": {},
   "outputs": [
    {
     "data": {
      "text/html": [
       "<div>\n",
       "<style scoped>\n",
       "    .dataframe tbody tr th:only-of-type {\n",
       "        vertical-align: middle;\n",
       "    }\n",
       "\n",
       "    .dataframe tbody tr th {\n",
       "        vertical-align: top;\n",
       "    }\n",
       "\n",
       "    .dataframe thead th {\n",
       "        text-align: right;\n",
       "    }\n",
       "</style>\n",
       "<table border=\"1\" class=\"dataframe\">\n",
       "  <thead>\n",
       "    <tr style=\"text-align: right;\">\n",
       "      <th></th>\n",
       "      <th>ContractId</th>\n",
       "      <th>CustomerId</th>\n",
       "      <th>Products</th>\n",
       "    </tr>\n",
       "  </thead>\n",
       "  <tbody>\n",
       "    <tr>\n",
       "      <th>0</th>\n",
       "      <td>5Xo9sCduOGo5EhBYhzKrSlLIA</td>\n",
       "      <td>14993808</td>\n",
       "      <td>Product B</td>\n",
       "    </tr>\n",
       "    <tr>\n",
       "      <th>1</th>\n",
       "      <td>3nQbqbnpTeSkYIJWT1UDe1GZ1</td>\n",
       "      <td>15560417</td>\n",
       "      <td>Product B</td>\n",
       "    </tr>\n",
       "    <tr>\n",
       "      <th>2</th>\n",
       "      <td>PD9KwDPOwyJWO6LJKPGBbkrCz</td>\n",
       "      <td>15406428</td>\n",
       "      <td>Product C</td>\n",
       "    </tr>\n",
       "    <tr>\n",
       "      <th>3</th>\n",
       "      <td>IhS7pz8lu07LCZSqYNlL0fuLP</td>\n",
       "      <td>15604313</td>\n",
       "      <td>Product B</td>\n",
       "    </tr>\n",
       "    <tr>\n",
       "      <th>4</th>\n",
       "      <td>ftUey4oVmkZj8RaBVFH6SNzVM</td>\n",
       "      <td>14952409</td>\n",
       "      <td>Product C</td>\n",
       "    </tr>\n",
       "  </tbody>\n",
       "</table>\n",
       "</div>"
      ],
      "text/plain": [
       "                  ContractId  CustomerId   Products\n",
       "0  5Xo9sCduOGo5EhBYhzKrSlLIA    14993808  Product B\n",
       "1  3nQbqbnpTeSkYIJWT1UDe1GZ1    15560417  Product B\n",
       "2  PD9KwDPOwyJWO6LJKPGBbkrCz    15406428  Product C\n",
       "3  IhS7pz8lu07LCZSqYNlL0fuLP    15604313  Product B\n",
       "4  ftUey4oVmkZj8RaBVFH6SNzVM    14952409  Product C"
      ]
     },
     "execution_count": 100,
     "metadata": {},
     "output_type": "execute_result"
    }
   ],
   "source": [
    "df_products.head()"
   ]
  },
  {
   "cell_type": "code",
   "execution_count": 166,
   "metadata": {},
   "outputs": [],
   "source": [
    "df_products_number = df_products.groupby('CustomerId').agg(number_of_products = ('Products','count')).reset_index()"
   ]
  },
  {
   "cell_type": "code",
   "execution_count": 167,
   "metadata": {},
   "outputs": [
    {
     "data": {
      "text/html": [
       "<div>\n",
       "<style scoped>\n",
       "    .dataframe tbody tr th:only-of-type {\n",
       "        vertical-align: middle;\n",
       "    }\n",
       "\n",
       "    .dataframe tbody tr th {\n",
       "        vertical-align: top;\n",
       "    }\n",
       "\n",
       "    .dataframe thead th {\n",
       "        text-align: right;\n",
       "    }\n",
       "</style>\n",
       "<table border=\"1\" class=\"dataframe\">\n",
       "  <thead>\n",
       "    <tr style=\"text-align: right;\">\n",
       "      <th></th>\n",
       "      <th>CustomerId</th>\n",
       "      <th>number_of_products</th>\n",
       "    </tr>\n",
       "  </thead>\n",
       "  <tbody>\n",
       "    <tr>\n",
       "      <th>0</th>\n",
       "      <td>14500000</td>\n",
       "      <td>4</td>\n",
       "    </tr>\n",
       "    <tr>\n",
       "      <th>1</th>\n",
       "      <td>14500001</td>\n",
       "      <td>2</td>\n",
       "    </tr>\n",
       "    <tr>\n",
       "      <th>2</th>\n",
       "      <td>14500002</td>\n",
       "      <td>2</td>\n",
       "    </tr>\n",
       "    <tr>\n",
       "      <th>3</th>\n",
       "      <td>14500003</td>\n",
       "      <td>3</td>\n",
       "    </tr>\n",
       "    <tr>\n",
       "      <th>4</th>\n",
       "      <td>14500004</td>\n",
       "      <td>3</td>\n",
       "    </tr>\n",
       "  </tbody>\n",
       "</table>\n",
       "</div>"
      ],
      "text/plain": [
       "   CustomerId  number_of_products\n",
       "0    14500000                   4\n",
       "1    14500001                   2\n",
       "2    14500002                   2\n",
       "3    14500003                   3\n",
       "4    14500004                   3"
      ]
     },
     "execution_count": 167,
     "metadata": {},
     "output_type": "execute_result"
    }
   ],
   "source": [
    "df_products_number.head()"
   ]
  },
  {
   "cell_type": "markdown",
   "metadata": {},
   "source": [
    "### Transactions"
   ]
  },
  {
   "cell_type": "markdown",
   "metadata": {},
   "source": [
    "Create balance variable"
   ]
  },
  {
   "cell_type": "code",
   "execution_count": 154,
   "metadata": {},
   "outputs": [
    {
     "data": {
      "text/html": [
       "<div>\n",
       "<style scoped>\n",
       "    .dataframe tbody tr th:only-of-type {\n",
       "        vertical-align: middle;\n",
       "    }\n",
       "\n",
       "    .dataframe tbody tr th {\n",
       "        vertical-align: top;\n",
       "    }\n",
       "\n",
       "    .dataframe thead th {\n",
       "        text-align: right;\n",
       "    }\n",
       "</style>\n",
       "<table border=\"1\" class=\"dataframe\">\n",
       "  <thead>\n",
       "    <tr style=\"text-align: right;\">\n",
       "      <th></th>\n",
       "      <th>CustomerId</th>\n",
       "      <th>Transaction</th>\n",
       "      <th>Value</th>\n",
       "    </tr>\n",
       "  </thead>\n",
       "  <tbody>\n",
       "    <tr>\n",
       "      <th>0</th>\n",
       "      <td>15653320</td>\n",
       "      <td>trans_4</td>\n",
       "      <td>-294.03</td>\n",
       "    </tr>\n",
       "    <tr>\n",
       "      <th>1</th>\n",
       "      <td>14955663</td>\n",
       "      <td>trans_3</td>\n",
       "      <td>1297.97</td>\n",
       "    </tr>\n",
       "    <tr>\n",
       "      <th>2</th>\n",
       "      <td>15218505</td>\n",
       "      <td>trans_4</td>\n",
       "      <td>191.28</td>\n",
       "    </tr>\n",
       "    <tr>\n",
       "      <th>3</th>\n",
       "      <td>15391934</td>\n",
       "      <td>trans_3</td>\n",
       "      <td>2299.07</td>\n",
       "    </tr>\n",
       "    <tr>\n",
       "      <th>4</th>\n",
       "      <td>14847291</td>\n",
       "      <td>trans_3</td>\n",
       "      <td>1612.10</td>\n",
       "    </tr>\n",
       "  </tbody>\n",
       "</table>\n",
       "</div>"
      ],
      "text/plain": [
       "   CustomerId Transaction   Value\n",
       "0    15653320     trans_4 -294.03\n",
       "1    14955663     trans_3 1297.97\n",
       "2    15218505     trans_4  191.28\n",
       "3    15391934     trans_3 2299.07\n",
       "4    14847291     trans_3 1612.10"
      ]
     },
     "execution_count": 154,
     "metadata": {},
     "output_type": "execute_result"
    }
   ],
   "source": [
    "df_transactions.head()"
   ]
  },
  {
   "cell_type": "code",
   "execution_count": 160,
   "metadata": {},
   "outputs": [],
   "source": [
    "df_transact_pivoted = df_transactions.pivot(index='CustomerId',columns='Transaction',values='Value').reset_index()"
   ]
  },
  {
   "cell_type": "code",
   "execution_count": 161,
   "metadata": {},
   "outputs": [],
   "source": [
    "df_transact_pivoted['balance'] = df_transact_pivoted[['trans_1','trans_2','trans_3','trans_4','trans_5']].sum(axis=1)"
   ]
  },
  {
   "cell_type": "code",
   "execution_count": 165,
   "metadata": {},
   "outputs": [
    {
     "data": {
      "text/html": [
       "<div>\n",
       "<style scoped>\n",
       "    .dataframe tbody tr th:only-of-type {\n",
       "        vertical-align: middle;\n",
       "    }\n",
       "\n",
       "    .dataframe tbody tr th {\n",
       "        vertical-align: top;\n",
       "    }\n",
       "\n",
       "    .dataframe thead th {\n",
       "        text-align: right;\n",
       "    }\n",
       "</style>\n",
       "<table border=\"1\" class=\"dataframe\">\n",
       "  <thead>\n",
       "    <tr style=\"text-align: right;\">\n",
       "      <th>Transaction</th>\n",
       "      <th>CustomerId</th>\n",
       "      <th>trans_1</th>\n",
       "      <th>trans_2</th>\n",
       "      <th>trans_3</th>\n",
       "      <th>trans_4</th>\n",
       "      <th>trans_5</th>\n",
       "      <th>balance</th>\n",
       "    </tr>\n",
       "  </thead>\n",
       "  <tbody>\n",
       "    <tr>\n",
       "      <th>0</th>\n",
       "      <td>14500000</td>\n",
       "      <td>1456.63</td>\n",
       "      <td>-317.81</td>\n",
       "      <td>1047.96</td>\n",
       "      <td>-249.61</td>\n",
       "      <td>-1937.17</td>\n",
       "      <td>0.00</td>\n",
       "    </tr>\n",
       "    <tr>\n",
       "      <th>1</th>\n",
       "      <td>14500001</td>\n",
       "      <td>2717.35</td>\n",
       "      <td>-149.95</td>\n",
       "      <td>2560.88</td>\n",
       "      <td>-94.99</td>\n",
       "      <td>46372.32</td>\n",
       "      <td>51405.61</td>\n",
       "    </tr>\n",
       "    <tr>\n",
       "      <th>2</th>\n",
       "      <td>14500002</td>\n",
       "      <td>3470.33</td>\n",
       "      <td>-868.05</td>\n",
       "      <td>1229.14</td>\n",
       "      <td>-120.02</td>\n",
       "      <td>117052.10</td>\n",
       "      <td>120763.50</td>\n",
       "    </tr>\n",
       "    <tr>\n",
       "      <th>3</th>\n",
       "      <td>14500003</td>\n",
       "      <td>4711.95</td>\n",
       "      <td>-224.06</td>\n",
       "      <td>1576.25</td>\n",
       "      <td>313.71</td>\n",
       "      <td>143518.86</td>\n",
       "      <td>149896.71</td>\n",
       "    </tr>\n",
       "    <tr>\n",
       "      <th>4</th>\n",
       "      <td>14500004</td>\n",
       "      <td>3959.83</td>\n",
       "      <td>-632.33</td>\n",
       "      <td>2802.98</td>\n",
       "      <td>-804.26</td>\n",
       "      <td>137735.31</td>\n",
       "      <td>143061.53</td>\n",
       "    </tr>\n",
       "  </tbody>\n",
       "</table>\n",
       "</div>"
      ],
      "text/plain": [
       "Transaction  CustomerId  trans_1  trans_2  trans_3  trans_4   trans_5  \\\n",
       "0              14500000  1456.63  -317.81  1047.96  -249.61  -1937.17   \n",
       "1              14500001  2717.35  -149.95  2560.88   -94.99  46372.32   \n",
       "2              14500002  3470.33  -868.05  1229.14  -120.02 117052.10   \n",
       "3              14500003  4711.95  -224.06  1576.25   313.71 143518.86   \n",
       "4              14500004  3959.83  -632.33  2802.98  -804.26 137735.31   \n",
       "\n",
       "Transaction   balance  \n",
       "0                0.00  \n",
       "1            51405.61  \n",
       "2           120763.50  \n",
       "3           149896.71  \n",
       "4           143061.53  "
      ]
     },
     "execution_count": 165,
     "metadata": {},
     "output_type": "execute_result"
    }
   ],
   "source": [
    "df_transact_pivoted.head()"
   ]
  },
  {
   "cell_type": "markdown",
   "metadata": {},
   "source": [
    "### Credit scores"
   ]
  },
  {
   "cell_type": "code",
   "execution_count": 186,
   "metadata": {},
   "outputs": [
    {
     "data": {
      "text/html": [
       "<div>\n",
       "<style scoped>\n",
       "    .dataframe tbody tr th:only-of-type {\n",
       "        vertical-align: middle;\n",
       "    }\n",
       "\n",
       "    .dataframe tbody tr th {\n",
       "        vertical-align: top;\n",
       "    }\n",
       "\n",
       "    .dataframe thead th {\n",
       "        text-align: right;\n",
       "    }\n",
       "</style>\n",
       "<table border=\"1\" class=\"dataframe\">\n",
       "  <thead>\n",
       "    <tr style=\"text-align: right;\">\n",
       "      <th></th>\n",
       "      <th>CustomerId</th>\n",
       "      <th>Date</th>\n",
       "      <th>Score</th>\n",
       "    </tr>\n",
       "  </thead>\n",
       "  <tbody>\n",
       "    <tr>\n",
       "      <th>0</th>\n",
       "      <td>14759722</td>\n",
       "      <td>2018-07-01</td>\n",
       "      <td>717</td>\n",
       "    </tr>\n",
       "    <tr>\n",
       "      <th>1</th>\n",
       "      <td>15907276</td>\n",
       "      <td>2011-09-01</td>\n",
       "      <td>562</td>\n",
       "    </tr>\n",
       "    <tr>\n",
       "      <th>2</th>\n",
       "      <td>15346641</td>\n",
       "      <td>2013-01-01</td>\n",
       "      <td>604</td>\n",
       "    </tr>\n",
       "    <tr>\n",
       "      <th>3</th>\n",
       "      <td>15595126</td>\n",
       "      <td>2018-08-01</td>\n",
       "      <td>469</td>\n",
       "    </tr>\n",
       "    <tr>\n",
       "      <th>4</th>\n",
       "      <td>15227788</td>\n",
       "      <td>2013-09-01</td>\n",
       "      <td>655</td>\n",
       "    </tr>\n",
       "  </tbody>\n",
       "</table>\n",
       "</div>"
      ],
      "text/plain": [
       "   CustomerId       Date  Score\n",
       "0    14759722 2018-07-01    717\n",
       "1    15907276 2011-09-01    562\n",
       "2    15346641 2013-01-01    604\n",
       "3    15595126 2018-08-01    469\n",
       "4    15227788 2013-09-01    655"
      ]
     },
     "execution_count": 186,
     "metadata": {},
     "output_type": "execute_result"
    }
   ],
   "source": [
    "df_credit_score.head()"
   ]
  },
  {
   "cell_type": "markdown",
   "metadata": {},
   "source": [
    "13 values for customers"
   ]
  },
  {
   "cell_type": "code",
   "execution_count": 188,
   "metadata": {},
   "outputs": [
    {
     "data": {
      "text/html": [
       "<div>\n",
       "<style scoped>\n",
       "    .dataframe tbody tr th:only-of-type {\n",
       "        vertical-align: middle;\n",
       "    }\n",
       "\n",
       "    .dataframe tbody tr th {\n",
       "        vertical-align: top;\n",
       "    }\n",
       "\n",
       "    .dataframe thead th {\n",
       "        text-align: right;\n",
       "    }\n",
       "</style>\n",
       "<table border=\"1\" class=\"dataframe\">\n",
       "  <thead>\n",
       "    <tr style=\"text-align: right;\">\n",
       "      <th></th>\n",
       "      <th>Date</th>\n",
       "      <th>Score</th>\n",
       "    </tr>\n",
       "    <tr>\n",
       "      <th>CustomerId</th>\n",
       "      <th></th>\n",
       "      <th></th>\n",
       "    </tr>\n",
       "  </thead>\n",
       "  <tbody>\n",
       "    <tr>\n",
       "      <th>14500000</th>\n",
       "      <td>13</td>\n",
       "      <td>13</td>\n",
       "    </tr>\n",
       "    <tr>\n",
       "      <th>14500001</th>\n",
       "      <td>13</td>\n",
       "      <td>13</td>\n",
       "    </tr>\n",
       "    <tr>\n",
       "      <th>14500002</th>\n",
       "      <td>13</td>\n",
       "      <td>13</td>\n",
       "    </tr>\n",
       "    <tr>\n",
       "      <th>14500003</th>\n",
       "      <td>13</td>\n",
       "      <td>13</td>\n",
       "    </tr>\n",
       "    <tr>\n",
       "      <th>14500004</th>\n",
       "      <td>13</td>\n",
       "      <td>13</td>\n",
       "    </tr>\n",
       "  </tbody>\n",
       "</table>\n",
       "</div>"
      ],
      "text/plain": [
       "            Date  Score\n",
       "CustomerId             \n",
       "14500000      13     13\n",
       "14500001      13     13\n",
       "14500002      13     13\n",
       "14500003      13     13\n",
       "14500004      13     13"
      ]
     },
     "execution_count": 188,
     "metadata": {},
     "output_type": "execute_result"
    }
   ],
   "source": [
    "df_credit_score.groupby('CustomerId').count().head()"
   ]
  },
  {
   "cell_type": "markdown",
   "metadata": {},
   "source": [
    "Given that in this table the dates are beginning of month, and on the client's table they are specific dates, we can join them by year-month combinations.\n",
    "\n",
    "Create year and month variable"
   ]
  },
  {
   "cell_type": "code",
   "execution_count": 189,
   "metadata": {},
   "outputs": [],
   "source": [
    "df_credit_score['Date'] = pd.to_datetime(df_credit_score['Date'])\n",
    "df_clients['application_date'] = pd.to_datetime(df_clients['application_date'])"
   ]
  },
  {
   "cell_type": "code",
   "execution_count": 208,
   "metadata": {},
   "outputs": [],
   "source": [
    "# Credit table\n",
    "df_credit_score['year'] = df_credit_score.Date.dt.year\n",
    "df_credit_score['month'] = df_credit_score.Date.dt.month\n",
    "\n",
    "# Client's table\n",
    "df_clients['year'] = df_clients.application_date.dt.year\n",
    "df_clients['month'] = df_clients.application_date.dt.month"
   ]
  },
  {
   "cell_type": "markdown",
   "metadata": {},
   "source": [
    "Merge them"
   ]
  },
  {
   "cell_type": "code",
   "execution_count": 214,
   "metadata": {},
   "outputs": [],
   "source": [
    "df_clients = df_clients.merge(df_credit_score, how='left',on=['CustomerId','year','month'])"
   ]
  },
  {
   "cell_type": "code",
   "execution_count": 215,
   "metadata": {},
   "outputs": [
    {
     "data": {
      "text/html": [
       "<div>\n",
       "<style scoped>\n",
       "    .dataframe tbody tr th:only-of-type {\n",
       "        vertical-align: middle;\n",
       "    }\n",
       "\n",
       "    .dataframe tbody tr th {\n",
       "        vertical-align: top;\n",
       "    }\n",
       "\n",
       "    .dataframe thead th {\n",
       "        text-align: right;\n",
       "    }\n",
       "</style>\n",
       "<table border=\"1\" class=\"dataframe\">\n",
       "  <thead>\n",
       "    <tr style=\"text-align: right;\">\n",
       "      <th></th>\n",
       "      <th>CustomerId</th>\n",
       "      <th>Surname</th>\n",
       "      <th>Geography</th>\n",
       "      <th>Gender</th>\n",
       "      <th>HasCrCard</th>\n",
       "      <th>IsActiveMember</th>\n",
       "      <th>EstimatedSalary</th>\n",
       "      <th>application_date</th>\n",
       "      <th>exit_date</th>\n",
       "      <th>birth_date</th>\n",
       "      <th>age</th>\n",
       "      <th>year</th>\n",
       "      <th>month</th>\n",
       "      <th>Date</th>\n",
       "      <th>Score</th>\n",
       "    </tr>\n",
       "  </thead>\n",
       "  <tbody>\n",
       "    <tr>\n",
       "      <th>140032</th>\n",
       "      <td>15699011</td>\n",
       "      <td>MOOTRY</td>\n",
       "      <td>Italy</td>\n",
       "      <td>Female</td>\n",
       "      <td>1.00</td>\n",
       "      <td>1.00</td>\n",
       "      <td>79115.57</td>\n",
       "      <td>2012-06-15</td>\n",
       "      <td>2013-02-14</td>\n",
       "      <td>1993-07-16</td>\n",
       "      <td>26.00</td>\n",
       "      <td>2012</td>\n",
       "      <td>6</td>\n",
       "      <td>2012-06-01</td>\n",
       "      <td>607</td>\n",
       "    </tr>\n",
       "    <tr>\n",
       "      <th>617177</th>\n",
       "      <td>15568853</td>\n",
       "      <td>BRUNETTI</td>\n",
       "      <td>Germany</td>\n",
       "      <td>Male</td>\n",
       "      <td>1.00</td>\n",
       "      <td>1.00</td>\n",
       "      <td>86509.48</td>\n",
       "      <td>2014-01-04</td>\n",
       "      <td>2015-08-13</td>\n",
       "      <td>1968-06-08</td>\n",
       "      <td>51.00</td>\n",
       "      <td>2014</td>\n",
       "      <td>1</td>\n",
       "      <td>2014-01-01</td>\n",
       "      <td>649</td>\n",
       "    </tr>\n",
       "    <tr>\n",
       "      <th>1423764</th>\n",
       "      <td>15194912</td>\n",
       "      <td>JAARDA</td>\n",
       "      <td>Italy</td>\n",
       "      <td>Female</td>\n",
       "      <td>0.00</td>\n",
       "      <td>0.00</td>\n",
       "      <td>149427.19</td>\n",
       "      <td>2019-07-09</td>\n",
       "      <td>NaT</td>\n",
       "      <td>1978-04-09</td>\n",
       "      <td>41.00</td>\n",
       "      <td>2019</td>\n",
       "      <td>7</td>\n",
       "      <td>2019-07-01</td>\n",
       "      <td>575</td>\n",
       "    </tr>\n",
       "    <tr>\n",
       "      <th>60176</th>\n",
       "      <td>14912753</td>\n",
       "      <td>NaN</td>\n",
       "      <td>NaN</td>\n",
       "      <td>NaN</td>\n",
       "      <td>NaN</td>\n",
       "      <td>NaN</td>\n",
       "      <td>NaN</td>\n",
       "      <td>2012-03-12</td>\n",
       "      <td>2014-12-28</td>\n",
       "      <td>NaT</td>\n",
       "      <td>NaN</td>\n",
       "      <td>2012</td>\n",
       "      <td>3</td>\n",
       "      <td>2012-03-01</td>\n",
       "      <td>587</td>\n",
       "    </tr>\n",
       "    <tr>\n",
       "      <th>81625</th>\n",
       "      <td>14598774</td>\n",
       "      <td>WHITESEL</td>\n",
       "      <td>Germany</td>\n",
       "      <td>Female</td>\n",
       "      <td>1.00</td>\n",
       "      <td>0.00</td>\n",
       "      <td>125741.86</td>\n",
       "      <td>2012-04-07</td>\n",
       "      <td>2014-12-17</td>\n",
       "      <td>1977-04-26</td>\n",
       "      <td>42.00</td>\n",
       "      <td>2012</td>\n",
       "      <td>4</td>\n",
       "      <td>2012-04-01</td>\n",
       "      <td>625</td>\n",
       "    </tr>\n",
       "  </tbody>\n",
       "</table>\n",
       "</div>"
      ],
      "text/plain": [
       "         CustomerId   Surname Geography  Gender  HasCrCard  IsActiveMember  \\\n",
       "140032     15699011    MOOTRY     Italy  Female       1.00            1.00   \n",
       "617177     15568853  BRUNETTI   Germany    Male       1.00            1.00   \n",
       "1423764    15194912    JAARDA     Italy  Female       0.00            0.00   \n",
       "60176      14912753       NaN       NaN     NaN        NaN             NaN   \n",
       "81625      14598774  WHITESEL   Germany  Female       1.00            0.00   \n",
       "\n",
       "         EstimatedSalary application_date  exit_date birth_date   age  year  \\\n",
       "140032          79115.57       2012-06-15 2013-02-14 1993-07-16 26.00  2012   \n",
       "617177          86509.48       2014-01-04 2015-08-13 1968-06-08 51.00  2014   \n",
       "1423764        149427.19       2019-07-09        NaT 1978-04-09 41.00  2019   \n",
       "60176                NaN       2012-03-12 2014-12-28        NaT   NaN  2012   \n",
       "81625          125741.86       2012-04-07 2014-12-17 1977-04-26 42.00  2012   \n",
       "\n",
       "         month       Date  Score  \n",
       "140032       6 2012-06-01    607  \n",
       "617177       1 2014-01-01    649  \n",
       "1423764      7 2019-07-01    575  \n",
       "60176        3 2012-03-01    587  \n",
       "81625        4 2012-04-01    625  "
      ]
     },
     "execution_count": 215,
     "metadata": {},
     "output_type": "execute_result"
    }
   ],
   "source": [
    "df_clients.sample(5)"
   ]
  },
  {
   "cell_type": "markdown",
   "metadata": {},
   "source": [
    "Drop unnecessary columns"
   ]
  },
  {
   "cell_type": "code",
   "execution_count": 217,
   "metadata": {},
   "outputs": [],
   "source": [
    "df_clients.drop(columns=['year','month','Date'],inplace=True)"
   ]
  },
  {
   "cell_type": "markdown",
   "metadata": {},
   "source": [
    "### Clients"
   ]
  },
  {
   "cell_type": "markdown",
   "metadata": {},
   "source": [
    "Calculate Age"
   ]
  },
  {
   "cell_type": "code",
   "execution_count": 181,
   "metadata": {},
   "outputs": [],
   "source": [
    "def calculate_age(born, cut_date):\n",
    "    return cut_date.year - born.year - ((cut_date.month, cut_date.day) < (born.month, born.day))"
   ]
  },
  {
   "cell_type": "code",
   "execution_count": 182,
   "metadata": {},
   "outputs": [],
   "source": [
    "df_clients['birth_date'] = pd.to_datetime(df_clients['birth_date'])"
   ]
  },
  {
   "cell_type": "code",
   "execution_count": 183,
   "metadata": {},
   "outputs": [],
   "source": [
    "cut_date = pd.to_datetime('2019-11-30')"
   ]
  },
  {
   "cell_type": "code",
   "execution_count": 184,
   "metadata": {},
   "outputs": [],
   "source": [
    "df_clients['age'] = df_clients['birth_date'].apply(calculate_age, cut_date=cut_date)"
   ]
  },
  {
   "cell_type": "markdown",
   "metadata": {},
   "source": [
    "### Final merge"
   ]
  },
  {
   "cell_type": "code",
   "execution_count": 219,
   "metadata": {},
   "outputs": [],
   "source": [
    "df_clients = (df_clients\n",
    "                        .merge(df_products_number,how='left',on='CustomerId')\n",
    "                        .merge(df_transact_pivoted[['CustomerId','balance']],how='left',on='CustomerId')\n",
    "                        )"
   ]
  },
  {
   "cell_type": "code",
   "execution_count": 220,
   "metadata": {},
   "outputs": [
    {
     "data": {
      "text/html": [
       "<div>\n",
       "<style scoped>\n",
       "    .dataframe tbody tr th:only-of-type {\n",
       "        vertical-align: middle;\n",
       "    }\n",
       "\n",
       "    .dataframe tbody tr th {\n",
       "        vertical-align: top;\n",
       "    }\n",
       "\n",
       "    .dataframe thead th {\n",
       "        text-align: right;\n",
       "    }\n",
       "</style>\n",
       "<table border=\"1\" class=\"dataframe\">\n",
       "  <thead>\n",
       "    <tr style=\"text-align: right;\">\n",
       "      <th></th>\n",
       "      <th>CustomerId</th>\n",
       "      <th>Surname</th>\n",
       "      <th>Geography</th>\n",
       "      <th>Gender</th>\n",
       "      <th>HasCrCard</th>\n",
       "      <th>IsActiveMember</th>\n",
       "      <th>EstimatedSalary</th>\n",
       "      <th>application_date</th>\n",
       "      <th>exit_date</th>\n",
       "      <th>birth_date</th>\n",
       "      <th>age</th>\n",
       "      <th>Score</th>\n",
       "      <th>number_of_products</th>\n",
       "      <th>balance</th>\n",
       "    </tr>\n",
       "  </thead>\n",
       "  <tbody>\n",
       "    <tr>\n",
       "      <th>0</th>\n",
       "      <td>15870853</td>\n",
       "      <td>SAICE</td>\n",
       "      <td>France</td>\n",
       "      <td>Female</td>\n",
       "      <td>1.00</td>\n",
       "      <td>1.00</td>\n",
       "      <td>54048.74</td>\n",
       "      <td>2012-01-01</td>\n",
       "      <td>2013-03-19</td>\n",
       "      <td>1980-08-11</td>\n",
       "      <td>39.00</td>\n",
       "      <td>668</td>\n",
       "      <td>4</td>\n",
       "      <td>30284.13</td>\n",
       "    </tr>\n",
       "    <tr>\n",
       "      <th>1</th>\n",
       "      <td>15840520</td>\n",
       "      <td>WEICK</td>\n",
       "      <td>Germany</td>\n",
       "      <td>Male</td>\n",
       "      <td>1.00</td>\n",
       "      <td>1.00</td>\n",
       "      <td>160935.54</td>\n",
       "      <td>2012-01-01</td>\n",
       "      <td>2013-08-29</td>\n",
       "      <td>1940-10-02</td>\n",
       "      <td>79.00</td>\n",
       "      <td>808</td>\n",
       "      <td>2</td>\n",
       "      <td>102525.56</td>\n",
       "    </tr>\n",
       "    <tr>\n",
       "      <th>2</th>\n",
       "      <td>15475971</td>\n",
       "      <td>KIRSCHNER</td>\n",
       "      <td>France</td>\n",
       "      <td>Male</td>\n",
       "      <td>0.00</td>\n",
       "      <td>0.00</td>\n",
       "      <td>79622.75</td>\n",
       "      <td>2012-01-01</td>\n",
       "      <td>2014-11-21</td>\n",
       "      <td>1971-11-25</td>\n",
       "      <td>48.00</td>\n",
       "      <td>716</td>\n",
       "      <td>2</td>\n",
       "      <td>104414.95</td>\n",
       "    </tr>\n",
       "    <tr>\n",
       "      <th>3</th>\n",
       "      <td>15137764</td>\n",
       "      <td>GALLANDER</td>\n",
       "      <td>Spain</td>\n",
       "      <td>Male</td>\n",
       "      <td>1.00</td>\n",
       "      <td>0.00</td>\n",
       "      <td>54108.77</td>\n",
       "      <td>2012-01-01</td>\n",
       "      <td>2015-12-14</td>\n",
       "      <td>1983-08-04</td>\n",
       "      <td>36.00</td>\n",
       "      <td>588</td>\n",
       "      <td>4</td>\n",
       "      <td>50326.85</td>\n",
       "    </tr>\n",
       "    <tr>\n",
       "      <th>4</th>\n",
       "      <td>14614809</td>\n",
       "      <td>STOFSKY</td>\n",
       "      <td>Italy</td>\n",
       "      <td>Male</td>\n",
       "      <td>1.00</td>\n",
       "      <td>0.00</td>\n",
       "      <td>213104.92</td>\n",
       "      <td>2012-01-01</td>\n",
       "      <td>2015-02-07</td>\n",
       "      <td>1974-06-15</td>\n",
       "      <td>45.00</td>\n",
       "      <td>733</td>\n",
       "      <td>3</td>\n",
       "      <td>65715.27</td>\n",
       "    </tr>\n",
       "  </tbody>\n",
       "</table>\n",
       "</div>"
      ],
      "text/plain": [
       "   CustomerId    Surname Geography  Gender  HasCrCard  IsActiveMember  \\\n",
       "0    15870853      SAICE    France  Female       1.00            1.00   \n",
       "1    15840520      WEICK   Germany    Male       1.00            1.00   \n",
       "2    15475971  KIRSCHNER    France    Male       0.00            0.00   \n",
       "3    15137764  GALLANDER     Spain    Male       1.00            0.00   \n",
       "4    14614809    STOFSKY     Italy    Male       1.00            0.00   \n",
       "\n",
       "   EstimatedSalary application_date  exit_date birth_date   age  Score  \\\n",
       "0         54048.74       2012-01-01 2013-03-19 1980-08-11 39.00    668   \n",
       "1        160935.54       2012-01-01 2013-08-29 1940-10-02 79.00    808   \n",
       "2         79622.75       2012-01-01 2014-11-21 1971-11-25 48.00    716   \n",
       "3         54108.77       2012-01-01 2015-12-14 1983-08-04 36.00    588   \n",
       "4        213104.92       2012-01-01 2015-02-07 1974-06-15 45.00    733   \n",
       "\n",
       "   number_of_products   balance  \n",
       "0                   4  30284.13  \n",
       "1                   2 102525.56  \n",
       "2                   2 104414.95  \n",
       "3                   4  50326.85  \n",
       "4                   3  65715.27  "
      ]
     },
     "execution_count": 220,
     "metadata": {},
     "output_type": "execute_result"
    }
   ],
   "source": [
    "df_clients.head()"
   ]
  },
  {
   "cell_type": "markdown",
   "metadata": {},
   "source": [
    "## EDA"
   ]
  },
  {
   "cell_type": "code",
   "execution_count": null,
   "metadata": {},
   "outputs": [],
   "source": []
  },
  {
   "cell_type": "code",
   "execution_count": null,
   "metadata": {},
   "outputs": [],
   "source": []
  }
 ],
 "metadata": {
  "kernelspec": {
   "display_name": "base",
   "language": "python",
   "name": "python3"
  },
  "language_info": {
   "codemirror_mode": {
    "name": "ipython",
    "version": 3
   },
   "file_extension": ".py",
   "mimetype": "text/x-python",
   "name": "python",
   "nbconvert_exporter": "python",
   "pygments_lexer": "ipython3",
   "version": "3.8.8"
  }
 },
 "nbformat": 4,
 "nbformat_minor": 2
}
